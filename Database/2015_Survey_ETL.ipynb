{
  "nbformat": 4,
  "nbformat_minor": 0,
  "metadata": {
    "colab": {
      "name": "2015_Survey_clean_up.ipynb",
      "provenance": [],
      "collapsed_sections": []
    },
    "kernelspec": {
      "name": "python3",
      "display_name": "Python 3"
    },
    "language_info": {
      "name": "python"
    }
  },
  "cells": [
    {
      "cell_type": "code",
      "execution_count": 1,
      "metadata": {
        "colab": {
          "base_uri": "https://localhost:8080/"
        },
        "id": "DnYEjVDT80LX",
        "outputId": "a6324810-d1b7-4e12-8050-0cd79a77c2fc"
      },
      "outputs": [
        {
          "output_type": "stream",
          "name": "stdout",
          "text": [
            "\r0% [Working]\r            \rHit:1 http://archive.ubuntu.com/ubuntu bionic InRelease\n",
            "\r0% [Waiting for headers] [Connecting to security.ubuntu.com (185.125.190.39)] [\r0% [1 InRelease gpgv 242 kB] [Waiting for headers] [Connecting to security.ubun\r                                                                               \rGet:2 http://archive.ubuntu.com/ubuntu bionic-updates InRelease [88.7 kB]\n",
            "\r0% [1 InRelease gpgv 242 kB] [2 InRelease 14.2 kB/88.7 kB 16%] [Waiting for hea\r                                                                               \rGet:3 https://cloud.r-project.org/bin/linux/ubuntu bionic-cran40/ InRelease [3,626 B]\n",
            "\r0% [1 InRelease gpgv 242 kB] [2 InRelease 15.6 kB/88.7 kB 18%] [Waiting for hea\r0% [1 InRelease gpgv 242 kB] [Waiting for headers] [Waiting for headers] [Waiti\r                                                                               \rHit:4 http://ppa.launchpad.net/c2d4u.team/c2d4u4.0+/ubuntu bionic InRelease\n",
            "\r0% [1 InRelease gpgv 242 kB] [Waiting for headers] [Waiting for headers] [Waiti\r                                                                               \rGet:5 http://security.ubuntu.com/ubuntu bionic-security InRelease [88.7 kB]\n",
            "\r0% [1 InRelease gpgv 242 kB] [Waiting for headers] [5 InRelease 14.2 kB/88.7 kB\r                                                                               \rIgn:6 https://developer.download.nvidia.com/compute/machine-learning/repos/ubuntu1804/x86_64  InRelease\n",
            "\r0% [1 InRelease gpgv 242 kB] [Waiting for headers] [5 InRelease 14.2 kB/88.7 kB\r                                                                               \rHit:7 https://developer.download.nvidia.com/compute/cuda/repos/ubuntu1804/x86_64  InRelease\n",
            "\r0% [1 InRelease gpgv 242 kB] [Waiting for headers] [5 InRelease 14.2 kB/88.7 kB\r                                                                               \rGet:8 http://archive.ubuntu.com/ubuntu bionic-backports InRelease [74.6 kB]\n",
            "Hit:9 https://developer.download.nvidia.com/compute/machine-learning/repos/ubuntu1804/x86_64  Release\n",
            "Hit:10 http://ppa.launchpad.net/cran/libgit2/ubuntu bionic InRelease\n",
            "Hit:11 http://ppa.launchpad.net/deadsnakes/ppa/ubuntu bionic InRelease\n",
            "Hit:12 http://ppa.launchpad.net/graphics-drivers/ppa/ubuntu bionic InRelease\n",
            "Fetched 256 kB in 3s (102 kB/s)\n",
            "Reading package lists... Done\n"
          ]
        }
      ],
      "source": [
        "import os\n",
        "# Find the latest version of spark 3.0 from http://www.apache.org/dist/spark/ and enter as the spark version\n",
        "# For example:\n",
        "# spark_version = 'spark-3.0.3'\n",
        "spark_version = 'spark-3.1.3'\n",
        "os.environ['SPARK_VERSION']=spark_version\n",
        "\n",
        "# Install Spark and Java\n",
        "!apt-get update\n",
        "!apt-get install openjdk-11-jdk-headless -qq > /dev/null\n",
        "!wget -q http://www.apache.org/dist/spark/$SPARK_VERSION/$SPARK_VERSION-bin-hadoop2.7.tgz\n",
        "!tar xf $SPARK_VERSION-bin-hadoop2.7.tgz\n",
        "!pip install -q findspark\n",
        "\n",
        "# Set Environment Variables\n",
        "import os\n",
        "os.environ[\"JAVA_HOME\"] = \"/usr/lib/jvm/java-11-openjdk-amd64\"\n",
        "os.environ[\"SPARK_HOME\"] = f\"/content/{spark_version}-bin-hadoop2.7\"\n",
        "\n",
        "# Start a SparkSession\n",
        "import findspark\n",
        "findspark.init()"
      ]
    },
    {
      "cell_type": "code",
      "source": [
        "# postgres driver\n",
        "!wget https://jdbc.postgresql.org/download/postgresql-42.2.16.jar"
      ],
      "metadata": {
        "colab": {
          "base_uri": "https://localhost:8080/"
        },
        "id": "hNBAdpwgBtOC",
        "outputId": "f5033499-fdc1-4a73-8cc2-659727ea2c5d"
      },
      "execution_count": 2,
      "outputs": [
        {
          "output_type": "stream",
          "name": "stdout",
          "text": [
            "--2022-09-05 05:11:22--  https://jdbc.postgresql.org/download/postgresql-42.2.16.jar\n",
            "Resolving jdbc.postgresql.org (jdbc.postgresql.org)... 72.32.157.228, 2001:4800:3e1:1::228\n",
            "Connecting to jdbc.postgresql.org (jdbc.postgresql.org)|72.32.157.228|:443... connected.\n",
            "HTTP request sent, awaiting response... 200 OK\n",
            "Length: 1002883 (979K) [application/java-archive]\n",
            "Saving to: ‘postgresql-42.2.16.jar.1’\n",
            "\n",
            "postgresql-42.2.16. 100%[===================>] 979.38K  6.23MB/s    in 0.2s    \n",
            "\n",
            "2022-09-05 05:11:22 (6.23 MB/s) - ‘postgresql-42.2.16.jar.1’ saved [1002883/1002883]\n",
            "\n"
          ]
        }
      ]
    },
    {
      "cell_type": "code",
      "source": [
        "## add session + driver to spark\n",
        "from pyspark.sql import SparkSession\n",
        "spark = SparkSession.builder.appName(\"CloudETL\").config(\"spark.driver.extraClassPath\",\"/content/postgresql-42.2.16.jar\").getOrCreate()"
      ],
      "metadata": {
        "id": "JvN2kZ1DCYDC"
      },
      "execution_count": 3,
      "outputs": []
    },
    {
      "cell_type": "code",
      "source": [
        "# extract \n",
        "# Read in data from S3 Buckets\n",
        "from pyspark import SparkFiles\n",
        "url =\"https://bootcamp-adri.s3.us-west-1.amazonaws.com/data/BootCampProject/2015_Survey.csv\"\n",
        "spark.sparkContext.addFile(url)\n",
        "survey_data_df = spark.read.csv(SparkFiles.get(\"2015_Survey.csv\"), sep=\",\", header=True, inferSchema=True)"
      ],
      "metadata": {
        "id": "DXEQKOzjChdx"
      },
      "execution_count": 4,
      "outputs": []
    },
    {
      "cell_type": "code",
      "source": [
        "#df \n",
        "# Show DataFrame\n",
        "survey_data_df.show(10)"
      ],
      "metadata": {
        "id": "lUoW-Ze-EXNt",
        "colab": {
          "base_uri": "https://localhost:8080/"
        },
        "outputId": "1be9ab4c-947d-4142-d25c-077e6ec61d38"
      },
      "execution_count": 5,
      "outputs": [
        {
          "output_type": "stream",
          "name": "stdout",
          "text": [
            "+------+------+-----------+------+-----+-------+--------+----------+----------+--------+--------+--------+--------+--------+------+--------+-------+--------+--------+--------+------+--------+--------+------+--------+-------+-------+--------+--------+--------+--------+--------+-------+--------+-------+------+--------+-------+-------+--------+--------+--------+-------+-------+--------+--------+--------+--------+--------+--------+--------+--------+---+-------+-----+--------+--------+--------+-------+--------+-------+--------+-------+--------+-------+-------+--------+--------+--------+-----+------+--------+--------+--------+--------+--------+--------+--------+-------+-------+--------+--------+--------+--------+------+-------+-------+-------+--------+--------+--------+--------+--------+--------+--------+--------+--------+--------+--------+--------+--------+--------+--------+--------+--------+--------+-------+--------+--------+--------+--------+-------+--------+--------+--------+--------+-------+-------+-------+-------+--------+--------+--------+-------+--------+--------+--------+--------+--------+--------+--------+--------+--------+--------+--------+--------+--------+--------+--------+--------+--------+--------+--------+-------+--------+------+--------+--------+--------+--------+--------+--------+--------+--------+--------+--------+--------+--------+--------+--------+--------+--------+--------+--------+--------+--------+--------+--------+--------+-------+--------+-------+-------+--------+--------+--------+------+-------+-------+--------+-------+--------+--------+--------+--------+--------+--------+--------+--------+--------+--------+--------+--------+--------+-------+--------+--------+--------+--------+--------+--------+--------+--------+--------+--------+--------+--------+--------+--------+--------+--------+--------+--------+------+-------+--------+------+------+-------+------+-------+-------+------+-------+-------------------+------------+------+------+----------+--------+-----------+--------+-------+-------+--------+--------+-----------+-----------+-------+--------+--------+--------+-------+------+--------+--------+--------+--------+-------+-------+--------+-----+--------+--------+--------+--------+--------+------+------+-----+----+-----+-----+--------+-------+--------+-------+-------+--------+--------+--------+--------+--------+--------+--------+--------+--------+--------+--------+--------+--------+--------+--------+--------+--------+--------+--------+-------+-------+------+------+--------+--------+--------+--------+--------+-------+-----+--------+--------+-------+-------+--------+--------+--------+--------+--------+--------+--------+--------+-------+--------+--------+--------+-------+--------+--------+--------+--------+--------+-------+--------+--------+--------+--------+--------+--------+--------+--------+--------+\n",
            "|_STATE|FMONTH|      IDATE|IMONTH| IDAY|  IYEAR|DISPCODE|     SEQNO|      _PSU|CTELENUM|PVTRESD1|COLGHOUS|STATERES|CELLFON3|LADULT|NUMADULT| NUMMEN|NUMWOMEN|CTELNUM1|CELLFON2|CADULT|PVTRESD2|CCLGHOUS|CSTATE|LANDLINE|HHADULT|GENHLTH|PHYSHLTH|MENTHLTH|POORHLTH|HLTHPLN1|PERSDOC2|MEDCOST|CHECKUP1|BPHIGH4|BPMEDS|BLOODCHO|CHOLCHK|TOLDHI2|CVDINFR4|CVDCRHD4|CVDSTRK3|ASTHMA3|ASTHNOW|CHCSCNCR|CHCOCNCR|CHCCOPD1|HAVARTH3|ADDEPEV2|CHCKIDNY|DIABETE3|DIABAGE2|SEX|MARITAL|EDUCA|RENTHOM1|NUMHHOL2|NUMPHON2|CPDEMO1|VETERAN3|EMPLOY1|CHILDREN|INCOME2|INTERNET|WEIGHT2|HEIGHT3|PREGNANT|QLACTLM2|USEEQUIP|BLIND|DECIDE|DIFFWALK|DIFFDRES|DIFFALON|SMOKE100|SMOKDAY2|STOPSMK2|LASTSMK2|USENOW3|ALCDAY5|AVEDRNK2|DRNK3GE5|MAXDRNKS|FRUITJU1|FRUIT1|FVBEANS|FVGREEN|FVORANG|VEGETAB1|EXERANY2|EXRACT11|EXEROFT1|EXERHMM1|EXRACT21|EXEROFT2|EXERHMM2|STRENGTH|LMTJOIN3|ARTHDIS2|ARTHSOCL|JOINPAIN|SEATBELT|FLUSHOT6|FLSHTMY2|IMFVPLAC|PNEUVAC3|HIVTST6|HIVTSTD3|WHRTST10|PDIABTST|PREDIAB1|INSULIN|BLDSUGAR|FEETCHK2|DOCTDIAB|CHKHEMO3|FEETCHK|EYEEXAM|DIABEYE|DIABEDU|PAINACT2|QLMENTL2|QLSTRES2|QLHLTH2|CAREGIV1|CRGVREL1|CRGVLNG1|CRGVHRS1|CRGVPRB1|CRGVPERS|CRGVHOUS|CRGVMST2|CRGVEXPT|VIDFCLT2|VIREDIF3|VIPRFVS2|VINOCRE2|VIEYEXM2|VIINSUR2|VICTRCT4|VIGLUMA2|VIMACDG2|CIMEMLOS|CDHOUSE|CDASSIST|CDHELP|CDSOCIAL|CDDISCUS|WTCHSALT|LONGWTCH|DRADVISE|ASTHMAGE|ASATTACK|ASERVIST|ASDRVIST|ASRCHKUP|ASACTLIM|ASYMPTOM|ASNOSLEP|ASTHMED3|ASINHALR|HAREHAB1|STREHAB1|CVDASPRN|ASPUNSAF|RLIVPAIN|RDUCHART|RDUCSTRK|ARTTODAY|ARTHWGT|ARTHEXER|ARTHEDU|TETANUS|HPVADVC2|HPVADSHT|SHINGLE2|HADMAM|HOWLONG|HADPAP2|LASTPAP2|HPVTEST|HPLSTTST|HADHYST2|PROFEXAM|LENGEXAM|BLDSTOOL|LSTBLDS3|HADSIGM3|HADSGCO1|LASTSIG3|PCPSAAD2|PCPSADI1|PCPSARE1|PSATEST1|PSATIME|PCPSARS1|PCPSADE1|PCDMDECN|SCNTMNY1|SCNTMEL1|SCNTPAID|SCNTWRK1|SCNTLPAD|SCNTLWK1|SXORIENT|TRNSGNDR|RCSGENDR|RCSRLTN2|CASTHDX2|CASTHNO2|EMTSUPRT|LSATISFY|ADPLEASR|ADDOWN|ADSLEEP|ADENERGY|ADEAT1|ADFAIL|ADTHINK|ADMOVE|MISTMNT|ADANXEV|QSTVER|QSTLANG|           EXACTOT1|    EXACTOT2|MSCODE|_STSTR|    _STRWT|_RAWRAKE|   _WT2RAKE|_CHISPNC|_CRACE1|_CPRACE|_CLLCPWT|_DUALUSE|   _DUALCOR|    _LLCPWT|_RFHLTH|_HCVU651|_RFHYPE5|_CHOLCHK|_RFCHOL|_MICHD|_LTASTH1|_CASTHM1|_ASTHMS1|_DRDXAR1|_PRACE1|_MRACE1|_HISPANC|_RACE|_RACEG21|_RACEGR3|_RACE_G1|_AGEG5YR|_AGE65YR|_AGE80|_AGE_G|HTIN4|HTM4|WTKG3|_BMI5|_BMI5CAT|_RFBMI5|_CHLDCNT|_EDUCAG|_INCOMG|_SMOKER3|_RFSMOK3|DRNKANY5|DROCDY3_|_RFBING5|_DRNKWEK|_RFDRHV5|FTJUDA1_|FRUTDA1_|BEANDAY_|GRENDAY_|ORNGDAY_|VEGEDA1_|_MISFRTN|_MISVEGN|_FRTRESP|_VEGRESP|_FRUTSUM|_VEGESUM|_FRTLT1|_VEGLT1|_FRT16|_VEG23|_FRUITEX|_VEGETEX|_TOTINDA|METVL11_|METVL21_|MAXVO2_|FC60_|ACTIN11_|ACTIN21_|PADUR1_|PADUR2_|PAFREQ1_|PAFREQ2_|_MINAC11|_MINAC21|STRFREQ_|PAMISS1_|PAMIN11_|PAMIN21_|PA1MIN_|PAVIG11_|PAVIG21_|PA1VIGM_|_PACAT1|_PAINDX1|_PA150R2|_PA300R2|_PA30021|_PASTRNG|_PAREC1|_PASTAE1|_LMTACT1|_LMTWRK1|_LMTSCL1|_RFSEAT2|_RFSEAT3|_FLSHOT6|_PNEUMO2|_AIDTST3|\n",
            "+------+------+-----------+------+-----+-------+--------+----------+----------+--------+--------+--------+--------+--------+------+--------+-------+--------+--------+--------+------+--------+--------+------+--------+-------+-------+--------+--------+--------+--------+--------+-------+--------+-------+------+--------+-------+-------+--------+--------+--------+-------+-------+--------+--------+--------+--------+--------+--------+--------+--------+---+-------+-----+--------+--------+--------+-------+--------+-------+--------+-------+--------+-------+-------+--------+--------+--------+-----+------+--------+--------+--------+--------+--------+--------+--------+-------+-------+--------+--------+--------+--------+------+-------+-------+-------+--------+--------+--------+--------+--------+--------+--------+--------+--------+--------+--------+--------+--------+--------+--------+--------+--------+--------+-------+--------+--------+--------+--------+-------+--------+--------+--------+--------+-------+-------+-------+-------+--------+--------+--------+-------+--------+--------+--------+--------+--------+--------+--------+--------+--------+--------+--------+--------+--------+--------+--------+--------+--------+--------+--------+-------+--------+------+--------+--------+--------+--------+--------+--------+--------+--------+--------+--------+--------+--------+--------+--------+--------+--------+--------+--------+--------+--------+--------+--------+--------+-------+--------+-------+-------+--------+--------+--------+------+-------+-------+--------+-------+--------+--------+--------+--------+--------+--------+--------+--------+--------+--------+--------+--------+--------+-------+--------+--------+--------+--------+--------+--------+--------+--------+--------+--------+--------+--------+--------+--------+--------+--------+--------+--------+------+-------+--------+------+------+-------+------+-------+-------+------+-------+-------------------+------------+------+------+----------+--------+-----------+--------+-------+-------+--------+--------+-----------+-----------+-------+--------+--------+--------+-------+------+--------+--------+--------+--------+-------+-------+--------+-----+--------+--------+--------+--------+--------+------+------+-----+----+-----+-----+--------+-------+--------+-------+-------+--------+--------+--------+--------+--------+--------+--------+--------+--------+--------+--------+--------+--------+--------+--------+--------+--------+--------+--------+-------+-------+------+------+--------+--------+--------+--------+--------+-------+-----+--------+--------+-------+-------+--------+--------+--------+--------+--------+--------+--------+--------+-------+--------+--------+--------+-------+--------+--------+--------+--------+--------+-------+--------+--------+--------+--------+--------+--------+--------+--------+--------+\n",
            "|     1|     1|b'01292015'| b'01'|b'29'|b'2015'|    1200|2015000001|2015000001|       1|       1|    null|       1|       2|  null|       3|    1.0|     2.0|    null|    null|  null|    null|    null|  null|    null|   null|      5|      15|      18|      10|       1|       1|      2|       1|      1|     1|       1|      1|      1|       2|       2|       2|      1|      1|       2|       2|       1|       1|       1|       2|       3|    null|  2|      1|    4|       1|       2|    null|      1|       2|      8|      88|      3|       2|    280|    510|    null|       1|       1|    2|     2|       1|       1|       1|       1|       3|    null|       2|      3|    888|    null|    null|    null|     305|   310|    320|    310|    305|     101|       2|    null|    null|    null|    null|    null|    null|     888|       1|       1|       1|     6.0|       1|       1|  112014|       1|       1|      1|    null|    null|       1|       3|   null|    null|    null|    null|    null|   null|   null|   null|   null|    null|    null|    null|   null|    null|    null|    null|    null|    null|    null|    null|    null|    null|    null|    null|    null|    null|    null|    null|    null|    null|    null|    null|   null|    null|  null|    null|    null|    null|    null|    null|    null|    null|    null|    null|    null|    null|    null|    null|    null|    null|    null|    null|    null|    null|    null|    null|    null|    null|   null|    null|   null|   null|    null|    null|    null|  null|   null|   null|    null|   null|    null|    null|    null|    null|    null|    null|    null|    null|    null|    null|    null|    null|    null|   null|    null|    null|     b''|    null|    null|    null|    null|    null|    null|    null|    null|    null|    null|    null|    null|    null|    null|    null|  null|   null|    null|  null|  null|   null|  null|   null|   null|    10|      1|                b''|         b''|     3| 11011|28.7815602|     3.0|86.34468059|    null|   null|   null|    null|       1|0.614124682|341.3848527|      2|       1|       2|       1|      2|     2|       2|       2|       1|       1|      1|      1|       2|    1|       1|       1|       1|       9|       1|    63|     5|   70| 178|12701| 4018|       4|      2|       1|      2|      2|       3|       1|       2| 5.4E-79|       1| 5.4E-79|       1|    17.0|    33.0|    67.0|    33.0|    17.0|   100.0| 5.4E-79| 5.4E-79|     1.0|     1.0|    50.0|   217.0|      2|      1|   1.0|   1.0| 5.4E-79| 5.4E-79|       2|    null|    null|   2469|  423|    null|    null|   null|   null|    null|    null|    null|    null| 5.4E-79| 5.4E-79|    null|    null|   null|    null|    null|    null|      4|       2|       3|       3|       2|       2|      4|       2|       1|       1|       1|       1|       1|    null|    null|       1|\n",
            "|     1|     1|b'01202015'| b'01'|b'20'|b'2015'|    1100|2015000002|2015000002|       1|       1|    null|       1|       2|  null|       1|5.4E-79|     1.0|    null|    null|  null|    null|    null|  null|    null|   null|      3|      88|      88|    null|       2|       1|      1|       4|      3|  null|       1|      4|      2|       2|       2|       2|      2|   null|       2|       2|       2|       2|       2|       2|       3|    null|  2|      2|    6|       1|       2|    null|      2|       2|      3|      88|      1|       1|    165|    508|    null|       1|       2|    1|     1|       2|       2|       2|       1|       1|       2|    null|      3|    888|    null|    null|    null|     302|   305|    302|    202|    202|     304|       1|      64|     212|     100|      69|     212|     100|     888|    null|    null|    null|    null|       3|       2|    null|    null|       2|      2|    null|    null|       2|       3|   null|    null|    null|    null|    null|   null|   null|   null|   null|    null|    null|    null|   null|       2|    null|    null|    null|    null|    null|    null|    null|       1|    null|    null|    null|    null|    null|    null|    null|    null|    null|       1|      5|       5|  null|       5|       2|       2|    null|       2|    null|    null|    null|    null|    null|    null|    null|    null|    null|    null|    null|    null|    null|    null|    null|    null|    null|    null|   null|    null|   null|   null|    null|    null|    null|  null|   null|   null|    null|   null|    null|    null|    null|    null|       2|    null|       2|    null|    null|    null|    null|    null|    null|   null|    null|    null|     b''|       1|       2|    null|    null|       2|      60|    null|    null|    null|    null|    null|    null|    null|    null|    null|  null|   null|    null|  null|  null|   null|  null|   null|   null|    10|      1|                b''|         b''|     5| 11011|28.7815602|     1.0| 28.7815602|    null|   null|   null|    null|       9|       null|108.0609033|      1|       2|       1|       2|      1|     2|       1|       1|       3|       2|      1|      1|       2|    1|       1|       1|       1|       7|       1|    52|     4|   68| 173| 7484| 2509|       3|      2|       1|      4|      1|       1|       2|       2| 5.4E-79|       1| 5.4E-79|       1|     7.0|    17.0|     7.0|    29.0|    29.0|    13.0| 5.4E-79| 5.4E-79|     1.0|     1.0|    24.0|    78.0|      2|      2|   1.0|   1.0| 5.4E-79| 5.4E-79|       1|    35.0| 5.4E-79|   2876|  493|     1.0| 5.4E-79|     60|     60|    2800|    2800|   168.0| 5.4E-79| 5.4E-79| 5.4E-79|   168.0| 5.4E-79|  168.0| 5.4E-79| 5.4E-79| 5.4E-79|      2|       1|       1|       2|       2|       2|      2|       2|       3|       3|       4|       2|       2|    null|    null|       2|\n",
            "|     1|     1|b'02012015'| b'02'|b'01'|b'2015'|    1200|2015000003|2015000003|       1|       1|    null|       1|       2|  null|       2|    1.0|     1.0|    null|    null|  null|    null|    null|  null|    null|   null|      4|      15|      88|      88|       1|       2|      2|       1|      3|  null|       1|      1|      1|       7|       2|       1|      2|   null|       2|       1|       2|       1|       2|       2|       3|    null|  2|      2|    4|       1|       2|    null|      1|       2|      7|      88|     99|       2|    158|    511|    null|       2|       2|    2|     2|    null|    null|    null|    null|    null|    null|    null|   null|   null|    null|    null|    null|    null|  null|   null|   null|   null|    null|    null|    null|    null|    null|    null|    null|    null|    null|    null|    null|    null|    null|    null|    null|    null|    null|    null|   null|    null|    null|       1|       3|   null|    null|    null|    null|    null|   null|   null|   null|   null|    null|    null|    null|   null|    null|    null|    null|    null|    null|    null|    null|    null|    null|    null|    null|    null|    null|    null|    null|    null|    null|    null|    null|   null|    null|  null|    null|    null|    null|    null|    null|    null|    null|    null|    null|    null|    null|    null|    null|    null|    null|    null|    null|    null|    null|    null|    null|    null|    null|   null|    null|   null|   null|    null|    null|    null|  null|   null|   null|    null|   null|    null|    null|    null|    null|    null|    null|    null|    null|    null|    null|    null|    null|    null|   null|    null|    null|     b''|    null|    null|    null|    null|    null|    null|    null|    null|    null|    null|    null|    null|    null|    null|    null|  null|   null|    null|  null|  null|   null|  null|   null|   null|    10|      1|                b''|         b''|     5| 11011|28.7815602|     2.0|57.56312039|    null|   null|   null|    null|       1|0.614124682|255.2647965|      2|       9|       1|       1|      2|  null|       1|       1|       3|       1|      1|      1|       2|    1|       1|       1|       1|      11|       2|    71|     6|   71| 180| 7167| 2204|       2|      1|       1|      2|      9|       9|       9|       9|   900.0|       9| 99900.0|       9|    null|    null|    null|    null|    null|    null|     2.0|     4.0| 5.4E-79| 5.4E-79|    null|    null|      9|      9|   1.0|   1.0|     1.0|     1.0|       9|    null|    null|   2173|  373|    null|    null|   null|   null|    null|    null|    null|    null|    null|     9.0|    null|    null|   null|    null|    null|    null|      9|       9|       9|       9|       9|       9|      9|       9|       9|       9|       9|       9|       9|       9|       9|    null|\n",
            "|     1|     1|b'01142015'| b'01'|b'14'|b'2015'|    1100|2015000004|2015000004|       1|       1|    null|       1|       2|  null|       3|    1.0|     2.0|    null|    null|  null|    null|    null|  null|    null|   null|      5|      30|      30|      30|       1|       2|      1|       1|      1|     1|       1|      1|      1|       2|       2|       2|      2|   null|       2|       1|       2|       1|       1|       2|       3|    null|  2|      1|    4|       1|       2|    null|      1|       2|      8|       1|      8|       2|    180|    507|    null|       1|       2|    1|     1|       1|       2|       1|       2|    null|    null|    null|      3|    888|    null|    null|    null|     555|   101|    555|    301|    301|     201|       2|    null|    null|    null|    null|    null|    null|     888|       1|       1|       1|     8.0|       1|       1|  777777|       5|       1|      9|    null|    null|       2|       3|   null|    null|    null|    null|    null|   null|   null|   null|   null|    null|    null|    null|   null|       2|    null|    null|    null|    null|    null|    null|    null|       2|    null|    null|    null|    null|    null|    null|    null|    null|    null|       1|      1|       1|     2|       1|       1|       2|    null|       2|    null|    null|    null|    null|    null|    null|    null|    null|    null|    null|    null|    null|    null|    null|    null|    null|    null|    null|   null|    null|   null|   null|    null|    null|    null|  null|   null|   null|    null|   null|    null|    null|    null|    null|       2|    null|       1|       2|       1|    null|    null|    null|    null|   null|    null|    null|     b''|       4|       7|    null|    null|    null|      97|    null|    null|    null|    null|    null|    null|    null|    null|    null|  null|   null|    null|  null|  null|   null|  null|   null|   null|    10|      1|                b''|         b''|     3| 11011|28.7815602|     3.0|86.34468059|    null|   null|   null|    null|       1|0.614124682|341.3848527|      2|       1|       2|       1|      2|     2|       1|       1|       3|       1|      1|      1|       2|    1|       1|       1|       1|       9|       1|    63|     5|   67| 170| 8165| 2819|       3|      2|       2|      2|      5|       4|       1|       2| 5.4E-79|       1| 5.4E-79|       1| 5.4E-79|   100.0| 5.4E-79|     3.0|     3.0|    14.0| 5.4E-79| 5.4E-79|     1.0|     1.0|   100.0|    20.0|      1|      2|   1.0|   1.0| 5.4E-79| 5.4E-79|       2|    null|    null|   2469|  423|    null|    null|   null|   null|    null|    null|    null|    null| 5.4E-79| 5.4E-79|    null|    null|   null|    null|    null|    null|      4|       2|       3|       3|       2|       2|      4|       2|       1|       1|       1|       1|       1|    null|    null|       9|\n",
            "|     1|     1|b'01142015'| b'01'|b'14'|b'2015'|    1100|2015000005|2015000005|       1|       1|    null|       1|       2|  null|       2|    1.0|     1.0|    null|    null|  null|    null|    null|  null|    null|   null|      5|      20|      88|      30|       1|       1|      2|       1|      3|  null|       1|      1|      2|       2|       2|       2|      2|   null|       2|       2|       2|       1|       2|       2|       3|    null|  2|      1|    5|       1|       2|    null|      2|       2|      8|      88|     77|       1|    142|    504|    null|       2|       2|    2|     2|       2|       2|       2|       2|    null|    null|    null|      3|    888|    null|    null|    null|     777|   102|    203|    204|    310|     320|       2|    null|    null|    null|    null|    null|    null|     888|       1|       1|       1|     7.0|       1|       2|    null|    null|       1|      1|  777777|       1|       1|       3|   null|    null|    null|    null|    null|   null|   null|   null|   null|    null|    null|    null|   null|       2|    null|    null|    null|    null|    null|    null|    null|       7|    null|    null|    null|    null|    null|    null|    null|    null|    null|       2|   null|    null|  null|    null|    null|       1|     777|       2|    null|    null|    null|    null|    null|    null|    null|    null|    null|    null|    null|    null|    null|    null|    null|    null|    null|    null|   null|    null|   null|   null|    null|    null|    null|  null|   null|   null|    null|   null|    null|    null|    null|    null|       2|    null|       1|       2|       5|    null|    null|    null|    null|   null|    null|    null|     b''|       5|       5|    null|    null|    null|      45|    null|    null|    null|    null|    null|    null|    null|    null|    null|  null|   null|    null|  null|  null|   null|  null|   null|   null|    10|      1|                b''|         b''|     3| 11011|28.7815602|     2.0|57.56312039|    null|   null|   null|    null|       9|       null| 258.682223|      2|       1|       1|       1|      1|     2|       1|       1|       3|       1|      1|      1|       2|    1|       1|       1|       1|       9|       1|    61|     5|   64| 163| 6441| 2437|       2|      1|       1|      3|      9|       4|       1|       2| 5.4E-79|       1| 5.4E-79|       1|    null|   200.0|    43.0|    57.0|    33.0|    67.0|     1.0| 5.4E-79| 5.4E-79|     1.0|    null|   200.0|      9|      1|   1.0|   1.0|     1.0| 5.4E-79|       2|    null|    null|   2543|  436|    null|    null|   null|   null|    null|    null|    null|    null| 5.4E-79| 5.4E-79|    null|    null|   null|    null|    null|    null|      4|       2|       3|       3|       2|       2|      4|       2|       1|       1|       1|       1|       1|    null|    null|       1|\n",
            "|     1|     1|b'01142015'| b'01'|b'14'|b'2015'|    1100|2015000006|2015000006|       1|       1|    null|       1|       2|  null|       1|5.4E-79|     1.0|    null|    null|  null|    null|    null|  null|    null|   null|      2|      88|      88|    null|       1|       1|      2|       1|      1|     1|       1|      1|      2|       2|       2|       2|      2|   null|       2|       2|       2|       1|       2|       2|       3|    null|  2|      3|    3|       1|       2|    null|      2|       2|      2|      88|      6|       2|    145|    502|    null|       1|       2|    2|     2|       2|       2|       2|       2|    null|    null|    null|      3|    888|    null|    null|    null|     101|   101|    102|    101|    102|     101|       1|      18|     101|     100|      73|     107|      30|     888|       1|       2|       3|     4.0|       1|       1|  112014|       1|       1|      2|    null|    null|       1|       3|   null|    null|    null|    null|    null|   null|   null|   null|   null|    null|    null|    null|   null|       2|    null|    null|    null|    null|    null|    null|    null|       2|    null|    null|    null|    null|    null|    null|    null|    null|    null|       2|   null|    null|  null|    null|    null|       1|     415|       2|    null|    null|    null|    null|    null|    null|    null|    null|    null|    null|    null|    null|    null|    null|    null|    null|    null|    null|   null|    null|   null|   null|    null|    null|    null|  null|   null|   null|    null|   null|    null|    null|    null|    null|       2|    null|       1|       2|       1|    null|    null|    null|    null|   null|    null|    null|     b''|       5|       5|       1|      54|    null|    null|    null|    null|    null|    null|    null|    null|    null|    null|    null|  null|   null|    null|  null|  null|   null|  null|   null|   null|    10|      1|                b''|         b''|     5| 11011|28.7815602|     1.0| 28.7815602|    null|   null|   null|    null|       9|       null|256.5185913|      1|       9|       2|       1|      1|     2|       1|       1|       3|       1|      1|      1|       2|    1|       1|       1|       1|      11|       2|    73|     6|   62| 157| 6577| 2652|       3|      2|       1|      1|      4|       4|       1|       2| 5.4E-79|       1| 5.4E-79|       1|   100.0|   100.0|   200.0|   100.0|   200.0|   100.0| 5.4E-79| 5.4E-79|     1.0|     1.0|   200.0|   600.0|      1|      1|   1.0|   1.0| 5.4E-79| 5.4E-79|       1|    50.0|    33.0|   2099|  360|     2.0|     1.0|     60|     30|    1000|    7000|    60.0|   210.0| 5.4E-79| 5.4E-79|   120.0|   210.0|  330.0|    60.0| 5.4E-79|    60.0|      1|       1|       1|       1|       1|       2|      2|       2|       1|       2|       3|       1|       1|       1|       1|       2|\n",
            "|     1|     1|b'01052015'| b'01'|b'05'|b'2015'|    1100|2015000007|2015000007|       1|       1|    null|       1|       2|  null|       1|5.4E-79|     1.0|    null|    null|  null|    null|    null|  null|    null|   null|      2|      88|       3|      88|       1|       1|      2|       1|      1|     1|       1|      1|      1|       2|       2|       2|      2|   null|       2|       2|       2|       2|       2|       2|       3|    null|  2|      3|    5|       1|       2|    null|      2|       2|      7|      88|      4|       2|    148|    506|    null|       2|       2|    2|     2|       2|       2|       2|       2|    null|    null|    null|      3|    203|       1|      88|       1|     330|   202|    302|    202|    302|     205|       1|      18|     102|     100|      64|     107|      15|     888|    null|    null|    null|    null|       1|       2|    null|    null|       1|      1|   91991|       4|       2|       3|   null|    null|    null|    null|    null|   null|   null|   null|   null|    null|    null|    null|   null|       8|    null|    null|    null|    null|    null|    null|    null|    null|    null|    null|    null|    null|    null|    null|    null|    null|    null|       2|   null|    null|  null|    null|    null|       1|     403|       1|    null|    null|    null|    null|    null|    null|    null|    null|    null|    null|    null|    null|    null|    null|    null|    null|    null|    null|   null|    null|   null|   null|    null|    null|    null|  null|   null|   null|    null|   null|    null|    null|    null|    null|       1|       5|       1|       1|       6|    null|    null|    null|    null|   null|    null|    null|     b''|       4|       5|    null|    null|       2|      40|    null|    null|    null|    null|    null|    null|    null|    null|    null|  null|   null|    null|  null|  null|   null|  null|   null|   null|    10|      1|                b''|         b''|     1| 11011|28.7815602|     1.0| 28.7815602|    null|   null|   null|    null|       9|       null|85.65975469|      1|       9|       2|       1|      2|     2|       1|       1|       3|       2|      1|      7|       2|    7|       2|       4|       5|      11|       2|    70|     6|   66| 168| 6713| 2389|       2|      1|       1|      3|      2|       4|       1|       1|    10.0|       1|    70.0|       1|   100.0|    29.0|     7.0|    29.0|     7.0|    71.0| 5.4E-79| 5.4E-79|     1.0|     1.0|   129.0|   114.0|      1|      1|   1.0|   1.0| 5.4E-79| 5.4E-79|       1|    50.0|    35.0|   2210|  379|     2.0|     1.0|     60|     15|    2000|    7000|   120.0|   105.0| 5.4E-79| 5.4E-79|   240.0|   105.0|  345.0|   120.0| 5.4E-79|   120.0|      1|       1|       1|       1|       1|       2|      2|       2|       3|       3|       4|       1|       1|       2|       1|       1|\n",
            "|     1|     1|b'01142015'| b'01'|b'14'|b'2015'|    1100|2015000008|2015000008|       1|       1|    null|       1|       2|  null|       2|    1.0|     1.0|    null|    null|  null|    null|    null|  null|    null|   null|      5|       8|      88|       8|       1|       1|      1|       1|      1|     1|       1|      1|      1|       7|       2|       2|      2|   null|       2|       2|       2|       1|       2|       7|       3|    null|  1|      1|    3|       1|       2|    null|      1|       1|      3|      88|      3|       2|    179|    501|    null|       1|       2|    2|     2|       1|       2|       2|       1|       3|    null|       7|      3|    888|    null|    null|    null|     102|   101|    202|    101|    303|     202|       1|      64|     106|      12|      98|     107|       5|     888|       1|       1|       1|    77.0|       1|       1|  122014|       1|       1|      1|  777777|       4|       1|       3|   null|    null|    null|    null|    null|   null|   null|   null|   null|    null|    null|    null|   null|       2|    null|    null|    null|    null|    null|    null|    null|       2|    null|    null|    null|    null|    null|    null|    null|    null|    null|       2|   null|    null|  null|    null|    null|       1|     777|       2|    null|    null|    null|    null|    null|    null|    null|    null|    null|    null|    null|    null|    null|    null|    null|    null|    null|    null|   null|    null|   null|   null|    null|    null|    null|  null|   null|   null|    null|   null|    null|    null|    null|    null|       2|    null|       1|       2|       4|    null|    null|    null|    null|   null|    null|    null|     b''|       4|       2|    null|    null|       1|      45|    null|    null|    null|    null|    null|    null|    null|    null|    null|  null|   null|    null|  null|  null|   null|  null|   null|   null|    10|      1|                b''|b'Treadmill'|     5| 11011|28.7815602|     2.0|57.56312039|    null|   null|   null|    null|       1|0.614124682|545.7820952|      2|       9|       2|       1|      2|  null|       1|       1|       3|       1|      1|      1|       2|    1|       1|       1|       1|      13|       2|    80|     6|   61| 155| 8119| 3382|       4|      2|       1|      1|      2|       3|       1|       2| 5.4E-79|       1| 5.4E-79|       1|   200.0|   100.0|    29.0|   100.0|    10.0|    29.0| 5.4E-79| 5.4E-79|     1.0|     1.0|   300.0|   168.0|      1|      1|   1.0|   1.0| 5.4E-79| 5.4E-79|       1|    35.0|    45.0|   1545|  265|     2.0|     2.0|     12|      5|    6000|    7000|    72.0| 5.4E-79| 5.4E-79| 5.4E-79|   144.0| 5.4E-79|  144.0|    72.0| 5.4E-79|    72.0|      3|       2|       2|       2|       2|       2|      4|       2|       1|       1|       1|       1|       1|       1|       1|       1|\n",
            "|     1|     1|b'01132015'| b'01'|b'13'|b'2015'|    1100|2015000009|2015000009|       1|       1|    null|       1|       2|  null|       1|5.4E-79|     1.0|    null|    null|  null|    null|    null|  null|    null|   null|      5|      77|      88|      77|       1|       1|      2|       1|      3|  null|       7|   null|   null|       2|       2|       2|      2|   null|       2|       2|       2|       1|       2|       2|       3|    null|  2|      3|    3|       1|       2|    null|      1|       2|      5|      88|     77|       2|     84|    503|    null|       1|       1|    2|     2|       7|       2|       2|       2|    null|    null|    null|      3|    888|    null|    null|    null|     777|   777|    302|    302|    777|     777|       1|      98|     103|     100|      88|    null|    null|     777|       2|       1|       2|     6.0|       1|       1|  777777|       1|       1|      2|    null|    null|       1|       3|   null|    null|    null|    null|    null|   null|   null|   null|   null|    null|    null|    null|   null|       2|    null|    null|    null|    null|    null|    null|    null|       2|    null|    null|    null|    null|    null|    null|    null|    null|    null|       2|   null|    null|  null|    null|    null|       7|    null|       1|    null|    null|    null|    null|    null|    null|    null|    null|    null|    null|    null|    null|    null|    null|    null|    null|    null|    null|   null|    null|   null|   null|    null|    null|    null|  null|   null|   null|    null|   null|    null|    null|    null|    null|       2|    null|       2|    null|    null|    null|    null|    null|    null|   null|    null|    null|     b''|       5|       5|    null|    null|    null|      98|    null|    null|    null|    null|    null|    null|    null|    null|    null|  null|   null|    null|  null|  null|   null|  null|   null|   null|    10|      1|b'Physical Therapy'|         b''|     1| 11011|28.7815602|     1.0| 28.7815602|    null|   null|   null|    null|       1|0.614124682|211.2102954|      2|       9|       1|       9|   null|     2|       1|       1|       3|       1|      1|      1|       2|    1|       1|       1|       1|      13|       2|    80|     6|   63| 160| 3810| 1488|       1|      1|       1|      1|      9|       4|       1|       2| 5.4E-79|       1| 5.4E-79|       1|    null|    null|     7.0|     7.0|    null|    null|     2.0|     2.0| 5.4E-79| 5.4E-79|    null|    null|      9|      9|   1.0|   1.0|     1.0|     1.0|       1|    45.0| 5.4E-79|   1618|  277|     2.0| 5.4E-79|     60|   null|    3000|    null|   180.0| 5.4E-79|    null| 5.4E-79|   360.0| 5.4E-79|  360.0|   180.0| 5.4E-79|   180.0|      1|       1|       1|       1|       1|       9|      9|       9|       2|       1|       2|       1|       1|       1|       1|       2|\n",
            "|     1|     1|b'01302015'| b'01'|b'30'|b'2015'|    1100|2015000010|2015000010|       1|       1|    null|       1|       2|  null|       2|    1.0|     1.0|    null|    null|  null|    null|    null|  null|    null|   null|      2|       2|      88|       2|       1|       1|      2|       1|      1|     1|       1|      1|      1|       2|       2|       2|      2|   null|       2|       2|       2|       2|       2|       2|       3|    null|  1|      1|    6|       1|       2|    null|      1|       2|      7|      88|      8|       1|    161|    507|    null|       2|       2|    2|     2|       2|       2|       2|       1|       3|    null|       7|      3|    888|    null|    null|    null|     201|   101|    204|    205|    206|     101|       1|      64|     106|      50|      88|    null|    null|     888|    null|    null|    null|    null|       2|       2|    null|    null|       2|      2|    null|    null|       1|       3|   null|    null|    null|    null|    null|   null|   null|   null|   null|    null|    null|    null|   null|       2|    null|    null|    null|    null|    null|    null|    null|       2|    null|    null|    null|    null|    null|    null|    null|    null|    null|       2|   null|    null|  null|    null|    null|       1|     415|       1|    null|    null|    null|    null|    null|    null|    null|    null|    null|    null|    null|    null|    null|    null|    null|    null|    null|    null|   null|    null|   null|   null|    null|    null|    null|  null|   null|   null|    null|   null|    null|    null|    null|    null|       2|    null|       1|       2|       2|    null|    null|    null|    null|   null|    null|    null|     b''|       5|       5|    null|    null|       1|      60|    null|    null|    null|    null|    null|    null|    null|    null|    null|  null|   null|    null|  null|  null|   null|  null|   null|   null|    10|      1|                b''|         b''|     1| 11011|28.7815602|     2.0|57.56312039|    null|   null|   null|    null|       1|0.614124682|215.4728633|      1|       9|       2|       1|      2|     2|       1|       1|       3|       2|      1|      1|       2|    1|       1|       1|       1|      10|       2|    68|     6|   67| 170| 7303| 2522|       3|      2|       1|      4|      5|       3|       1|       2| 5.4E-79|       1| 5.4E-79|       1|    14.0|   100.0|    57.0|    71.0|    86.0|   100.0| 5.4E-79| 5.4E-79|     1.0|     1.0|   114.0|   314.0|      1|      1|   1.0|   1.0| 5.4E-79| 5.4E-79|       1|    35.0| 5.4E-79|   2260|  387|     1.0| 5.4E-79|     50|   null|    6000|    null|   300.0| 5.4E-79| 5.4E-79| 5.4E-79|   300.0| 5.4E-79|  300.0| 5.4E-79| 5.4E-79| 5.4E-79|      2|       1|       1|       2|       2|       2|      2|       2|       3|       3|       4|       1|       2|       2|       2|       2|\n",
            "+------+------+-----------+------+-----+-------+--------+----------+----------+--------+--------+--------+--------+--------+------+--------+-------+--------+--------+--------+------+--------+--------+------+--------+-------+-------+--------+--------+--------+--------+--------+-------+--------+-------+------+--------+-------+-------+--------+--------+--------+-------+-------+--------+--------+--------+--------+--------+--------+--------+--------+---+-------+-----+--------+--------+--------+-------+--------+-------+--------+-------+--------+-------+-------+--------+--------+--------+-----+------+--------+--------+--------+--------+--------+--------+--------+-------+-------+--------+--------+--------+--------+------+-------+-------+-------+--------+--------+--------+--------+--------+--------+--------+--------+--------+--------+--------+--------+--------+--------+--------+--------+--------+--------+-------+--------+--------+--------+--------+-------+--------+--------+--------+--------+-------+-------+-------+-------+--------+--------+--------+-------+--------+--------+--------+--------+--------+--------+--------+--------+--------+--------+--------+--------+--------+--------+--------+--------+--------+--------+--------+-------+--------+------+--------+--------+--------+--------+--------+--------+--------+--------+--------+--------+--------+--------+--------+--------+--------+--------+--------+--------+--------+--------+--------+--------+--------+-------+--------+-------+-------+--------+--------+--------+------+-------+-------+--------+-------+--------+--------+--------+--------+--------+--------+--------+--------+--------+--------+--------+--------+--------+-------+--------+--------+--------+--------+--------+--------+--------+--------+--------+--------+--------+--------+--------+--------+--------+--------+--------+--------+------+-------+--------+------+------+-------+------+-------+-------+------+-------+-------------------+------------+------+------+----------+--------+-----------+--------+-------+-------+--------+--------+-----------+-----------+-------+--------+--------+--------+-------+------+--------+--------+--------+--------+-------+-------+--------+-----+--------+--------+--------+--------+--------+------+------+-----+----+-----+-----+--------+-------+--------+-------+-------+--------+--------+--------+--------+--------+--------+--------+--------+--------+--------+--------+--------+--------+--------+--------+--------+--------+--------+--------+-------+-------+------+------+--------+--------+--------+--------+--------+-------+-----+--------+--------+-------+-------+--------+--------+--------+--------+--------+--------+--------+--------+-------+--------+--------+--------+-------+--------+--------+--------+--------+--------+-------+--------+--------+--------+--------+--------+--------+--------+--------+--------+\n",
            "only showing top 10 rows\n",
            "\n"
          ]
        }
      ]
    },
    {
      "cell_type": "code",
      "source": [
        "#select relevant columns \n",
        "survey_data_df = survey_data_df.select(['_STATE','FMONTH','IDATE','IMONTH','IDAY','IYEAR','DISPCODE','SEQNO','PHYSHLTH','POORHLTH','GENHLTH','MENTHLTH','BPHIGH4','TOLDHI2','CVDINFR4','CVDCRHD4','CVDSTRK3','CHCSCNCR','CHCOCNCR','CHCCOPD1','HAVARTH3','CHCKIDNY','DIABETE3','SEX','MARITAL','EDUCA','RENTHOM1','VETERAN3','EMPLOY1','CHILDREN','INCOME2','INTERNET','QLACTLM2','USEEQUIP','BLIND','DECIDE','DIFFWALK','DIFFDRES','DIFFALON','EXRACT11','PREDIAB1','INSULIN','PAINACT2','QLMENTL2','QLSTRES2','QLHLTH2','SCNTMNY1','SXORIENT','TRNSGNDR','EMTSUPRT','LSATISFY','MSCODE','_RFHLTH','_HCVU651','_RFHYPE5','_CHOLCHK','_RFCHOL','_MICHD','_LTASTH1','_ASTHMS1','_DRDXAR1','_PRACE1','_AGEG5YR','_AGE65YR','HTIN4','_BMI5','_BMI5CAT','_CHLDCNT','_EDUCAG','_INCOMG','_DRNKWEK','_RFDRHV5','_FRTLT1','_VEGLT1','PA1MIN_','PA1VIGM_','_PACAT1','_PAINDX1','_PAREC1'])\n",
        "survey_data_df.show(10)\n",
        "\n"
      ],
      "metadata": {
        "colab": {
          "base_uri": "https://localhost:8080/"
        },
        "id": "kC_kL3MCBG9c",
        "outputId": "82b83051-dfba-402a-849d-873b98fcabb6"
      },
      "execution_count": 6,
      "outputs": [
        {
          "output_type": "stream",
          "name": "stdout",
          "text": [
            "+------+------+-----------+------+-----+-------+--------+----------+--------+--------+-------+--------+-------+-------+--------+--------+--------+--------+--------+--------+--------+--------+--------+---+-------+-----+--------+--------+-------+--------+-------+--------+--------+--------+-----+------+--------+--------+--------+--------+--------+-------+--------+--------+--------+-------+--------+--------+--------+--------+--------+------+-------+--------+--------+--------+-------+------+--------+--------+--------+-------+--------+--------+-----+-----+--------+--------+-------+-------+--------+--------+-------+-------+-------+--------+-------+--------+-------+\n",
            "|_STATE|FMONTH|      IDATE|IMONTH| IDAY|  IYEAR|DISPCODE|     SEQNO|PHYSHLTH|POORHLTH|GENHLTH|MENTHLTH|BPHIGH4|TOLDHI2|CVDINFR4|CVDCRHD4|CVDSTRK3|CHCSCNCR|CHCOCNCR|CHCCOPD1|HAVARTH3|CHCKIDNY|DIABETE3|SEX|MARITAL|EDUCA|RENTHOM1|VETERAN3|EMPLOY1|CHILDREN|INCOME2|INTERNET|QLACTLM2|USEEQUIP|BLIND|DECIDE|DIFFWALK|DIFFDRES|DIFFALON|EXRACT11|PREDIAB1|INSULIN|PAINACT2|QLMENTL2|QLSTRES2|QLHLTH2|SCNTMNY1|SXORIENT|TRNSGNDR|EMTSUPRT|LSATISFY|MSCODE|_RFHLTH|_HCVU651|_RFHYPE5|_CHOLCHK|_RFCHOL|_MICHD|_LTASTH1|_ASTHMS1|_DRDXAR1|_PRACE1|_AGEG5YR|_AGE65YR|HTIN4|_BMI5|_BMI5CAT|_CHLDCNT|_EDUCAG|_INCOMG|_DRNKWEK|_RFDRHV5|_FRTLT1|_VEGLT1|PA1MIN_|PA1VIGM_|_PACAT1|_PAINDX1|_PAREC1|\n",
            "+------+------+-----------+------+-----+-------+--------+----------+--------+--------+-------+--------+-------+-------+--------+--------+--------+--------+--------+--------+--------+--------+--------+---+-------+-----+--------+--------+-------+--------+-------+--------+--------+--------+-----+------+--------+--------+--------+--------+--------+-------+--------+--------+--------+-------+--------+--------+--------+--------+--------+------+-------+--------+--------+--------+-------+------+--------+--------+--------+-------+--------+--------+-----+-----+--------+--------+-------+-------+--------+--------+-------+-------+-------+--------+-------+--------+-------+\n",
            "|     1|     1|b'01292015'| b'01'|b'29'|b'2015'|    1200|2015000001|      15|      10|      5|      18|      1|      1|       2|       2|       2|       2|       2|       1|       1|       2|       3|  2|      1|    4|       1|       2|      8|      88|      3|       2|       1|       1|    2|     2|       1|       1|       1|    null|       3|   null|    null|    null|    null|   null|    null|    null|    null|    null|    null|     3|      2|       1|       2|       1|      2|     2|       2|       1|       1|      1|       9|       1|   70| 4018|       4|       1|      2|      2| 5.4E-79|       1|      2|      1|   null|    null|      4|       2|      4|\n",
            "|     1|     1|b'01202015'| b'01'|b'20'|b'2015'|    1100|2015000002|      88|    null|      3|      88|      3|      2|       2|       2|       2|       2|       2|       2|       2|       2|       3|  2|      2|    6|       1|       2|      3|      88|      1|       1|       1|       2|    1|     1|       2|       2|       2|      64|       3|   null|    null|    null|    null|   null|       1|    null|    null|    null|    null|     5|      1|       2|       1|       2|      1|     2|       1|       3|       2|      1|       7|       1|   68| 2509|       3|       1|      4|      1| 5.4E-79|       1|      2|      2|  168.0| 5.4E-79|      2|       1|      2|\n",
            "|     1|     1|b'02012015'| b'02'|b'01'|b'2015'|    1200|2015000003|      15|      88|      4|      88|      3|      1|       7|       2|       1|       2|       1|       2|       1|       2|       3|  2|      2|    4|       1|       2|      7|      88|     99|       2|       2|       2|    2|     2|    null|    null|    null|    null|       3|   null|    null|    null|    null|   null|    null|    null|    null|    null|    null|     5|      2|       9|       1|       1|      2|  null|       1|       3|       1|      1|      11|       2|   71| 2204|       2|       1|      2|      9| 99900.0|       9|      9|      9|   null|    null|      9|       9|      9|\n",
            "|     1|     1|b'01142015'| b'01'|b'14'|b'2015'|    1100|2015000004|      30|      30|      5|      30|      1|      1|       2|       2|       2|       2|       1|       2|       1|       2|       3|  2|      1|    4|       1|       2|      8|       1|      8|       2|       1|       2|    1|     1|       1|       2|       1|    null|       3|   null|    null|    null|    null|   null|       4|    null|    null|    null|    null|     3|      2|       1|       2|       1|      2|     2|       1|       3|       1|      1|       9|       1|   67| 2819|       3|       2|      2|      5| 5.4E-79|       1|      1|      2|   null|    null|      4|       2|      4|\n",
            "|     1|     1|b'01142015'| b'01'|b'14'|b'2015'|    1100|2015000005|      20|      30|      5|      88|      3|      2|       2|       2|       2|       2|       2|       2|       1|       2|       3|  2|      1|    5|       1|       2|      8|      88|     77|       1|       2|       2|    2|     2|       2|       2|       2|    null|       3|   null|    null|    null|    null|   null|       5|    null|    null|    null|    null|     3|      2|       1|       1|       1|      1|     2|       1|       3|       1|      1|       9|       1|   64| 2437|       2|       1|      3|      9| 5.4E-79|       1|      9|      1|   null|    null|      4|       2|      4|\n",
            "|     1|     1|b'01142015'| b'01'|b'14'|b'2015'|    1100|2015000006|      88|    null|      2|      88|      1|      2|       2|       2|       2|       2|       2|       2|       1|       2|       3|  2|      3|    3|       1|       2|      2|      88|      6|       2|       1|       2|    2|     2|       2|       2|       2|      18|       3|   null|    null|    null|    null|   null|       5|    null|    null|    null|    null|     5|      1|       9|       2|       1|      1|     2|       1|       3|       1|      1|      11|       2|   62| 2652|       3|       1|      1|      4| 5.4E-79|       1|      1|      1|  330.0|    60.0|      1|       1|      2|\n",
            "|     1|     1|b'01052015'| b'01'|b'05'|b'2015'|    1100|2015000007|      88|      88|      2|       3|      1|      1|       2|       2|       2|       2|       2|       2|       2|       2|       3|  2|      3|    5|       1|       2|      7|      88|      4|       2|       2|       2|    2|     2|       2|       2|       2|      18|       3|   null|    null|    null|    null|   null|       4|    null|    null|    null|    null|     1|      1|       9|       2|       1|      2|     2|       1|       3|       2|      1|      11|       2|   66| 2389|       2|       1|      3|      2|    70.0|       1|      1|      1|  345.0|   120.0|      1|       1|      2|\n",
            "|     1|     1|b'01142015'| b'01'|b'14'|b'2015'|    1100|2015000008|       8|       8|      5|      88|      1|      1|       7|       2|       2|       2|       2|       2|       1|       7|       3|  1|      1|    3|       1|       1|      3|      88|      3|       2|       1|       2|    2|     2|       1|       2|       2|      64|       3|   null|    null|    null|    null|   null|       4|    null|    null|    null|    null|     5|      2|       9|       2|       1|      2|  null|       1|       3|       1|      1|      13|       2|   61| 3382|       4|       1|      1|      2| 5.4E-79|       1|      1|      1|  144.0|    72.0|      3|       2|      4|\n",
            "|     1|     1|b'01132015'| b'01'|b'13'|b'2015'|    1100|2015000009|      77|      77|      5|      88|      3|   null|       2|       2|       2|       2|       2|       2|       1|       2|       3|  2|      3|    3|       1|       2|      5|      88|     77|       2|       1|       1|    2|     2|       7|       2|       2|      98|       3|   null|    null|    null|    null|   null|       5|    null|    null|    null|    null|     1|      2|       9|       1|       9|   null|     2|       1|       3|       1|      1|      13|       2|   63| 1488|       1|       1|      1|      9| 5.4E-79|       1|      9|      9|  360.0|   180.0|      1|       1|      9|\n",
            "|     1|     1|b'01302015'| b'01'|b'30'|b'2015'|    1100|2015000010|       2|       2|      2|      88|      1|      1|       2|       2|       2|       2|       2|       2|       2|       2|       3|  1|      1|    6|       1|       2|      7|      88|      8|       1|       2|       2|    2|     2|       2|       2|       2|      64|       3|   null|    null|    null|    null|   null|       5|    null|    null|    null|    null|     1|      1|       9|       2|       1|      2|     2|       1|       3|       2|      1|      10|       2|   67| 2522|       3|       1|      4|      5| 5.4E-79|       1|      1|      1|  300.0| 5.4E-79|      2|       1|      2|\n",
            "+------+------+-----------+------+-----+-------+--------+----------+--------+--------+-------+--------+-------+-------+--------+--------+--------+--------+--------+--------+--------+--------+--------+---+-------+-----+--------+--------+-------+--------+-------+--------+--------+--------+-----+------+--------+--------+--------+--------+--------+-------+--------+--------+--------+-------+--------+--------+--------+--------+--------+------+-------+--------+--------+--------+-------+------+--------+--------+--------+-------+--------+--------+-----+-----+--------+--------+-------+-------+--------+--------+-------+-------+-------+--------+-------+--------+-------+\n",
            "only showing top 10 rows\n",
            "\n"
          ]
        }
      ]
    },
    {
      "cell_type": "code",
      "source": [
        "\n",
        "#rename columns w function --> name list / or zip dictionary \n",
        "\n",
        "from functools import reduce\n",
        "oldColumns = survey_data_df.schema.names\n",
        "newColumns = ['STATE','FMONTH','DATE','MONTH','DAY','YEAR','DISPCODE','SEQNO','PHYSHLTH','POORHLTH','GENHLTH','MENTHLTH','BPHIGH4','TOLDHI2','CVDINFR4','CVDCRHD4','CVDSTRK3','CHCSCNCR','CHCOCNCR','CHCCOPD1','HAVARTH3','CHCKIDNY','DIABETE3','SEX','MARITAL_STATUS','EDUCATION','HOME_STATUS','VETERAN','EMPLOYMENT_SITUATION','CHILDREN','INCOME','INTERNET','DISABILITIES?','USEEQUIP','BLIND','ISSUES_DECISION_MAING','DIFFWALK','DIFFDRES','DIFFALON','TYPE_EXERCISE','PRE_DIABETES','INSULIN','PAINACT2','QLMENTL2','QLSTRES2','QLHLTH2','STRESSED_FOR_RENT','SXORIENT','TRNSGNDR','HAS_EMOTIONAL_SUPPORT','SATISFIED','METRO_CODE','HEALTHY_ADULTS','HEALTH_CVRAGE','BLOOD_PRESSURE','_CHOLCHK','HIGH_CHOLESTEROL','CORONARY_DISEASE','ASTHMA_DISEASE','_ASTHMS1','HAS_ARTHRITIS','RACE','AGE_14LEVEL','AGE_2LEVEL','HEIGHT','BMI','BMI_5CAT','CHILDREN2','EDUCATION_LEVEL','INCOME2','DRINKS_WEEK','HEAVY_DRINKER','FRUIT_CONSUMPTION','VEGGIE_COSUMPTION','PHYS_ACTIVITY_MINS','PA1VIGM_','PHYS_CATEGORIES','PHYS_ACT_INDX','AER_STRGTH']\n",
        "survey_data_df = reduce(lambda survey_data_df, idx: survey_data_df.withColumnRenamed(oldColumns[idx], newColumns[idx]), range(len(oldColumns)), survey_data_df)\n",
        "#df.printSchema()\n",
        "survey_data_df.show(5)\n"
      ],
      "metadata": {
        "colab": {
          "base_uri": "https://localhost:8080/"
        },
        "id": "NXU3-HWUbLjW",
        "outputId": "6263abcc-0058-46a3-eb4b-3b530b43c4db"
      },
      "execution_count": 7,
      "outputs": [
        {
          "output_type": "stream",
          "name": "stdout",
          "text": [
            "+-----+------+-----------+-----+-----+-------+--------+----------+--------+--------+-------+--------+-------+-------+--------+--------+--------+--------+--------+--------+--------+--------+--------+---+--------------+---------+-----------+-------+--------------------+--------+------+--------+-------------+--------+-----+---------------------+--------+--------+--------+-------------+------------+-------+--------+--------+--------+-------+-----------------+--------+--------+---------------------+---------+----------+--------------+-------------+--------------+--------+----------------+----------------+--------------+--------+-------------+----+-----------+----------+------+----+--------+---------+---------------+-------+-----------+-------------+-----------------+-----------------+------------------+--------+---------------+-------------+----------+\n",
            "|STATE|FMONTH|       DATE|MONTH|  DAY|   YEAR|DISPCODE|     SEQNO|PHYSHLTH|POORHLTH|GENHLTH|MENTHLTH|BPHIGH4|TOLDHI2|CVDINFR4|CVDCRHD4|CVDSTRK3|CHCSCNCR|CHCOCNCR|CHCCOPD1|HAVARTH3|CHCKIDNY|DIABETE3|SEX|MARITAL_STATUS|EDUCATION|HOME_STATUS|VETERAN|EMPLOYMENT_SITUATION|CHILDREN|INCOME|INTERNET|DISABILITIES?|USEEQUIP|BLIND|ISSUES_DECISION_MAING|DIFFWALK|DIFFDRES|DIFFALON|TYPE_EXERCISE|PRE_DIABETES|INSULIN|PAINACT2|QLMENTL2|QLSTRES2|QLHLTH2|STRESSED_FOR_RENT|SXORIENT|TRNSGNDR|HAS_EMOTIONAL_SUPPORT|SATISFIED|METRO_CODE|HEALTHY_ADULTS|HEALTH_CVRAGE|BLOOD_PRESSURE|_CHOLCHK|HIGH_CHOLESTEROL|CORONARY_DISEASE|ASTHMA_DISEASE|_ASTHMS1|HAS_ARTHRITIS|RACE|AGE_14LEVEL|AGE_2LEVEL|HEIGHT| BMI|BMI_5CAT|CHILDREN2|EDUCATION_LEVEL|INCOME2|DRINKS_WEEK|HEAVY_DRINKER|FRUIT_CONSUMPTION|VEGGIE_COSUMPTION|PHYS_ACTIVITY_MINS|PA1VIGM_|PHYS_CATEGORIES|PHYS_ACT_INDX|AER_STRGTH|\n",
            "+-----+------+-----------+-----+-----+-------+--------+----------+--------+--------+-------+--------+-------+-------+--------+--------+--------+--------+--------+--------+--------+--------+--------+---+--------------+---------+-----------+-------+--------------------+--------+------+--------+-------------+--------+-----+---------------------+--------+--------+--------+-------------+------------+-------+--------+--------+--------+-------+-----------------+--------+--------+---------------------+---------+----------+--------------+-------------+--------------+--------+----------------+----------------+--------------+--------+-------------+----+-----------+----------+------+----+--------+---------+---------------+-------+-----------+-------------+-----------------+-----------------+------------------+--------+---------------+-------------+----------+\n",
            "|    1|     1|b'01292015'|b'01'|b'29'|b'2015'|    1200|2015000001|      15|      10|      5|      18|      1|      1|       2|       2|       2|       2|       2|       1|       1|       2|       3|  2|             1|        4|          1|      2|                   8|      88|     3|       2|            1|       1|    2|                    2|       1|       1|       1|         null|           3|   null|    null|    null|    null|   null|             null|    null|    null|                 null|     null|         3|             2|            1|             2|       1|               2|               2|             2|       1|            1|   1|          9|         1|    70|4018|       4|        1|              2|      2|    5.4E-79|            1|                2|                1|              null|    null|              4|            2|         4|\n",
            "|    1|     1|b'01202015'|b'01'|b'20'|b'2015'|    1100|2015000002|      88|    null|      3|      88|      3|      2|       2|       2|       2|       2|       2|       2|       2|       2|       3|  2|             2|        6|          1|      2|                   3|      88|     1|       1|            1|       2|    1|                    1|       2|       2|       2|           64|           3|   null|    null|    null|    null|   null|                1|    null|    null|                 null|     null|         5|             1|            2|             1|       2|               1|               2|             1|       3|            2|   1|          7|         1|    68|2509|       3|        1|              4|      1|    5.4E-79|            1|                2|                2|             168.0| 5.4E-79|              2|            1|         2|\n",
            "|    1|     1|b'02012015'|b'02'|b'01'|b'2015'|    1200|2015000003|      15|      88|      4|      88|      3|      1|       7|       2|       1|       2|       1|       2|       1|       2|       3|  2|             2|        4|          1|      2|                   7|      88|    99|       2|            2|       2|    2|                    2|    null|    null|    null|         null|           3|   null|    null|    null|    null|   null|             null|    null|    null|                 null|     null|         5|             2|            9|             1|       1|               2|            null|             1|       3|            1|   1|         11|         2|    71|2204|       2|        1|              2|      9|    99900.0|            9|                9|                9|              null|    null|              9|            9|         9|\n",
            "|    1|     1|b'01142015'|b'01'|b'14'|b'2015'|    1100|2015000004|      30|      30|      5|      30|      1|      1|       2|       2|       2|       2|       1|       2|       1|       2|       3|  2|             1|        4|          1|      2|                   8|       1|     8|       2|            1|       2|    1|                    1|       1|       2|       1|         null|           3|   null|    null|    null|    null|   null|                4|    null|    null|                 null|     null|         3|             2|            1|             2|       1|               2|               2|             1|       3|            1|   1|          9|         1|    67|2819|       3|        2|              2|      5|    5.4E-79|            1|                1|                2|              null|    null|              4|            2|         4|\n",
            "|    1|     1|b'01142015'|b'01'|b'14'|b'2015'|    1100|2015000005|      20|      30|      5|      88|      3|      2|       2|       2|       2|       2|       2|       2|       1|       2|       3|  2|             1|        5|          1|      2|                   8|      88|    77|       1|            2|       2|    2|                    2|       2|       2|       2|         null|           3|   null|    null|    null|    null|   null|                5|    null|    null|                 null|     null|         3|             2|            1|             1|       1|               1|               2|             1|       3|            1|   1|          9|         1|    64|2437|       2|        1|              3|      9|    5.4E-79|            1|                9|                1|              null|    null|              4|            2|         4|\n",
            "+-----+------+-----------+-----+-----+-------+--------+----------+--------+--------+-------+--------+-------+-------+--------+--------+--------+--------+--------+--------+--------+--------+--------+---+--------------+---------+-----------+-------+--------------------+--------+------+--------+-------------+--------+-----+---------------------+--------+--------+--------+-------------+------------+-------+--------+--------+--------+-------+-----------------+--------+--------+---------------------+---------+----------+--------------+-------------+--------------+--------+----------------+----------------+--------------+--------+-------------+----+-----------+----------+------+----+--------+---------+---------------+-------+-----------+-------------+-----------------+-----------------+------------------+--------+---------------+-------------+----------+\n",
            "only showing top 5 rows\n",
            "\n"
          ]
        }
      ]
    },
    {
      "cell_type": "code",
      "source": [
        "# load in a sql function to get columns\n",
        "from pyspark.sql.functions import col\n",
        "#Keep Only completed Interviews\n",
        "survey_data_df = survey_data_df.filter(col(\"DISPCODE\")== 1100)"
      ],
      "metadata": {
        "id": "6ODWE49fvKHk"
      },
      "execution_count": 8,
      "outputs": []
    },
    {
      "cell_type": "code",
      "source": [
        "#ML data\n",
        "ml_data_df=survey_data_df.select(['GENHLTH','MENTHLTH','PHYSHLTH','SEX','MARITAL_STATUS','EDUCATION','HOME_STATUS','VETERAN','EMPLOYMENT_SITUATION','INTERNET','DISABILITIES?','USEEQUIP','BLIND','ISSUES_DECISION_MAING','DIFFWALK','DIFFDRES','DIFFALON','HEALTHY_ADULTS','HEALTH_CVRAGE','DIABETE3','BLOOD_PRESSURE','_CHOLCHK','HIGH_CHOLESTEROL','CORONARY_DISEASE','ASTHMA_DISEASE','_ASTHMS1','HAS_ARTHRITIS','RACE','AGE_14LEVEL','BMI','BMI_5CAT','CHILDREN2','EDUCATION_LEVEL','INCOME2','DRINKS_WEEK','HEAVY_DRINKER','FRUIT_CONSUMPTION','VEGGIE_COSUMPTION','PHYS_ACTIVITY_MINS','PHYS_CATEGORIES','PHYS_ACT_INDX','AER_STRGTH'])\n",
        "ml_data_df.show(5)"
      ],
      "metadata": {
        "colab": {
          "base_uri": "https://localhost:8080/"
        },
        "id": "-68sHy-RsMbb",
        "outputId": "b269441d-ac3b-4e4a-b0f7-ec78112432d6"
      },
      "execution_count": 9,
      "outputs": [
        {
          "output_type": "stream",
          "name": "stdout",
          "text": [
            "+-------+--------+--------+---+--------------+---------+-----------+-------+--------------------+--------+-------------+--------+-----+---------------------+--------+--------+--------+--------------+-------------+--------+--------------+--------+----------------+----------------+--------------+--------+-------------+----+-----------+----+--------+---------+---------------+-------+-----------+-------------+-----------------+-----------------+------------------+---------------+-------------+----------+\n",
            "|GENHLTH|MENTHLTH|PHYSHLTH|SEX|MARITAL_STATUS|EDUCATION|HOME_STATUS|VETERAN|EMPLOYMENT_SITUATION|INTERNET|DISABILITIES?|USEEQUIP|BLIND|ISSUES_DECISION_MAING|DIFFWALK|DIFFDRES|DIFFALON|HEALTHY_ADULTS|HEALTH_CVRAGE|DIABETE3|BLOOD_PRESSURE|_CHOLCHK|HIGH_CHOLESTEROL|CORONARY_DISEASE|ASTHMA_DISEASE|_ASTHMS1|HAS_ARTHRITIS|RACE|AGE_14LEVEL| BMI|BMI_5CAT|CHILDREN2|EDUCATION_LEVEL|INCOME2|DRINKS_WEEK|HEAVY_DRINKER|FRUIT_CONSUMPTION|VEGGIE_COSUMPTION|PHYS_ACTIVITY_MINS|PHYS_CATEGORIES|PHYS_ACT_INDX|AER_STRGTH|\n",
            "+-------+--------+--------+---+--------------+---------+-----------+-------+--------------------+--------+-------------+--------+-----+---------------------+--------+--------+--------+--------------+-------------+--------+--------------+--------+----------------+----------------+--------------+--------+-------------+----+-----------+----+--------+---------+---------------+-------+-----------+-------------+-----------------+-----------------+------------------+---------------+-------------+----------+\n",
            "|      3|      88|      88|  2|             2|        6|          1|      2|                   3|       1|            1|       2|    1|                    1|       2|       2|       2|             1|            2|       3|             1|       2|               1|               2|             1|       3|            2|   1|          7|2509|       3|        1|              4|      1|    5.4E-79|            1|                2|                2|             168.0|              2|            1|         2|\n",
            "|      5|      30|      30|  2|             1|        4|          1|      2|                   8|       2|            1|       2|    1|                    1|       1|       2|       1|             2|            1|       3|             2|       1|               2|               2|             1|       3|            1|   1|          9|2819|       3|        2|              2|      5|    5.4E-79|            1|                1|                2|              null|              4|            2|         4|\n",
            "|      5|      88|      20|  2|             1|        5|          1|      2|                   8|       1|            2|       2|    2|                    2|       2|       2|       2|             2|            1|       3|             1|       1|               1|               2|             1|       3|            1|   1|          9|2437|       2|        1|              3|      9|    5.4E-79|            1|                9|                1|              null|              4|            2|         4|\n",
            "|      2|      88|      88|  2|             3|        3|          1|      2|                   2|       2|            1|       2|    2|                    2|       2|       2|       2|             1|            9|       3|             2|       1|               1|               2|             1|       3|            1|   1|         11|2652|       3|        1|              1|      4|    5.4E-79|            1|                1|                1|             330.0|              1|            1|         2|\n",
            "|      2|       3|      88|  2|             3|        5|          1|      2|                   7|       2|            2|       2|    2|                    2|       2|       2|       2|             1|            9|       3|             2|       1|               2|               2|             1|       3|            2|   1|         11|2389|       2|        1|              3|      2|       70.0|            1|                1|                1|             345.0|              1|            1|         2|\n",
            "+-------+--------+--------+---+--------------+---------+-----------+-------+--------------------+--------+-------------+--------+-----+---------------------+--------+--------+--------+--------------+-------------+--------+--------------+--------+----------------+----------------+--------------+--------+-------------+----+-----------+----+--------+---------+---------------+-------+-----------+-------------+-----------------+-----------------+------------------+---------------+-------------+----------+\n",
            "only showing top 5 rows\n",
            "\n"
          ]
        }
      ]
    },
    {
      "cell_type": "code",
      "source": [
        " #Fill Na \n",
        "#clean byte data\n",
        "\n",
        "ml_data_df=ml_data_df.dropna()\n",
        "\n",
        "#remove na\n",
        "ml_data_df.describe().show()\n"
      ],
      "metadata": {
        "colab": {
          "base_uri": "https://localhost:8080/"
        },
        "id": "u6uhOuE7h60W",
        "outputId": "4c59bb4f-7ab1-4416-b71e-3f5378dc4319"
      },
      "execution_count": 10,
      "outputs": [
        {
          "output_type": "stream",
          "name": "stdout",
          "text": [
            "+-------+------------------+------------------+------------------+-------------------+------------------+------------------+------------------+------------------+--------------------+------------------+------------------+------------------+-------------------+---------------------+-------------------+------------------+-------------------+------------------+------------------+------------------+-----------------+------------------+------------------+------------------+-------------------+------------------+-------------------+-----------------+-----------------+-----------------+------------------+------------------+------------------+------------------+------------------+------------------+------------------+------------------+------------------+------------------+------------------+------------------+\n",
            "|summary|           GENHLTH|          MENTHLTH|          PHYSHLTH|                SEX|    MARITAL_STATUS|         EDUCATION|       HOME_STATUS|           VETERAN|EMPLOYMENT_SITUATION|          INTERNET|     DISABILITIES?|          USEEQUIP|              BLIND|ISSUES_DECISION_MAING|           DIFFWALK|          DIFFDRES|           DIFFALON|    HEALTHY_ADULTS|     HEALTH_CVRAGE|          DIABETE3|   BLOOD_PRESSURE|          _CHOLCHK|  HIGH_CHOLESTEROL|  CORONARY_DISEASE|     ASTHMA_DISEASE|          _ASTHMS1|      HAS_ARTHRITIS|             RACE|      AGE_14LEVEL|              BMI|          BMI_5CAT|         CHILDREN2|   EDUCATION_LEVEL|           INCOME2|       DRINKS_WEEK|     HEAVY_DRINKER| FRUIT_CONSUMPTION| VEGGIE_COSUMPTION|PHYS_ACTIVITY_MINS|   PHYS_CATEGORIES|     PHYS_ACT_INDX|        AER_STRGTH|\n",
            "+-------+------------------+------------------+------------------+-------------------+------------------+------------------+------------------+------------------+--------------------+------------------+------------------+------------------+-------------------+---------------------+-------------------+------------------+-------------------+------------------+------------------+------------------+-----------------+------------------+------------------+------------------+-------------------+------------------+-------------------+-----------------+-----------------+-----------------+------------------+------------------+------------------+------------------+------------------+------------------+------------------+------------------+------------------+------------------+------------------+------------------+\n",
            "|  count|            222168|            222168|            222168|             222168|            222168|            222168|            222168|            222168|              222168|            222168|            222168|            222168|             222168|               222168|             222168|            222168|             222168|            222168|            222168|            222168|           222168|            222168|            222168|            222168|             222168|            222168|             222168|           222168|           222168|           222168|            222168|            222168|            222168|            222168|            222168|            222168|            222168|            222168|            222168|            222168|            222168|            222168|\n",
            "|   mean|2.3993644449245615| 66.05568308667314| 62.48560548773901| 1.5643567030355408| 2.027888804868388| 5.115606207914731|1.2531012567066364|1.8579903496453134|   3.882512333009254|1.1742285117568687| 1.807722084188542|1.9165901479961112| 1.9715890677325267|   1.9452261351769833| 1.8915865471174966|1.9775935328220087| 1.9604893594036945|1.1482031615714234| 4.050704871988765| 2.771884339778906|1.422171509848403|1.1184779086097008|1.4644548269777826|1.9145151416945734| 1.1418611141118433|2.8303626084764684|  1.659829498397609| 2.34911868495913|8.154648734291166|2772.961015987901|2.9151587987468943|1.4760586583126283|3.1337996471138956|4.6394350221454035|1570.5162669691404|1.1575069316913327|1.4787368117820747|1.3662858737531958|499.98691980843324|2.0198273378704403|1.4459508119981275|2.3787539159554933|\n",
            "| stddev|1.0402989417987236|35.609864871629966|37.028941393996284|0.49584203271945343|1.5259207122903458|0.9777504951240228|0.6251183821021464| 0.389075568200626|   2.853977066239132|0.4369946076056963|0.5576508774575516|0.3193201098137353|0.30276029186927195|   0.4228634424112047|0.44523325560476795|0.2133902253448635|0.31510468735065833| 0.478097253223502|3.8490654380649563|0.6856331093091864|0.582645315585002|0.8288293668154688|0.8035771988011073|0.2796024842356725|0.49241759692279713|0.7366715918088395|0.47376739201682055|9.867627366587662|3.103521728383985|612.3065087971906| 0.807501246666258| 1.010401231349284|0.9476350450626597|2.0921449090473088|11320.543302958793|0.9286659416626198|1.1768989686050657|1.3096786387045882|  752.400744885901|1.5335334610717912|  1.27143073240338|1.5520543092589432|\n",
            "|    min|                 1|                 1|                 1|                  1|                 1|                 1|                 1|                 1|                   1|                 1|                 1|                 1|                  1|                    1|                  1|                 1|                  1|                 1|                 1|                 1|                1|                 1|                 1|                 1|                  1|                 1|                  1|                1|                1|             1205|                 1|                 1|                 1|                 1|           5.4E-79|                 1|                 1|                 1|           5.4E-79|                 1|                 1|                 1|\n",
            "|    max|                 9|                99|                99|                  2|                 9|                 9|                 9|                 9|                   9|                 9|                 9|                 9|                  9|                    9|                  9|                 9|                  9|                 9|                 9|                 9|                9|                 9|                 9|                 2|                  9|                 9|                  2|               99|               13|             9765|                 4|                 9|                 9|                 9|           99900.0|                 9|                 9|                 9|           47640.0|                 9|                 9|                 9|\n",
            "+-------+------------------+------------------+------------------+-------------------+------------------+------------------+------------------+------------------+--------------------+------------------+------------------+------------------+-------------------+---------------------+-------------------+------------------+-------------------+------------------+------------------+------------------+-----------------+------------------+------------------+------------------+-------------------+------------------+-------------------+-----------------+-----------------+-----------------+------------------+------------------+------------------+------------------+------------------+------------------+------------------+------------------+------------------+------------------+------------------+------------------+\n",
            "\n"
          ]
        }
      ]
    },
    {
      "cell_type": "code",
      "source": [
        "#Replace 77/9/99 for 999\n",
        "ml_data_df_cleaned=ml_data_df.na.replace([77, 9,99900,5.4E-79], [99,99,99,0])\n",
        "ml_data_df_cleaned.show(10)"
      ],
      "metadata": {
        "colab": {
          "base_uri": "https://localhost:8080/"
        },
        "id": "rB58t0ZP0Y8Z",
        "outputId": "c7fbbb15-67ab-4074-c0f9-719aff8a32d9"
      },
      "execution_count": 11,
      "outputs": [
        {
          "output_type": "stream",
          "name": "stdout",
          "text": [
            "+-------+--------+--------+---+--------------+---------+-----------+-------+--------------------+--------+-------------+--------+-----+---------------------+--------+--------+--------+--------------+-------------+--------+--------------+--------+----------------+----------------+--------------+--------+-------------+----+-----------+----+--------+---------+---------------+-------+-----------+-------------+-----------------+-----------------+------------------+---------------+-------------+----------+\n",
            "|GENHLTH|MENTHLTH|PHYSHLTH|SEX|MARITAL_STATUS|EDUCATION|HOME_STATUS|VETERAN|EMPLOYMENT_SITUATION|INTERNET|DISABILITIES?|USEEQUIP|BLIND|ISSUES_DECISION_MAING|DIFFWALK|DIFFDRES|DIFFALON|HEALTHY_ADULTS|HEALTH_CVRAGE|DIABETE3|BLOOD_PRESSURE|_CHOLCHK|HIGH_CHOLESTEROL|CORONARY_DISEASE|ASTHMA_DISEASE|_ASTHMS1|HAS_ARTHRITIS|RACE|AGE_14LEVEL| BMI|BMI_5CAT|CHILDREN2|EDUCATION_LEVEL|INCOME2|DRINKS_WEEK|HEAVY_DRINKER|FRUIT_CONSUMPTION|VEGGIE_COSUMPTION|PHYS_ACTIVITY_MINS|PHYS_CATEGORIES|PHYS_ACT_INDX|AER_STRGTH|\n",
            "+-------+--------+--------+---+--------------+---------+-----------+-------+--------------------+--------+-------------+--------+-----+---------------------+--------+--------+--------+--------------+-------------+--------+--------------+--------+----------------+----------------+--------------+--------+-------------+----+-----------+----+--------+---------+---------------+-------+-----------+-------------+-----------------+-----------------+------------------+---------------+-------------+----------+\n",
            "|      3|      88|      88|  2|             2|        6|          1|      2|                   3|       1|            1|       2|    1|                    1|       2|       2|       2|             1|            2|       3|             1|       2|               1|               2|             1|       3|            2|   1|          7|2509|       3|        1|              4|      1|        0.0|            1|                2|                2|             168.0|              2|            1|         2|\n",
            "|      2|      88|      88|  2|             3|        3|          1|      2|                   2|       2|            1|       2|    2|                    2|       2|       2|       2|             1|           99|       3|             2|       1|               1|               2|             1|       3|            1|   1|         11|2652|       3|        1|              1|      4|        0.0|            1|                1|                1|             330.0|              1|            1|         2|\n",
            "|      2|       3|      88|  2|             3|        5|          1|      2|                   7|       2|            2|       2|    2|                    2|       2|       2|       2|             1|           99|       3|             2|       1|               2|               2|             1|       3|            2|   1|         11|2389|       2|        1|              3|      2|       70.0|            1|                1|                1|             345.0|              1|            1|         2|\n",
            "|      2|      88|       2|  1|             1|        6|          1|      2|                   7|       1|            2|       2|    2|                    2|       2|       2|       2|             1|           99|       3|             2|       1|               2|               2|             1|       3|            2|   1|         10|2522|       3|        1|              4|      5|        0.0|            1|                1|                1|             300.0|              2|            1|         2|\n",
            "|      3|      88|      88|  2|             3|        4|          1|      2|                   5|       1|            1|       2|    2|                    2|       1|       2|       2|             1|           99|       3|             2|       1|               2|               2|             2|       1|            1|   1|         11|2500|       3|        1|              2|      2|       93.0|            1|                2|                1|             210.0|              2|            1|         2|\n",
            "|      3|      88|      14|  2|             3|        3|          1|      2|                   7|       2|            1|       1|    2|                    2|       2|       2|       2|             1|           99|       3|             2|       1|               2|               1|             1|       3|            1|   1|         13|2579|       3|        1|              1|     99|        0.0|            1|                1|                1|              90.0|              3|            2|         4|\n",
            "|      3|      88|      88|  1|             1|        6|          1|      1|                   7|       1|            2|       2|    2|                    2|       2|       2|       2|             1|           99|       1|             1|       1|               1|               2|             1|       3|            1|   1|         13|2468|       2|        1|              4|      5|       23.0|            1|                1|                1|             280.0|              2|            1|         2|\n",
            "|      5|      99|      99|  1|             2|        4|          2|      1|                  99|       2|            1|       1|    2|                    2|       1|       1|       1|             2|            1|       1|             2|       1|               2|               1|             1|       3|            1|   1|         99|2848|       3|        1|              2|      2|        0.0|            1|                1|                1|              60.0|              3|            2|         4|\n",
            "|      4|      30|      28|  2|             1|        6|          1|      2|                   8|       1|            1|       2|    2|                    1|       2|       2|       1|             2|            1|       3|             1|       1|               2|               2|             1|       3|            1|   1|          4|3328|       4|        1|              4|      1|        0.0|            1|                2|                1|               0.0|             99|           99|        99|\n",
            "|      2|       5|      88|  2|             1|        6|          1|      2|                   1|       1|            2|       2|    2|                    2|       2|       2|       2|             1|            1|       3|             2|       1|               1|               2|             1|       3|            2|   1|          6|3328|       4|        1|              4|      5|       93.0|            1|                2|                2|             180.0|              2|            1|         1|\n",
            "+-------+--------+--------+---+--------------+---------+-----------+-------+--------------------+--------+-------------+--------+-----+---------------------+--------+--------+--------+--------------+-------------+--------+--------------+--------+----------------+----------------+--------------+--------+-------------+----+-----------+----+--------+---------+---------------+-------+-----------+-------------+-----------------+-----------------+------------------+---------------+-------------+----------+\n",
            "only showing top 10 rows\n",
            "\n"
          ]
        }
      ]
    },
    {
      "cell_type": "code",
      "source": [
        "#LOAD\n",
        "# Store environmental variable\n",
        "from getpass import getpass\n",
        "password = getpass('password')\n",
        "# Configure settings for RDS\n",
        "mode = \"append\"\n",
        "jdbc_url=\"jdbc:postgresql://bootcampproject.cs8v5ggqsbn0.us-west-1.rds.amazonaws.com:5432/postgres\"\n",
        "config = {\"user\":\"postgres\",\n",
        "          \"password\": password,\n",
        "          \"driver\":\"org.postgresql.Driver\"}"
      ],
      "metadata": {
        "colab": {
          "base_uri": "https://localhost:8080/"
        },
        "id": "9XW6d7qz0s_O",
        "outputId": "4fccc6b3-7160-4fd1-8719-47869a429fed"
      },
      "execution_count": 12,
      "outputs": [
        {
          "name": "stdout",
          "output_type": "stream",
          "text": [
            "password··········\n"
          ]
        }
      ]
    },
    {
      "cell_type": "code",
      "source": [
        "#Write DataFrame to active_user table in RDS\n",
        "ml_data_df_cleaned.write.jdbc(url=jdbc_url, table='ml_data', mode=mode, properties=config)"
      ],
      "metadata": {
        "id": "MAVdbPxcRXpA"
      },
      "execution_count": 13,
      "outputs": []
    },
    {
      "cell_type": "code",
      "source": [
        "#select relevant columns for dashboard\n",
        "dash_data_df = survey_data_df.select(['SEQNO','STATE','FMONTH','DATE','MONTH','DAY','YEAR','METRO_CODE','RACE','AGE_14LEVEL','AGE_2LEVEL','GENHLTH','MENTHLTH','PHYSHLTH','SEX','MARITAL_STATUS','EDUCATION','HOME_STATUS','VETERAN','EMPLOYMENT_SITUATION','INTERNET','DISABILITIES?','USEEQUIP','BLIND','ISSUES_DECISION_MAING','DIFFWALK','DIFFDRES','DIFFALON','HEALTHY_ADULTS','HEALTH_CVRAGE','DIABETE3','BLOOD_PRESSURE','_CHOLCHK','HIGH_CHOLESTEROL','CORONARY_DISEASE','ASTHMA_DISEASE','_ASTHMS1','HAS_ARTHRITIS','RACE','AGE_14LEVEL','BMI','BMI_5CAT','CHILDREN2','EDUCATION_LEVEL','INCOME2','DRINKS_WEEK','HEAVY_DRINKER','FRUIT_CONSUMPTION','VEGGIE_COSUMPTION','PHYS_ACTIVITY_MINS','PHYS_CATEGORIES','PHYS_ACT_INDX','AER_STRGTH'])\n",
        "dash_data_df.show(10)"
      ],
      "metadata": {
        "colab": {
          "base_uri": "https://localhost:8080/"
        },
        "id": "U9odO8eiF22p",
        "outputId": "5132831a-51b7-4292-ebfc-780e325d7121"
      },
      "execution_count": 14,
      "outputs": [
        {
          "output_type": "stream",
          "name": "stdout",
          "text": [
            "+----------+-----+------+-----------+-----+-----+-------+----------+----+-----------+----------+-------+--------+--------+---+--------------+---------+-----------+-------+--------------------+--------+-------------+--------+-----+---------------------+--------+--------+--------+--------------+-------------+--------+--------------+--------+----------------+----------------+--------------+--------+-------------+----+-----------+----+--------+---------+---------------+-------+-----------+-------------+-----------------+-----------------+------------------+---------------+-------------+----------+\n",
            "|     SEQNO|STATE|FMONTH|       DATE|MONTH|  DAY|   YEAR|METRO_CODE|RACE|AGE_14LEVEL|AGE_2LEVEL|GENHLTH|MENTHLTH|PHYSHLTH|SEX|MARITAL_STATUS|EDUCATION|HOME_STATUS|VETERAN|EMPLOYMENT_SITUATION|INTERNET|DISABILITIES?|USEEQUIP|BLIND|ISSUES_DECISION_MAING|DIFFWALK|DIFFDRES|DIFFALON|HEALTHY_ADULTS|HEALTH_CVRAGE|DIABETE3|BLOOD_PRESSURE|_CHOLCHK|HIGH_CHOLESTEROL|CORONARY_DISEASE|ASTHMA_DISEASE|_ASTHMS1|HAS_ARTHRITIS|RACE|AGE_14LEVEL| BMI|BMI_5CAT|CHILDREN2|EDUCATION_LEVEL|INCOME2|DRINKS_WEEK|HEAVY_DRINKER|FRUIT_CONSUMPTION|VEGGIE_COSUMPTION|PHYS_ACTIVITY_MINS|PHYS_CATEGORIES|PHYS_ACT_INDX|AER_STRGTH|\n",
            "+----------+-----+------+-----------+-----+-----+-------+----------+----+-----------+----------+-------+--------+--------+---+--------------+---------+-----------+-------+--------------------+--------+-------------+--------+-----+---------------------+--------+--------+--------+--------------+-------------+--------+--------------+--------+----------------+----------------+--------------+--------+-------------+----+-----------+----+--------+---------+---------------+-------+-----------+-------------+-----------------+-----------------+------------------+---------------+-------------+----------+\n",
            "|2015000002|    1|     1|b'01202015'|b'01'|b'20'|b'2015'|         5|   1|          7|         1|      3|      88|      88|  2|             2|        6|          1|      2|                   3|       1|            1|       2|    1|                    1|       2|       2|       2|             1|            2|       3|             1|       2|               1|               2|             1|       3|            2|   1|          7|2509|       3|        1|              4|      1|    5.4E-79|            1|                2|                2|             168.0|              2|            1|         2|\n",
            "|2015000004|    1|     1|b'01142015'|b'01'|b'14'|b'2015'|         3|   1|          9|         1|      5|      30|      30|  2|             1|        4|          1|      2|                   8|       2|            1|       2|    1|                    1|       1|       2|       1|             2|            1|       3|             2|       1|               2|               2|             1|       3|            1|   1|          9|2819|       3|        2|              2|      5|    5.4E-79|            1|                1|                2|              null|              4|            2|         4|\n",
            "|2015000005|    1|     1|b'01142015'|b'01'|b'14'|b'2015'|         3|   1|          9|         1|      5|      88|      20|  2|             1|        5|          1|      2|                   8|       1|            2|       2|    2|                    2|       2|       2|       2|             2|            1|       3|             1|       1|               1|               2|             1|       3|            1|   1|          9|2437|       2|        1|              3|      9|    5.4E-79|            1|                9|                1|              null|              4|            2|         4|\n",
            "|2015000006|    1|     1|b'01142015'|b'01'|b'14'|b'2015'|         5|   1|         11|         2|      2|      88|      88|  2|             3|        3|          1|      2|                   2|       2|            1|       2|    2|                    2|       2|       2|       2|             1|            9|       3|             2|       1|               1|               2|             1|       3|            1|   1|         11|2652|       3|        1|              1|      4|    5.4E-79|            1|                1|                1|             330.0|              1|            1|         2|\n",
            "|2015000007|    1|     1|b'01052015'|b'01'|b'05'|b'2015'|         1|   1|         11|         2|      2|       3|      88|  2|             3|        5|          1|      2|                   7|       2|            2|       2|    2|                    2|       2|       2|       2|             1|            9|       3|             2|       1|               2|               2|             1|       3|            2|   1|         11|2389|       2|        1|              3|      2|       70.0|            1|                1|                1|             345.0|              1|            1|         2|\n",
            "|2015000008|    1|     1|b'01142015'|b'01'|b'14'|b'2015'|         5|   1|         13|         2|      5|      88|       8|  1|             1|        3|          1|      1|                   3|       2|            1|       2|    2|                    2|       1|       2|       2|             2|            9|       3|             2|       1|               2|            null|             1|       3|            1|   1|         13|3382|       4|        1|              1|      2|    5.4E-79|            1|                1|                1|             144.0|              3|            2|         4|\n",
            "|2015000009|    1|     1|b'01132015'|b'01'|b'13'|b'2015'|         1|   1|         13|         2|      5|      88|      77|  2|             3|        3|          1|      2|                   5|       2|            1|       1|    2|                    2|       7|       2|       2|             2|            9|       3|             1|       9|            null|               2|             1|       3|            1|   1|         13|1488|       1|        1|              1|      9|    5.4E-79|            1|                9|                9|             360.0|              1|            1|         9|\n",
            "|2015000010|    1|     1|b'01302015'|b'01'|b'30'|b'2015'|         1|   1|         10|         2|      2|      88|       2|  1|             1|        6|          1|      2|                   7|       1|            2|       2|    2|                    2|       2|       2|       2|             1|            9|       3|             2|       1|               2|               2|             1|       3|            2|   1|         10|2522|       3|        1|              4|      5|    5.4E-79|            1|                1|                1|             300.0|              2|            1|         2|\n",
            "|2015000011|    1|     1|b'01222015'|b'01'|b'22'|b'2015'|         1|   1|          9|         1|      3|      88|      14|  2|             1|        6|          1|      2|                   7|       1|            2|       2|    2|                    2|       2|       2|       2|             1|            1|       3|             2|       1|               1|               2|             1|       3|            2|   1|          9|3004|       4|        1|              4|      5|    5.4E-79|            1|                2|                2|              null|              4|            2|         4|\n",
            "|2015000012|    1|     1|b'01162015'|b'01'|b'16'|b'2015'|         2|   1|         13|         2|      5|      88|      88|  2|             3|        5|          1|      2|                   8|       2|            1|       1|    1|                    1|       1|       1|       1|             2|            9|       1|             2|       1|               2|               1|             1|       3|            1|   1|         13|2575|       3|        1|              3|      9|    5.4E-79|            1|                2|                1|              null|              4|            2|         4|\n",
            "+----------+-----+------+-----------+-----+-----+-------+----------+----+-----------+----------+-------+--------+--------+---+--------------+---------+-----------+-------+--------------------+--------+-------------+--------+-----+---------------------+--------+--------+--------+--------------+-------------+--------+--------------+--------+----------------+----------------+--------------+--------+-------------+----+-----------+----+--------+---------+---------------+-------+-----------+-------------+-----------------+-----------------+------------------+---------------+-------------+----------+\n",
            "only showing top 10 rows\n",
            "\n"
          ]
        }
      ]
    },
    {
      "cell_type": "code",
      "source": [
        "# dashboard data\n",
        "\n",
        "# load in a sql function to get columns\n",
        "from pyspark.sql.functions import col\n",
        "#Keep Only completed Interviews\n",
        "clean_dash_df = dash_data_df.filter(col(\"DISPCODE\")== 1100)\n",
        "\n",
        "clean_dash_df=clean_dash_df.dropna()\n",
        "\n",
        "clean_dash_df.describe().show()\n",
        "\n",
        "\n"
      ],
      "metadata": {
        "colab": {
          "base_uri": "https://localhost:8080/"
        },
        "id": "q4YDDtaTiaOh",
        "outputId": "8c29ac11-5688-4e57-9ffc-0290c4821919"
      },
      "execution_count": 15,
      "outputs": [
        {
          "output_type": "stream",
          "name": "stdout",
          "text": [
            "+-------+--------------------+------------------+-----------------+-----------+------+------+-------+-----------------+-----------------+-----------------+-------------------+------------------+-----------------+------------------+-------------------+------------------+------------------+------------------+------------------+--------------------+-------------------+------------------+-------------------+------------------+---------------------+------------------+-------------------+------------------+------------------+------------------+------------------+------------------+------------------+------------------+-------------------+------------------+------------------+------------------+-----------------+-----------------+-----------------+------------------+------------------+------------------+-----------------+------------------+------------------+------------------+------------------+------------------+------------------+------------------+------------------+\n",
            "|summary|               SEQNO|             STATE|           FMONTH|       DATE| MONTH|   DAY|   YEAR|       METRO_CODE|             RACE|      AGE_14LEVEL|         AGE_2LEVEL|           GENHLTH|         MENTHLTH|          PHYSHLTH|                SEX|    MARITAL_STATUS|         EDUCATION|       HOME_STATUS|           VETERAN|EMPLOYMENT_SITUATION|           INTERNET|     DISABILITIES?|           USEEQUIP|             BLIND|ISSUES_DECISION_MAING|          DIFFWALK|           DIFFDRES|          DIFFALON|    HEALTHY_ADULTS|     HEALTH_CVRAGE|          DIABETE3|    BLOOD_PRESSURE|          _CHOLCHK|  HIGH_CHOLESTEROL|   CORONARY_DISEASE|    ASTHMA_DISEASE|          _ASTHMS1|     HAS_ARTHRITIS|             RACE|      AGE_14LEVEL|              BMI|          BMI_5CAT|         CHILDREN2|   EDUCATION_LEVEL|          INCOME2|       DRINKS_WEEK|     HEAVY_DRINKER| FRUIT_CONSUMPTION| VEGGIE_COSUMPTION|PHYS_ACTIVITY_MINS|   PHYS_CATEGORIES|     PHYS_ACT_INDX|        AER_STRGTH|\n",
            "+-------+--------------------+------------------+-----------------+-----------+------+------+-------+-----------------+-----------------+-----------------+-------------------+------------------+-----------------+------------------+-------------------+------------------+------------------+------------------+------------------+--------------------+-------------------+------------------+-------------------+------------------+---------------------+------------------+-------------------+------------------+------------------+------------------+------------------+------------------+------------------+------------------+-------------------+------------------+------------------+------------------+-----------------+-----------------+-----------------+------------------+------------------+------------------+-----------------+------------------+------------------+------------------+------------------+------------------+------------------+------------------+------------------+\n",
            "|  count|              136809|            136809|           136809|     136809|136809|136809| 136809|           136809|           136809|           136809|             136809|            136809|           136809|            136809|             136809|            136809|            136809|            136809|            136809|              136809|             136809|            136809|             136809|            136809|               136809|            136809|             136809|            136809|            136809|            136809|            136809|            136809|            136809|            136809|             136809|            136809|            136809|            136809|           136809|           136809|           136809|            136809|            136809|            136809|           136809|            136809|            136809|            136809|            136809|            136809|            136809|            136809|            136809|\n",
            "|   mean|2.0150032114596336E9|29.535885796987042|6.443128741530162|       null|  null|  null|   null|2.488951750250349|2.225431075440943|9.006680847020299|  1.473865023499916|2.4284294161933793| 67.3348317727635|62.359099182071354|  1.603213238895102| 1.975717971770863| 5.114488081924435|1.1990804698521296|1.8498125123347149|   4.342104686095213|  1.205980600691475| 1.793880519556462| 1.9022798207720253|1.9704405411924655|    1.949908266269032|1.8813382160530374| 1.9759664934324497|1.9579632918886916|1.1555526317713016| 4.826634212661448|2.7479624878480218|1.4656857370494631|1.1123391004977743| 1.504133499989036|  1.902294439693295|1.1389893939726188| 2.836238843935706|1.6161071274550651|2.225431075440943|9.006680847020299|2749.637012184871|2.8955404980666475|1.3706408204138616|3.1320015496056546|4.686504542829785|1558.6013200885907|1.1551652303576518| 1.472476225979285|1.3963335745455343| 530.2520228932307| 2.008164667529183|1.4516442631698208|2.3866850865074665|\n",
            "| stddev|  2395.4900919147376|15.178715794425484|3.456689181748268|       null|  null|  null|   null|1.705422815546211|9.622300552135965|2.756182737917065|0.49931832070252447|1.0452577612315979|34.97582452030731| 36.97934546776181|0.48923284520486116|1.4251015347718103|0.9776154278830395|0.5946952080908291|0.3944039589795738|   2.849346549909458|0.46243188155353915|0.5830069111420252|0.34046806850490635|0.3142296766151795|  0.43503551731666773| 0.479429224636269|0.21778722347540108|0.3327007305697694|0.5033270719529215|3.9720219402444417|0.7140937858368576| 0.594998215570366|0.8217308897679878|0.8239936303093935|0.29691720763986057|0.4981994704611547|0.7364802685214363|0.4863341071671581|9.622300552135965|2.756182737917065|561.7823448397927|0.8071272319706553|0.9140562189556917|0.9511225552359659|2.143122328620221|11350.393490713828|0.9300664642545042|1.2105254956152365|1.3934382241438754| 784.8276131929506|1.5976487205638774|1.3345501696033422|1.5941029307430934|\n",
            "|    min|          2015000002|                 1|                1|b'01012016'| b'01'| b'01'|b'2015'|                1|                1|                1|                  1|                 1|                1|                 1|                  1|                 1|                 1|                 1|                 1|                   1|                  1|                 1|                  1|                 1|                    1|                 1|                  1|                 1|                 1|                 1|                 1|                 1|                 1|                 1|                  1|                 1|                 1|                 1|                1|                1|             1205|                 1|                 1|                 1|                1|           5.4E-79|                 1|                 1|                 1|           5.4E-79|                 1|                 1|                 1|\n",
            "|    max|          2015011400|                56|               12|b'12312015'| b'12'| b'31'|b'2016'|                5|               99|               13|                  2|                 9|               99|                99|                  2|                 9|                 9|                 9|                 9|                   9|                  9|                 9|                  9|                 9|                    9|                 9|                  9|                 9|                 9|                 9|                 9|                 9|                 9|                 9|                  2|                 9|                 9|                 2|               99|               13|             9654|                 4|                 9|                 9|                9|           99900.0|                 9|                 9|                 9|           33080.0|                 9|                 9|                 9|\n",
            "+-------+--------------------+------------------+-----------------+-----------+------+------+-------+-----------------+-----------------+-----------------+-------------------+------------------+-----------------+------------------+-------------------+------------------+------------------+------------------+------------------+--------------------+-------------------+------------------+-------------------+------------------+---------------------+------------------+-------------------+------------------+------------------+------------------+------------------+------------------+------------------+------------------+-------------------+------------------+------------------+------------------+-----------------+-----------------+-----------------+------------------+------------------+------------------+-----------------+------------------+------------------+------------------+------------------+------------------+------------------+------------------+------------------+\n",
            "\n"
          ]
        }
      ]
    },
    {
      "cell_type": "code",
      "source": [
        "#Clean Data replace values \n",
        "\n",
        "#Replace 77/9/99 for 999\n",
        "dashboard_data_df =clean_dash_df.na.replace([77, 9,99900,5.4E-79], [99,99,99,0])\n",
        "dashboard_data_df.show(10)\n",
        "\n"
      ],
      "metadata": {
        "colab": {
          "base_uri": "https://localhost:8080/"
        },
        "id": "FHOEog4UQe_d",
        "outputId": "d988fd87-a5cd-4d8d-9c98-118a3a0cfa3e"
      },
      "execution_count": 16,
      "outputs": [
        {
          "output_type": "stream",
          "name": "stdout",
          "text": [
            "+----------+-----+------+-----------+-----+-----+-------+----------+----+-----------+----------+-------+--------+--------+---+--------------+---------+-----------+-------+--------------------+--------+-------------+--------+-----+---------------------+--------+--------+--------+--------------+-------------+--------+--------------+--------+----------------+----------------+--------------+--------+-------------+----+-----------+----+--------+---------+---------------+-------+-----------+-------------+-----------------+-----------------+------------------+---------------+-------------+----------+\n",
            "|     SEQNO|STATE|FMONTH|       DATE|MONTH|  DAY|   YEAR|METRO_CODE|RACE|AGE_14LEVEL|AGE_2LEVEL|GENHLTH|MENTHLTH|PHYSHLTH|SEX|MARITAL_STATUS|EDUCATION|HOME_STATUS|VETERAN|EMPLOYMENT_SITUATION|INTERNET|DISABILITIES?|USEEQUIP|BLIND|ISSUES_DECISION_MAING|DIFFWALK|DIFFDRES|DIFFALON|HEALTHY_ADULTS|HEALTH_CVRAGE|DIABETE3|BLOOD_PRESSURE|_CHOLCHK|HIGH_CHOLESTEROL|CORONARY_DISEASE|ASTHMA_DISEASE|_ASTHMS1|HAS_ARTHRITIS|RACE|AGE_14LEVEL| BMI|BMI_5CAT|CHILDREN2|EDUCATION_LEVEL|INCOME2|DRINKS_WEEK|HEAVY_DRINKER|FRUIT_CONSUMPTION|VEGGIE_COSUMPTION|PHYS_ACTIVITY_MINS|PHYS_CATEGORIES|PHYS_ACT_INDX|AER_STRGTH|\n",
            "+----------+-----+------+-----------+-----+-----+-------+----------+----+-----------+----------+-------+--------+--------+---+--------------+---------+-----------+-------+--------------------+--------+-------------+--------+-----+---------------------+--------+--------+--------+--------------+-------------+--------+--------------+--------+----------------+----------------+--------------+--------+-------------+----+-----------+----+--------+---------+---------------+-------+-----------+-------------+-----------------+-----------------+------------------+---------------+-------------+----------+\n",
            "|2015000002|    1|     1|b'01202015'|b'01'|b'20'|b'2015'|         5|   1|          7|         1|      3|      88|      88|  2|             2|        6|          1|      2|                   3|       1|            1|       2|    1|                    1|       2|       2|       2|             1|            2|       3|             1|       2|               1|               2|             1|       3|            2|   1|          7|2509|       3|        1|              4|      1|        0.0|            1|                2|                2|             168.0|              2|            1|         2|\n",
            "|2015000006|    1|     1|b'01142015'|b'01'|b'14'|b'2015'|         5|   1|         11|         2|      2|      88|      88|  2|             3|        3|          1|      2|                   2|       2|            1|       2|    2|                    2|       2|       2|       2|             1|           99|       3|             2|       1|               1|               2|             1|       3|            1|   1|         11|2652|       3|        1|              1|      4|        0.0|            1|                1|                1|             330.0|              1|            1|         2|\n",
            "|2015000007|    1|     1|b'01052015'|b'01'|b'05'|b'2015'|         1|   1|         11|         2|      2|       3|      88|  2|             3|        5|          1|      2|                   7|       2|            2|       2|    2|                    2|       2|       2|       2|             1|           99|       3|             2|       1|               2|               2|             1|       3|            2|   1|         11|2389|       2|        1|              3|      2|       70.0|            1|                1|                1|             345.0|              1|            1|         2|\n",
            "|2015000010|    1|     1|b'01302015'|b'01'|b'30'|b'2015'|         1|   1|         10|         2|      2|      88|       2|  1|             1|        6|          1|      2|                   7|       1|            2|       2|    2|                    2|       2|       2|       2|             1|           99|       3|             2|       1|               2|               2|             1|       3|            2|   1|         10|2522|       3|        1|              4|      5|        0.0|            1|                1|                1|             300.0|              2|            1|         2|\n",
            "|2015000016|    1|     1|b'01142015'|b'01'|b'14'|b'2015'|         3|   1|         11|         2|      3|      88|      88|  2|             3|        4|          1|      2|                   5|       1|            1|       2|    2|                    2|       1|       2|       2|             1|           99|       3|             2|       1|               2|               2|             2|       1|            1|   1|         11|2500|       3|        1|              2|      2|       93.0|            1|                2|                1|             210.0|              2|            1|         2|\n",
            "|2015000019|    1|     1|b'01272015'|b'01'|b'27'|b'2015'|         3|   1|         13|         2|      3|      88|      14|  2|             3|        3|          1|      2|                   7|       2|            1|       1|    2|                    2|       2|       2|       2|             1|           99|       3|             2|       1|               2|               1|             1|       3|            1|   1|         13|2579|       3|        1|              1|     99|        0.0|            1|                1|                1|              90.0|              3|            2|         4|\n",
            "|2015000022|    1|     1|b'01282015'|b'01'|b'28'|b'2015'|         1|   1|         13|         2|      3|      88|      88|  1|             1|        6|          1|      1|                   7|       1|            2|       2|    2|                    2|       2|       2|       2|             1|           99|       1|             1|       1|               1|               2|             1|       3|            1|   1|         13|2468|       2|        1|              4|      5|       23.0|            1|                1|                1|             280.0|              2|            1|         2|\n",
            "|2015000025|    1|     1|b'01032015'|b'01'|b'03'|b'2015'|         1|   1|         99|         1|      5|      99|      99|  1|             2|        4|          2|      1|                  99|       2|            1|       1|    2|                    2|       1|       1|       1|             2|            1|       1|             2|       1|               2|               1|             1|       3|            1|   1|         99|2848|       3|        1|              2|      2|        0.0|            1|                1|                1|              60.0|              3|            2|         4|\n",
            "|2015000035|    1|     1|b'01052015'|b'01'|b'05'|b'2015'|         3|   1|          4|         1|      4|      30|      28|  2|             1|        6|          1|      2|                   8|       1|            1|       2|    2|                    1|       2|       2|       1|             2|            1|       3|             1|       1|               2|               2|             1|       3|            1|   1|          4|3328|       4|        1|              4|      1|        0.0|            1|                2|                1|               0.0|             99|           99|        99|\n",
            "|2015000036|    1|     1|b'01202015'|b'01'|b'20'|b'2015'|         5|   1|          6|         1|      2|       5|      88|  2|             1|        6|          1|      2|                   1|       1|            2|       2|    2|                    2|       2|       2|       2|             1|            1|       3|             2|       1|               1|               2|             1|       3|            2|   1|          6|3328|       4|        1|              4|      5|       93.0|            1|                2|                2|             180.0|              2|            1|         1|\n",
            "+----------+-----+------+-----------+-----+-----+-------+----------+----+-----------+----------+-------+--------+--------+---+--------------+---------+-----------+-------+--------------------+--------+-------------+--------+-----+---------------------+--------+--------+--------+--------------+-------------+--------+--------------+--------+----------------+----------------+--------------+--------+-------------+----+-----------+----+--------+---------+---------------+-------+-----------+-------------+-----------------+-----------------+------------------+---------------+-------------+----------+\n",
            "only showing top 10 rows\n",
            "\n"
          ]
        }
      ]
    },
    {
      "cell_type": "code",
      "source": [
        "#Replace values from Dictionary\n",
        "#stateDic={'CA':'California','NY':'New York','DE':'Delaware'}\n",
        "\n",
        "genhlthDic={1:'Excellent',2:'Very Good',3:'Good',4:'Fair',5:'Poor',99:'Dont Know',7:'Dont know'}\n",
        "YNDic={1:\"Yes\",2:\"No\",7:'Dont know',99:'Dont know'}\n",
        "NYDic={1:'No',2:'Yes',7:'Dont Know',99:'Dont know'}\n",
        "sexDic={1:'Male',2:'Female',7:'DOnt know',99:'Dont know'}\n",
        "MetroCodeDic={1:'Center of MSA',2:'Outside Center MSA',3:'Inside a Suburban county',5:'Not in MSA', 99:'Dont know',7:'Dont know'}\n",
        "RaceDic={1:'White',2:'African American',3:'American Indian',4:'Asian',5:'Pacific Islander',6:'Other',7:'No Preferred Race',8:'Multiracial',99:'Dont know'}\n",
        "MaritStatDic={1:'Married',2:'Divorced',3:'Widowed',4:'Separated',5:'Never Married',6:'Member of an unmarried couple',99:'Dont know',7:'DOnt know'}\n",
        "Age14Dic={1:'18-24',2:'25-29',3:'30-34',4:'35-39',5:'40-44',6:'45-49',7:'50-54',8:'55-59',9:'60-64',10:'65-69',11:'70-74',12:'75-79',13:'80-Older',14:'Don’t Know',99:'Dont know'}\n",
        "Age2Dic={1:'18-64',2:'65-Older',3:'Don’t know ',7:'DOnt know'}\n",
        "EduDic={1:'Did not Graduate HighSchool',2:'Graduated HighSchool',3:'Attended College',4:'Graduated College ',99:'Don’t know',7:'DOnt know'}\n",
        "HomeDic={1:'Own',2:'Rent',3:'Other Arrangement',99:'Don’t Know',7:'DOnt know'}\n",
        "EmplDic={1:'Employeed for wages',2:'Self-Employed',3:'Out of work>1 Year',4:'Out of work< 1 Year',5:'Homemaker',6:'Student',7:'Retired',8:'Unable to Work',99:'Don’t Know'}\n",
        "IncomeDic={1:'Less than 10K',2:'10K-15K',3:'15K-20K',4:'20K-25K',5:'25K-35K',6:'35K-50K',7:'50K-75K',8:'75K or more',99:'Dont know',7:'DOnt know'}\n",
        "RFDic={1:'Good or Better Health',2:'Fair or Poor Health',99:'Don’t know',7:'DOnt know'}\n",
        "BMIDic={1:'Underweight',2:'Normal Weight',3:'Overweight',4:'Obese',99:'Don’t know',7:'DOnt know'}\n",
        "PhysActDic={1:'Highly Active',2:'Active',3:'insufficiently Active',4:'Inactive',99:'Don’t know',7:'DOnt know'}\n",
        "\n",
        "df2=dashboard_data_df.rdd.map(lambda x: \n",
        "    (x.SEQNO,x.STATE,genhlthDic[x.GENHLTH],x.MENTHLTH,sexDic[x.SEX],x.PHYSHLTH,MaritStatDic[x.MARITAL_STATUS],RaceDic[x.RACE],MetroCodeDic[x.METRO_CODE],Age14Dic[x.AGE_14LEVEL],Age2Dic[x.AGE_2LEVEL],EduDic[x.EDUCATION_LEVEL],HomeDic[x.HOME_STATUS],EmplDic[x.EMPLOYMENT_SITUATION],IncomeDic[x.INCOME2],RFDic[x.HEALTHY_ADULTS],BMIDic[x.BMI_5CAT],PhysActDic[x.PHYS_ACT_INDX],x.DRINKS_WEEK,YNDic[x.HAS_ARTHRITIS],YNDic[x.ASTHMA_DISEASE],NYDic[x.CORONARY_DISEASE],NYDic[x.HIGH_CHOLESTEROL],NYDic[x.BLOOD_PRESSURE],YNDic[x.HEALTH_CVRAGE],YNDic[x.INTERNET],YNDic[x.VETERAN])\n",
        "    ).toDF([\"SEQNO\",\"STATE\",\"GENHLTH\",\"MENTHLTH\",\"SEX\",\"PHYSHLTH\",\"MARITAL_STATUS\",\"RACE\",\"METRO_CODE\",\"AGE_14LEVEL\",\"AGE_2LEVEL\",\"EDUCATION_LEVEL\",\"HOME_STATUS\",\"EMPLOYMENT_SITUATION\",\"INCOME2\",\"HEALTHY_ADULTS\",\"BMI_5CAT\",\"PHYS_ACT_INDX\",\"DRINKS_WEEK\",\"HAS_ARTHRITIS\",\"ASTHMA_DISEASE\",\"CORONARY_DISEASE\",\"HIGH_CHOLESTEROL\",\"BLOOD_PRESSURE\",\"HEALTH_CVRAGE\",\"INTERNET\",\"VETERAN\"])\n",
        "df2.show(50)"
      ],
      "metadata": {
        "colab": {
          "base_uri": "https://localhost:8080/"
        },
        "id": "8uz0jJ9bjWpL",
        "outputId": "5c2ab4d9-0b27-4020-eb5e-4d59640e569b"
      },
      "execution_count": 17,
      "outputs": [
        {
          "output_type": "stream",
          "name": "stdout",
          "text": [
            "+----------+-----+---------+--------+------+--------+--------------+----------------+--------------------+-----------+----------+--------------------+-----------------+--------------------+-------------+--------------------+-------------+-------------+-----------+-------------+--------------+----------------+----------------+--------------+-------------+--------+-------+\n",
            "|     SEQNO|STATE|  GENHLTH|MENTHLTH|   SEX|PHYSHLTH|MARITAL_STATUS|            RACE|          METRO_CODE|AGE_14LEVEL|AGE_2LEVEL|     EDUCATION_LEVEL|      HOME_STATUS|EMPLOYMENT_SITUATION|      INCOME2|      HEALTHY_ADULTS|     BMI_5CAT|PHYS_ACT_INDX|DRINKS_WEEK|HAS_ARTHRITIS|ASTHMA_DISEASE|CORONARY_DISEASE|HIGH_CHOLESTEROL|BLOOD_PRESSURE|HEALTH_CVRAGE|INTERNET|VETERAN|\n",
            "+----------+-----+---------+--------+------+--------+--------------+----------------+--------------------+-----------+----------+--------------------+-----------------+--------------------+-------------+--------------------+-------------+-------------+-----------+-------------+--------------+----------------+----------------+--------------+-------------+--------+-------+\n",
            "|2015000002|    1|     Good|      88|Female|      88|      Divorced|           White|          Not in MSA|      50-54|     18-64|  Graduated College |              Own|  Out of work>1 Year|Less than 10K|Good or Better He...|   Overweight|Highly Active|        0.0|           No|           Yes|             Yes|              No|            No|           No|     Yes|     No|\n",
            "|2015000006|    1|Very Good|      88|Female|      88|       Widowed|           White|          Not in MSA|      70-74|  65-Older|Did not Graduate ...|              Own|       Self-Employed|      20K-25K|Good or Better He...|   Overweight|Highly Active|        0.0|          Yes|           Yes|             Yes|              No|           Yes|    Dont know|      No|     No|\n",
            "|2015000007|    1|Very Good|       3|Female|      88|       Widowed|           White|       Center of MSA|      70-74|  65-Older|    Attended College|              Own|             Retired|      10K-15K|Good or Better He...|Normal Weight|Highly Active|       70.0|           No|           Yes|             Yes|             Yes|           Yes|    Dont know|      No|     No|\n",
            "|2015000010|    1|Very Good|      88|  Male|       2|       Married|           White|       Center of MSA|      65-69|  65-Older|  Graduated College |              Own|             Retired|      25K-35K|Good or Better He...|   Overweight|Highly Active|        0.0|           No|           Yes|             Yes|             Yes|           Yes|    Dont know|     Yes|     No|\n",
            "|2015000016|    1|     Good|      88|Female|      88|       Widowed|           White|Inside a Suburban...|      70-74|  65-Older|Graduated HighSchool|              Own|           Homemaker|      10K-15K|Good or Better He...|   Overweight|Highly Active|       93.0|          Yes|            No|             Yes|             Yes|           Yes|    Dont know|     Yes|     No|\n",
            "|2015000019|    1|     Good|      88|Female|      14|       Widowed|           White|Inside a Suburban...|   80-Older|  65-Older|Did not Graduate ...|              Own|             Retired|    Dont know|Good or Better He...|   Overweight|       Active|        0.0|          Yes|           Yes|              No|             Yes|           Yes|    Dont know|      No|     No|\n",
            "|2015000022|    1|     Good|      88|  Male|      88|       Married|           White|       Center of MSA|   80-Older|  65-Older|  Graduated College |              Own|             Retired|      25K-35K|Good or Better He...|Normal Weight|Highly Active|       23.0|          Yes|           Yes|             Yes|              No|            No|    Dont know|     Yes|    Yes|\n",
            "|2015000025|    1|     Poor|      99|  Male|      99|      Divorced|           White|       Center of MSA|  Dont know|     18-64|Graduated HighSchool|             Rent|          Don’t Know|      10K-15K| Fair or Poor Health|   Overweight|       Active|        0.0|          Yes|           Yes|              No|             Yes|           Yes|          Yes|      No|    Yes|\n",
            "|2015000035|    1|     Fair|      30|Female|      28|       Married|           White|Inside a Suburban...|      35-39|     18-64|  Graduated College |              Own|      Unable to Work|Less than 10K| Fair or Poor Health|        Obese|   Don’t know|        0.0|          Yes|           Yes|             Yes|             Yes|            No|          Yes|     Yes|     No|\n",
            "|2015000036|    1|Very Good|       5|Female|      88|       Married|           White|          Not in MSA|      45-49|     18-64|  Graduated College |              Own| Employeed for wages|      25K-35K|Good or Better He...|        Obese|Highly Active|       93.0|           No|           Yes|             Yes|              No|           Yes|          Yes|     Yes|     No|\n",
            "|2015000037|    1|     Good|      88|Female|      88|       Married|           White|          Not in MSA|      65-69|  65-Older|Graduated HighSchool|              Own|             Retired|      10K-15K|Good or Better He...|Normal Weight|       Active|        0.0|          Yes|           Yes|             Yes|             Yes|           Yes|    Dont know|      No|     No|\n",
            "|2015000038|    1|Very Good|      88|  Male|      88|       Married|           White|       Center of MSA|      50-54|     18-64|    Attended College|              Own| Employeed for wages|      20K-25K|Good or Better He...|Normal Weight|Highly Active|      350.0|           No|           Yes|             Yes|              No|            No|          Yes|     Yes|     No|\n",
            "|2015000041|    1|Very Good|      99|  Male|      88|       Widowed|           White|       Center of MSA|   80-Older|  65-Older|Did not Graduate ...|              Own|             Retired|    Dont know|Good or Better He...|   Overweight|Highly Active|        0.0|           No|           Yes|             Yes|       Dont know|            No|    Dont know|      No|    Yes|\n",
            "|2015000052|    1|     Fair|      88|Female|      30|       Widowed|           White|          Not in MSA|   80-Older|  65-Older|Did not Graduate ...|Other Arrangement|      Unable to Work|    Dont know| Fair or Poor Health|Normal Weight|Highly Active|        0.0|          Yes|            No|              No|             Yes|           Yes|    Dont know|      No|     No|\n",
            "|2015000057|    1|Excellent|      88|Female|      88|       Widowed|African American|          Not in MSA|   80-Older|  65-Older|    Attended College|             Rent|             Retired|      10K-15K|Good or Better He...|   Overweight|Highly Active|        0.0|          Yes|           Yes|             Yes|              No|           Yes|    Dont know|      No|     No|\n",
            "|2015000062|    1|Very Good|      88|Female|      88|       Married|           White|       Center of MSA|      40-44|     18-64|  Graduated College |              Own| Employeed for wages|      25K-35K|Good or Better He...|        Obese|Highly Active|        0.0|           No|           Yes|             Yes|              No|            No|          Yes|     Yes|     No|\n",
            "|2015000075|    1|Excellent|      88|  Male|      88|       Married|           White|  Outside Center MSA|      75-79|  65-Older|  Graduated College |              Own|             Retired|      25K-35K|Good or Better He...|        Obese|Highly Active|        0.0|           No|           Yes|             Yes|             Yes|            No|    Dont know|     Yes|    Yes|\n",
            "|2015000076|    1|     Fair|      88|Female|       7| Never Married|African American|  Outside Center MSA|  Dont know|     18-64|    Attended College|             Rent|      Unable to Work|      10K-15K| Fair or Poor Health|        Obese|   Don’t know|        0.0|          Yes|           Yes|             Yes|             Yes|           Yes|          Yes|     Yes|     No|\n",
            "|2015000077|    1|Excellent|      88|  Male|      88|       Widowed|           White|Inside a Suburban...|   80-Older|  65-Older|Did not Graduate ...|              Own|             Retired|      10K-15K|Good or Better He...|        Obese|Highly Active|        0.0|          Yes|           Yes|             Yes|              No|           Yes|    Dont know|     Yes|    Yes|\n",
            "|2015000078|    1|Excellent|       2|Female|      88|       Married|           White|          Not in MSA|      45-49|     18-64|Graduated HighSchool|              Own|           Homemaker|      25K-35K|Good or Better He...|Normal Weight|       Active|        0.0|           No|            No|             Yes|              No|            No|          Yes|     Yes|     No|\n",
            "|2015000079|    1|     Good|      88|  Male|      88|       Widowed|           White|Inside a Suburban...|      70-74|  65-Older|  Graduated College |              Own|             Retired|Less than 10K|Good or Better He...|        Obese|Highly Active|       23.0|          Yes|           Yes|             Yes|              No|           Yes|    Dont know|      No|    Yes|\n",
            "|2015000081|    1|Very Good|      88|Female|      88|       Married|           White|Inside a Suburban...|  Dont know|     18-64|Graduated HighSchool|              Own| Employeed for wages|      10K-15K|Good or Better He...|   Overweight|       Active|      200.0|          Yes|           Yes|             Yes|              No|           Yes|          Yes|      No|     No|\n",
            "|2015000083|    1|Very Good|      88|Female|      10|       Married|           White|       Center of MSA|      75-79|  65-Older|    Attended College|              Own|             Retired|      25K-35K|Good or Better He...|Normal Weight|Highly Active|        0.0|          Yes|           Yes|             Yes|              No|            No|    Dont know|     Yes|     No|\n",
            "|2015000085|    1|Excellent|      88|  Male|       1|       Married|           White|       Center of MSA|      35-39|     18-64|    Attended College|              Own|  Out of work>1 Year|      10K-15K|Good or Better He...|   Overweight|       Active|       23.0|           No|           Yes|             Yes|              No|            No|           No|     Yes|     No|\n",
            "|2015000088|    1|Very Good|      88|Female|       1|       Married|           White|          Not in MSA|      35-39|     18-64|  Graduated College |              Own| Employeed for wages|      25K-35K|Good or Better He...|   Overweight|       Active|        0.0|          Yes|           Yes|             Yes|              No|            No|          Yes|     Yes|     No|\n",
            "|2015000089|    1|Very Good|      30|Female|       7|      Divorced|           White|Inside a Suburban...|      55-59|     18-64|    Attended College|              Own|       Self-Employed|      20K-25K|Good or Better He...|        Obese|Highly Active|       99.0|           No|            No|             Yes|             Yes|            No|          Yes|     Yes|     No|\n",
            "|2015000093|    1|     Fair|      88|  Male|       3|       Married|           White|       Center of MSA|      65-69|  65-Older|  Graduated College |              Own|             Retired|    Dont know| Fair or Poor Health|   Overweight|Highly Active|      117.0|           No|           Yes|              No|             Yes|           Yes|    Dont know|     Yes|    Yes|\n",
            "|2015000095|    1|Very Good|      25|Female|      88|       Married|           White|  Outside Center MSA|  Dont know|     18-64|  Graduated College |              Own|       Self-Employed|      25K-35K|Good or Better He...|Normal Weight|Highly Active|        0.0|          Yes|           Yes|             Yes|              No|           Yes|          Yes|     Yes|     No|\n",
            "|2015000096|    1|     Poor|      30|  Male|      30|       Widowed|           White|          Not in MSA|   80-Older|  65-Older|Graduated HighSchool|              Own|             Retired|    Dont know| Fair or Poor Health|        Obese|       Active|        0.0|           No|            No|             Yes|             Yes|           Yes|    Dont know|      No|    Yes|\n",
            "|2015000101|    1|     Fair|      30|Female|      15|       Widowed|African American|  Outside Center MSA|      65-69|  65-Older|Did not Graduate ...|             Rent|             Retired|    Dont know| Fair or Poor Health|        Obese|   Don’t know|        0.0|          Yes|           Yes|              No|             Yes|           Yes|    Dont know|      No|     No|\n",
            "|2015000102|    1|     Fair|      88|  Male|      88|      Divorced|African American|          Not in MSA|      65-69|  65-Older|Did not Graduate ...|              Own|             Retired|    Dont know| Fair or Poor Health|   Overweight|   Don’t know|      400.0|          Yes|           Yes|             Yes|             Yes|            No|    Dont know|      No|     No|\n",
            "|2015000103|    1|Very Good|       5|Female|      88| Never Married|African American|       Center of MSA|      50-54|     18-64|    Attended College|              Own|  Out of work>1 Year|Less than 10K|Good or Better He...|        Obese|       Active|        0.0|           No|           Yes|             Yes|              No|            No|           No|     Yes|     No|\n",
            "|2015000106|    1|     Good|      30|  Male|       2|       Married|           White|          Not in MSA|      65-69|  65-Older|    Attended College|              Own|             Retired|      20K-25K|Good or Better He...|        Obese|Highly Active|        0.0|           No|           Yes|             Yes|             Yes|           Yes|    Dont know|     Yes|     No|\n",
            "|2015000109|    1|     Fair|      10|Female|      17|      Divorced|           White|Inside a Suburban...|  Dont know|     18-64|Graduated HighSchool|              Own|      Unable to Work|Less than 10K| Fair or Poor Health|   Overweight|       Active|        0.0|          Yes|            No|              No|             Yes|           Yes|          Yes|      No|     No|\n",
            "|2015000110|    1|     Good|      88|Female|      88| Never Married|African American|       Center of MSA|      50-54|     18-64|Did not Graduate ...|              Own|      Unable to Work|      10K-15K|Good or Better He...|Normal Weight|       Active|       70.0|           No|            No|             Yes|              No|           Yes|          Yes|      No|     No|\n",
            "|2015000112|    1|     Good|       1|Female|      88|       Widowed|           White|Inside a Suburban...|   80-Older|  65-Older|Graduated HighSchool|              Own|      Unable to Work|    Dont know|Good or Better He...|Normal Weight|Highly Active|        0.0|           No|           Yes|             Yes|             Yes|            No|    Dont know|      No|     No|\n",
            "|2015000114|    1|Very Good|      88|Female|      88|       Widowed|           White|       Center of MSA|      65-69|  65-Older|    Attended College|              Own|             Retired|      20K-25K|Good or Better He...|        Obese|Highly Active|        0.0|           No|           Yes|             Yes|              No|            No|    Dont know|     Yes|     No|\n",
            "|2015000116|    1|     Fair|      88|  Male|      88| Never Married|African American|          Not in MSA|      40-44|     18-64|    Attended College|             Rent| Out of work< 1 Year|      10K-15K| Fair or Poor Health|        Obese|Highly Active|      140.0|           No|           Yes|             Yes|             Yes|            No|           No|     Yes|     No|\n",
            "|2015000118|    1|Very Good|      88|Female|      88|      Divorced|           White|       Center of MSA|   80-Older|  65-Older|  Graduated College |              Own|             Retired|    Dont know|Good or Better He...|   Overweight|       Active|      300.0|           No|           Yes|             Yes|              No|            No|    Dont know|      No|     No|\n",
            "|2015000121|    1|Excellent|      88|  Male|      10|      Divorced|           White|  Outside Center MSA|      70-74|  65-Older|  Graduated College |              Own|             Retired|      25K-35K|Good or Better He...|   Overweight|       Active|        0.0|           No|           Yes|             Yes|              No|            No|    Dont know|     Yes|    Yes|\n",
            "|2015000122|    1|Very Good|      88|Female|       5|       Married|African American|  Outside Center MSA|      45-49|     18-64|  Graduated College |              Own| Employeed for wages|      25K-35K|Good or Better He...|   Overweight|       Active|     1400.0|           No|           Yes|             Yes|              No|            No|          Yes|     Yes|     No|\n",
            "|2015000124|    1|Excellent|      88|Female|      88|       Married|           White|  Outside Center MSA|      65-69|  65-Older|  Graduated College |              Own|             Retired|      25K-35K|Good or Better He...|Normal Weight|Highly Active|        0.0|           No|           Yes|             Yes|             Yes|            No|    Dont know|     Yes|     No|\n",
            "|2015000125|    1|     Good|      88|Female|      88|       Married|African American|       Center of MSA|      55-59|     18-64|  Graduated College |              Own| Employeed for wages|    Dont know|Good or Better He...|   Overweight|Highly Active|        0.0|           No|           Yes|             Yes|              No|           Yes|          Yes|     Yes|     No|\n",
            "|2015000126|    1|     Good|       1|  Male|      88|      Divorced|           White|          Not in MSA|      70-74|  65-Older|  Graduated College |              Own|             Retired|      20K-25K|Good or Better He...|        Obese|       Active|       70.0|          Yes|           Yes|              No|             Yes|           Yes|    Dont know|      No|     No|\n",
            "|2015000127|    1|Very Good|      88|Female|      88|       Married|           White|       Center of MSA|      50-54|     18-64|Graduated HighSchool|              Own|           Homemaker|      15K-20K|Good or Better He...|Normal Weight|Highly Active|        0.0|           No|           Yes|             Yes|              No|            No|          Yes|     Yes|     No|\n",
            "|2015000128|    1|     Good|      88|Female|      88|       Married|           White|          Not in MSA|      70-74|  65-Older|Graduated HighSchool|              Own| Employeed for wages|      10K-15K|Good or Better He...|   Overweight|Highly Active|        0.0|           No|           Yes|             Yes|              No|           Yes|    Dont know|      No|     No|\n",
            "|2015000130|    1|     Good|      88|Female|      88|     Dont know|       Dont know|       Center of MSA|  Dont know|     18-64|  Graduated College |              Own|          Don’t Know|      15K-20K|Good or Better He...|        Obese|Highly Active|        0.0|          Yes|           Yes|             Yes|              No|           Yes|          Yes|     Yes|     No|\n",
            "|2015000133|    1|     Fair|      88|  Male|      88|       Married|African American|       Center of MSA|      55-59|     18-64|    Attended College|              Own|             Retired|    Dont know| Fair or Poor Health|   Overweight|       Active|        0.0|           No|           Yes|              No|              No|            No|          Yes|     Yes|     No|\n",
            "|2015000134|    1|     Good|       5|Female|       1|       Married|           White|Inside a Suburban...|      50-54|     18-64|    Attended College|              Own| Employeed for wages|      25K-35K|Good or Better He...|        Obese|Highly Active|        0.0|          Yes|           Yes|             Yes|             Yes|           Yes|          Yes|     Yes|     No|\n",
            "|2015000135|    1|     Fair|      30|Female|      30|       Married|African American|       Center of MSA|      65-69|  65-Older|Graduated HighSchool|              Own|             Retired|      10K-15K| Fair or Poor Health|   Overweight|Highly Active|        0.0|          Yes|           Yes|             Yes|             Yes|           Yes|    Dont know|      No|     No|\n",
            "+----------+-----+---------+--------+------+--------+--------------+----------------+--------------------+-----------+----------+--------------------+-----------------+--------------------+-------------+--------------------+-------------+-------------+-----------+-------------+--------------+----------------+----------------+--------------+-------------+--------+-------+\n",
            "only showing top 50 rows\n",
            "\n"
          ]
        }
      ]
    },
    {
      "cell_type": "code",
      "source": [
        "#LOAD\n",
        "# Store environmental variable\n",
        "from getpass import getpass\n",
        "password = getpass('password')\n",
        "# Configure settings for RDS\n",
        "mode = \"append\"\n",
        "jdbc_url=\"jdbc:postgresql://bootcampproject.cs8v5ggqsbn0.us-west-1.rds.amazonaws.com:5432/postgres\"\n",
        "config = {\"user\":\"postgres\",\n",
        "          \"password\": password,\n",
        "          \"driver\":\"org.postgresql.Driver\"}"
      ],
      "metadata": {
        "colab": {
          "base_uri": "https://localhost:8080/"
        },
        "id": "cXqsThiStr4e",
        "outputId": "c79d1cfc-41bb-47e4-daec-4d226cb3df5e"
      },
      "execution_count": 18,
      "outputs": [
        {
          "name": "stdout",
          "output_type": "stream",
          "text": [
            "password··········\n"
          ]
        }
      ]
    },
    {
      "cell_type": "code",
      "source": [
        "#Write Dash DF to active_user table in RDS\n",
        "#df2.describe()\n",
        "\n",
        "df2.write.jdbc(url=jdbc_url, table='dashboard_data', mode=mode, properties=config)"
      ],
      "metadata": {
        "id": "wxDkhE9nmHin"
      },
      "execution_count": 19,
      "outputs": []
    },
    {
      "cell_type": "code",
      "source": [
        "#oldColumns = dashboard_data_df.schema.names\n",
        "\n",
        "#oldColumns"
      ],
      "metadata": {
        "id": "fKFO8NTLkECe"
      },
      "execution_count": null,
      "outputs": []
    },
    {
      "cell_type": "code",
      "source": [],
      "metadata": {
        "id": "yvQwOSu2mjlb"
      },
      "execution_count": 20,
      "outputs": []
    },
    {
      "cell_type": "code",
      "source": [],
      "metadata": {
        "id": "RHPbpzz-m2mo"
      },
      "execution_count": 20,
      "outputs": []
    },
    {
      "cell_type": "code",
      "source": [],
      "metadata": {
        "id": "TFhxWtN-nAcu"
      },
      "execution_count": 20,
      "outputs": []
    },
    {
      "cell_type": "code",
      "source": [
        "\n"
      ],
      "metadata": {
        "id": "78fjZTSnnIoM"
      },
      "execution_count": 20,
      "outputs": []
    },
    {
      "cell_type": "code",
      "source": [],
      "metadata": {
        "id": "5r6Su_WgtHTh"
      },
      "execution_count": 20,
      "outputs": []
    }
  ]
}