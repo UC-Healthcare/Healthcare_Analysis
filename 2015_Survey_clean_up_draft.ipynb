{
  "nbformat": 4,
  "nbformat_minor": 0,
  "metadata": {
    "colab": {
      "name": "2015_Survey_clean_up.ipynb",
      "provenance": [],
      "collapsed_sections": []
    },
    "kernelspec": {
      "name": "python3",
      "display_name": "Python 3"
    },
    "language_info": {
      "name": "python"
    }
  },
  "cells": [
    {
      "cell_type": "code",
      "execution_count": 1,
      "metadata": {
        "colab": {
          "base_uri": "https://localhost:8080/"
        },
        "id": "DnYEjVDT80LX",
        "outputId": "59579f12-625b-4c12-f8a5-8bc0df089b38"
      },
      "outputs": [
        {
          "output_type": "stream",
          "name": "stdout",
          "text": [
            "Get:1 https://cloud.r-project.org/bin/linux/ubuntu bionic-cran40/ InRelease [3,626 B]\n",
            "Get:2 http://security.ubuntu.com/ubuntu bionic-security InRelease [88.7 kB]\n",
            "Get:3 http://ppa.launchpad.net/c2d4u.team/c2d4u4.0+/ubuntu bionic InRelease [15.9 kB]\n",
            "Ign:4 https://developer.download.nvidia.com/compute/machine-learning/repos/ubuntu1804/x86_64  InRelease\n",
            "Get:5 https://developer.download.nvidia.com/compute/cuda/repos/ubuntu1804/x86_64  InRelease [1,581 B]\n",
            "Hit:6 https://developer.download.nvidia.com/compute/machine-learning/repos/ubuntu1804/x86_64  Release\n",
            "Hit:7 http://archive.ubuntu.com/ubuntu bionic InRelease\n",
            "Get:8 http://archive.ubuntu.com/ubuntu bionic-updates InRelease [88.7 kB]\n",
            "Hit:9 http://ppa.launchpad.net/cran/libgit2/ubuntu bionic InRelease\n",
            "Hit:10 http://ppa.launchpad.net/deadsnakes/ppa/ubuntu bionic InRelease\n",
            "Get:11 http://archive.ubuntu.com/ubuntu bionic-backports InRelease [74.6 kB]\n",
            "Hit:12 http://ppa.launchpad.net/graphics-drivers/ppa/ubuntu bionic InRelease\n",
            "Get:13 https://cloud.r-project.org/bin/linux/ubuntu bionic-cran40/ Packages [91.1 kB]\n",
            "Get:14 https://developer.download.nvidia.com/compute/cuda/repos/ubuntu1804/x86_64  Packages [912 kB]\n",
            "Get:16 http://ppa.launchpad.net/c2d4u.team/c2d4u4.0+/ubuntu bionic/main Sources [2,093 kB]\n",
            "Get:17 http://security.ubuntu.com/ubuntu bionic-security/universe amd64 Packages [1,534 kB]\n",
            "Get:18 http://ppa.launchpad.net/c2d4u.team/c2d4u4.0+/ubuntu bionic/main amd64 Packages [1,073 kB]\n",
            "Get:19 http://security.ubuntu.com/ubuntu bionic-security/main amd64 Packages [2,938 kB]\n",
            "Get:20 http://archive.ubuntu.com/ubuntu bionic-updates/universe amd64 Packages [2,311 kB]\n",
            "Get:21 http://archive.ubuntu.com/ubuntu bionic-updates/main amd64 Packages [3,369 kB]\n",
            "Fetched 14.6 MB in 8s (1,741 kB/s)\n",
            "Reading package lists... Done\n"
          ]
        }
      ],
      "source": [
        "import os\n",
        "# Find the latest version of spark 3.0 from http://www.apache.org/dist/spark/ and enter as the spark version\n",
        "# For example:\n",
        "# spark_version = 'spark-3.0.3'\n",
        "spark_version = 'spark-3.1.3'\n",
        "os.environ['SPARK_VERSION']=spark_version\n",
        "\n",
        "# Install Spark and Java\n",
        "!apt-get update\n",
        "!apt-get install openjdk-11-jdk-headless -qq > /dev/null\n",
        "!wget -q http://www.apache.org/dist/spark/$SPARK_VERSION/$SPARK_VERSION-bin-hadoop2.7.tgz\n",
        "!tar xf $SPARK_VERSION-bin-hadoop2.7.tgz\n",
        "!pip install -q findspark\n",
        "\n",
        "# Set Environment Variables\n",
        "import os\n",
        "os.environ[\"JAVA_HOME\"] = \"/usr/lib/jvm/java-11-openjdk-amd64\"\n",
        "os.environ[\"SPARK_HOME\"] = f\"/content/{spark_version}-bin-hadoop2.7\"\n",
        "\n",
        "# Start a SparkSession\n",
        "import findspark\n",
        "findspark.init()"
      ]
    },
    {
      "cell_type": "code",
      "source": [
        "# postgres driver\n",
        "!wget https://jdbc.postgresql.org/download/postgresql-42.2.16.jar"
      ],
      "metadata": {
        "colab": {
          "base_uri": "https://localhost:8080/"
        },
        "id": "hNBAdpwgBtOC",
        "outputId": "03c95127-2833-4e2d-e762-2a05dfbe9fd4"
      },
      "execution_count": 2,
      "outputs": [
        {
          "output_type": "stream",
          "name": "stdout",
          "text": [
            "--2022-08-29 00:24:53--  https://jdbc.postgresql.org/download/postgresql-42.2.16.jar\n",
            "Resolving jdbc.postgresql.org (jdbc.postgresql.org)... 72.32.157.228, 2001:4800:3e1:1::228\n",
            "Connecting to jdbc.postgresql.org (jdbc.postgresql.org)|72.32.157.228|:443... connected.\n",
            "HTTP request sent, awaiting response... 200 OK\n",
            "Length: 1002883 (979K) [application/java-archive]\n",
            "Saving to: ‘postgresql-42.2.16.jar’\n",
            "\n",
            "postgresql-42.2.16. 100%[===================>] 979.38K  6.10MB/s    in 0.2s    \n",
            "\n",
            "2022-08-29 00:24:53 (6.10 MB/s) - ‘postgresql-42.2.16.jar’ saved [1002883/1002883]\n",
            "\n"
          ]
        }
      ]
    },
    {
      "cell_type": "code",
      "source": [
        "## add session + driver to spark\n",
        "from pyspark.sql import SparkSession\n",
        "spark = SparkSession.builder.appName(\"CloudETL\").config(\"spark.driver.extraClassPath\",\"/content/postgresql-42.2.16.jar\").getOrCreate()"
      ],
      "metadata": {
        "id": "JvN2kZ1DCYDC"
      },
      "execution_count": 3,
      "outputs": []
    },
    {
      "cell_type": "code",
      "source": [
        "# extract \n",
        "# Read in data from S3 Buckets\n",
        "from pyspark import SparkFiles\n",
        "url =\"https://bootcamp-adri.s3.us-west-1.amazonaws.com/data/BootCampProject/2015_Survey.csv\"\n",
        "spark.sparkContext.addFile(url)\n",
        "survey_data_df = spark.read.csv(SparkFiles.get(\"2015_Survey.csv\"), sep=\",\", header=True, inferSchema=True)"
      ],
      "metadata": {
        "id": "DXEQKOzjChdx"
      },
      "execution_count": 4,
      "outputs": []
    },
    {
      "cell_type": "code",
      "source": [
        "#df \n",
        "# Show DataFrame\n",
        "survey_data_df.show(10)"
      ],
      "metadata": {
        "id": "lUoW-Ze-EXNt",
        "colab": {
          "base_uri": "https://localhost:8080/"
        },
        "outputId": "0238874e-568c-4d26-f27c-7e11d68cf818"
      },
      "execution_count": 5,
      "outputs": [
        {
          "output_type": "stream",
          "name": "stdout",
          "text": [
            "+------+------+-----------+------+-----+-------+--------+----------+----------+--------+--------+--------+--------+--------+------+--------+-------+--------+--------+--------+------+--------+--------+------+--------+-------+-------+--------+--------+--------+--------+--------+-------+--------+-------+------+--------+-------+-------+--------+--------+--------+-------+-------+--------+--------+--------+--------+--------+--------+--------+--------+---+-------+-----+--------+--------+--------+-------+--------+-------+--------+-------+--------+-------+-------+--------+--------+--------+-----+------+--------+--------+--------+--------+--------+--------+--------+-------+-------+--------+--------+--------+--------+------+-------+-------+-------+--------+--------+--------+--------+--------+--------+--------+--------+--------+--------+--------+--------+--------+--------+--------+--------+--------+--------+-------+--------+--------+--------+--------+-------+--------+--------+--------+--------+-------+-------+-------+-------+--------+--------+--------+-------+--------+--------+--------+--------+--------+--------+--------+--------+--------+--------+--------+--------+--------+--------+--------+--------+--------+--------+--------+-------+--------+------+--------+--------+--------+--------+--------+--------+--------+--------+--------+--------+--------+--------+--------+--------+--------+--------+--------+--------+--------+--------+--------+--------+--------+-------+--------+-------+-------+--------+--------+--------+------+-------+-------+--------+-------+--------+--------+--------+--------+--------+--------+--------+--------+--------+--------+--------+--------+--------+-------+--------+--------+--------+--------+--------+--------+--------+--------+--------+--------+--------+--------+--------+--------+--------+--------+--------+--------+------+-------+--------+------+------+-------+------+-------+-------+------+-------+-------------------+------------+------+------+----------+--------+-----------+--------+-------+-------+--------+--------+-----------+-----------+-------+--------+--------+--------+-------+------+--------+--------+--------+--------+-------+-------+--------+-----+--------+--------+--------+--------+--------+------+------+-----+----+-----+-----+--------+-------+--------+-------+-------+--------+--------+--------+--------+--------+--------+--------+--------+--------+--------+--------+--------+--------+--------+--------+--------+--------+--------+--------+-------+-------+------+------+--------+--------+--------+--------+--------+-------+-----+--------+--------+-------+-------+--------+--------+--------+--------+--------+--------+--------+--------+-------+--------+--------+--------+-------+--------+--------+--------+--------+--------+-------+--------+--------+--------+--------+--------+--------+--------+--------+--------+\n",
            "|_STATE|FMONTH|      IDATE|IMONTH| IDAY|  IYEAR|DISPCODE|     SEQNO|      _PSU|CTELENUM|PVTRESD1|COLGHOUS|STATERES|CELLFON3|LADULT|NUMADULT| NUMMEN|NUMWOMEN|CTELNUM1|CELLFON2|CADULT|PVTRESD2|CCLGHOUS|CSTATE|LANDLINE|HHADULT|GENHLTH|PHYSHLTH|MENTHLTH|POORHLTH|HLTHPLN1|PERSDOC2|MEDCOST|CHECKUP1|BPHIGH4|BPMEDS|BLOODCHO|CHOLCHK|TOLDHI2|CVDINFR4|CVDCRHD4|CVDSTRK3|ASTHMA3|ASTHNOW|CHCSCNCR|CHCOCNCR|CHCCOPD1|HAVARTH3|ADDEPEV2|CHCKIDNY|DIABETE3|DIABAGE2|SEX|MARITAL|EDUCA|RENTHOM1|NUMHHOL2|NUMPHON2|CPDEMO1|VETERAN3|EMPLOY1|CHILDREN|INCOME2|INTERNET|WEIGHT2|HEIGHT3|PREGNANT|QLACTLM2|USEEQUIP|BLIND|DECIDE|DIFFWALK|DIFFDRES|DIFFALON|SMOKE100|SMOKDAY2|STOPSMK2|LASTSMK2|USENOW3|ALCDAY5|AVEDRNK2|DRNK3GE5|MAXDRNKS|FRUITJU1|FRUIT1|FVBEANS|FVGREEN|FVORANG|VEGETAB1|EXERANY2|EXRACT11|EXEROFT1|EXERHMM1|EXRACT21|EXEROFT2|EXERHMM2|STRENGTH|LMTJOIN3|ARTHDIS2|ARTHSOCL|JOINPAIN|SEATBELT|FLUSHOT6|FLSHTMY2|IMFVPLAC|PNEUVAC3|HIVTST6|HIVTSTD3|WHRTST10|PDIABTST|PREDIAB1|INSULIN|BLDSUGAR|FEETCHK2|DOCTDIAB|CHKHEMO3|FEETCHK|EYEEXAM|DIABEYE|DIABEDU|PAINACT2|QLMENTL2|QLSTRES2|QLHLTH2|CAREGIV1|CRGVREL1|CRGVLNG1|CRGVHRS1|CRGVPRB1|CRGVPERS|CRGVHOUS|CRGVMST2|CRGVEXPT|VIDFCLT2|VIREDIF3|VIPRFVS2|VINOCRE2|VIEYEXM2|VIINSUR2|VICTRCT4|VIGLUMA2|VIMACDG2|CIMEMLOS|CDHOUSE|CDASSIST|CDHELP|CDSOCIAL|CDDISCUS|WTCHSALT|LONGWTCH|DRADVISE|ASTHMAGE|ASATTACK|ASERVIST|ASDRVIST|ASRCHKUP|ASACTLIM|ASYMPTOM|ASNOSLEP|ASTHMED3|ASINHALR|HAREHAB1|STREHAB1|CVDASPRN|ASPUNSAF|RLIVPAIN|RDUCHART|RDUCSTRK|ARTTODAY|ARTHWGT|ARTHEXER|ARTHEDU|TETANUS|HPVADVC2|HPVADSHT|SHINGLE2|HADMAM|HOWLONG|HADPAP2|LASTPAP2|HPVTEST|HPLSTTST|HADHYST2|PROFEXAM|LENGEXAM|BLDSTOOL|LSTBLDS3|HADSIGM3|HADSGCO1|LASTSIG3|PCPSAAD2|PCPSADI1|PCPSARE1|PSATEST1|PSATIME|PCPSARS1|PCPSADE1|PCDMDECN|SCNTMNY1|SCNTMEL1|SCNTPAID|SCNTWRK1|SCNTLPAD|SCNTLWK1|SXORIENT|TRNSGNDR|RCSGENDR|RCSRLTN2|CASTHDX2|CASTHNO2|EMTSUPRT|LSATISFY|ADPLEASR|ADDOWN|ADSLEEP|ADENERGY|ADEAT1|ADFAIL|ADTHINK|ADMOVE|MISTMNT|ADANXEV|QSTVER|QSTLANG|           EXACTOT1|    EXACTOT2|MSCODE|_STSTR|    _STRWT|_RAWRAKE|   _WT2RAKE|_CHISPNC|_CRACE1|_CPRACE|_CLLCPWT|_DUALUSE|   _DUALCOR|    _LLCPWT|_RFHLTH|_HCVU651|_RFHYPE5|_CHOLCHK|_RFCHOL|_MICHD|_LTASTH1|_CASTHM1|_ASTHMS1|_DRDXAR1|_PRACE1|_MRACE1|_HISPANC|_RACE|_RACEG21|_RACEGR3|_RACE_G1|_AGEG5YR|_AGE65YR|_AGE80|_AGE_G|HTIN4|HTM4|WTKG3|_BMI5|_BMI5CAT|_RFBMI5|_CHLDCNT|_EDUCAG|_INCOMG|_SMOKER3|_RFSMOK3|DRNKANY5|DROCDY3_|_RFBING5|_DRNKWEK|_RFDRHV5|FTJUDA1_|FRUTDA1_|BEANDAY_|GRENDAY_|ORNGDAY_|VEGEDA1_|_MISFRTN|_MISVEGN|_FRTRESP|_VEGRESP|_FRUTSUM|_VEGESUM|_FRTLT1|_VEGLT1|_FRT16|_VEG23|_FRUITEX|_VEGETEX|_TOTINDA|METVL11_|METVL21_|MAXVO2_|FC60_|ACTIN11_|ACTIN21_|PADUR1_|PADUR2_|PAFREQ1_|PAFREQ2_|_MINAC11|_MINAC21|STRFREQ_|PAMISS1_|PAMIN11_|PAMIN21_|PA1MIN_|PAVIG11_|PAVIG21_|PA1VIGM_|_PACAT1|_PAINDX1|_PA150R2|_PA300R2|_PA30021|_PASTRNG|_PAREC1|_PASTAE1|_LMTACT1|_LMTWRK1|_LMTSCL1|_RFSEAT2|_RFSEAT3|_FLSHOT6|_PNEUMO2|_AIDTST3|\n",
            "+------+------+-----------+------+-----+-------+--------+----------+----------+--------+--------+--------+--------+--------+------+--------+-------+--------+--------+--------+------+--------+--------+------+--------+-------+-------+--------+--------+--------+--------+--------+-------+--------+-------+------+--------+-------+-------+--------+--------+--------+-------+-------+--------+--------+--------+--------+--------+--------+--------+--------+---+-------+-----+--------+--------+--------+-------+--------+-------+--------+-------+--------+-------+-------+--------+--------+--------+-----+------+--------+--------+--------+--------+--------+--------+--------+-------+-------+--------+--------+--------+--------+------+-------+-------+-------+--------+--------+--------+--------+--------+--------+--------+--------+--------+--------+--------+--------+--------+--------+--------+--------+--------+--------+-------+--------+--------+--------+--------+-------+--------+--------+--------+--------+-------+-------+-------+-------+--------+--------+--------+-------+--------+--------+--------+--------+--------+--------+--------+--------+--------+--------+--------+--------+--------+--------+--------+--------+--------+--------+--------+-------+--------+------+--------+--------+--------+--------+--------+--------+--------+--------+--------+--------+--------+--------+--------+--------+--------+--------+--------+--------+--------+--------+--------+--------+--------+-------+--------+-------+-------+--------+--------+--------+------+-------+-------+--------+-------+--------+--------+--------+--------+--------+--------+--------+--------+--------+--------+--------+--------+--------+-------+--------+--------+--------+--------+--------+--------+--------+--------+--------+--------+--------+--------+--------+--------+--------+--------+--------+--------+------+-------+--------+------+------+-------+------+-------+-------+------+-------+-------------------+------------+------+------+----------+--------+-----------+--------+-------+-------+--------+--------+-----------+-----------+-------+--------+--------+--------+-------+------+--------+--------+--------+--------+-------+-------+--------+-----+--------+--------+--------+--------+--------+------+------+-----+----+-----+-----+--------+-------+--------+-------+-------+--------+--------+--------+--------+--------+--------+--------+--------+--------+--------+--------+--------+--------+--------+--------+--------+--------+--------+--------+-------+-------+------+------+--------+--------+--------+--------+--------+-------+-----+--------+--------+-------+-------+--------+--------+--------+--------+--------+--------+--------+--------+-------+--------+--------+--------+-------+--------+--------+--------+--------+--------+-------+--------+--------+--------+--------+--------+--------+--------+--------+--------+\n",
            "|     1|     1|b'01292015'| b'01'|b'29'|b'2015'|    1200|2015000001|2015000001|       1|       1|    null|       1|       2|  null|       3|    1.0|     2.0|    null|    null|  null|    null|    null|  null|    null|   null|      5|      15|      18|      10|       1|       1|      2|       1|      1|     1|       1|      1|      1|       2|       2|       2|      1|      1|       2|       2|       1|       1|       1|       2|       3|    null|  2|      1|    4|       1|       2|    null|      1|       2|      8|      88|      3|       2|    280|    510|    null|       1|       1|    2|     2|       1|       1|       1|       1|       3|    null|       2|      3|    888|    null|    null|    null|     305|   310|    320|    310|    305|     101|       2|    null|    null|    null|    null|    null|    null|     888|       1|       1|       1|     6.0|       1|       1|  112014|       1|       1|      1|    null|    null|       1|       3|   null|    null|    null|    null|    null|   null|   null|   null|   null|    null|    null|    null|   null|    null|    null|    null|    null|    null|    null|    null|    null|    null|    null|    null|    null|    null|    null|    null|    null|    null|    null|    null|   null|    null|  null|    null|    null|    null|    null|    null|    null|    null|    null|    null|    null|    null|    null|    null|    null|    null|    null|    null|    null|    null|    null|    null|    null|    null|   null|    null|   null|   null|    null|    null|    null|  null|   null|   null|    null|   null|    null|    null|    null|    null|    null|    null|    null|    null|    null|    null|    null|    null|    null|   null|    null|    null|     b''|    null|    null|    null|    null|    null|    null|    null|    null|    null|    null|    null|    null|    null|    null|    null|  null|   null|    null|  null|  null|   null|  null|   null|   null|    10|      1|                b''|         b''|     3| 11011|28.7815602|     3.0|86.34468059|    null|   null|   null|    null|       1|0.614124682|341.3848527|      2|       1|       2|       1|      2|     2|       2|       2|       1|       1|      1|      1|       2|    1|       1|       1|       1|       9|       1|    63|     5|   70| 178|12701| 4018|       4|      2|       1|      2|      2|       3|       1|       2| 5.4E-79|       1| 5.4E-79|       1|    17.0|    33.0|    67.0|    33.0|    17.0|   100.0| 5.4E-79| 5.4E-79|     1.0|     1.0|    50.0|   217.0|      2|      1|   1.0|   1.0| 5.4E-79| 5.4E-79|       2|    null|    null|   2469|  423|    null|    null|   null|   null|    null|    null|    null|    null| 5.4E-79| 5.4E-79|    null|    null|   null|    null|    null|    null|      4|       2|       3|       3|       2|       2|      4|       2|       1|       1|       1|       1|       1|    null|    null|       1|\n",
            "|     1|     1|b'01202015'| b'01'|b'20'|b'2015'|    1100|2015000002|2015000002|       1|       1|    null|       1|       2|  null|       1|5.4E-79|     1.0|    null|    null|  null|    null|    null|  null|    null|   null|      3|      88|      88|    null|       2|       1|      1|       4|      3|  null|       1|      4|      2|       2|       2|       2|      2|   null|       2|       2|       2|       2|       2|       2|       3|    null|  2|      2|    6|       1|       2|    null|      2|       2|      3|      88|      1|       1|    165|    508|    null|       1|       2|    1|     1|       2|       2|       2|       1|       1|       2|    null|      3|    888|    null|    null|    null|     302|   305|    302|    202|    202|     304|       1|      64|     212|     100|      69|     212|     100|     888|    null|    null|    null|    null|       3|       2|    null|    null|       2|      2|    null|    null|       2|       3|   null|    null|    null|    null|    null|   null|   null|   null|   null|    null|    null|    null|   null|       2|    null|    null|    null|    null|    null|    null|    null|       1|    null|    null|    null|    null|    null|    null|    null|    null|    null|       1|      5|       5|  null|       5|       2|       2|    null|       2|    null|    null|    null|    null|    null|    null|    null|    null|    null|    null|    null|    null|    null|    null|    null|    null|    null|    null|   null|    null|   null|   null|    null|    null|    null|  null|   null|   null|    null|   null|    null|    null|    null|    null|       2|    null|       2|    null|    null|    null|    null|    null|    null|   null|    null|    null|     b''|       1|       2|    null|    null|       2|      60|    null|    null|    null|    null|    null|    null|    null|    null|    null|  null|   null|    null|  null|  null|   null|  null|   null|   null|    10|      1|                b''|         b''|     5| 11011|28.7815602|     1.0| 28.7815602|    null|   null|   null|    null|       9|       null|108.0609033|      1|       2|       1|       2|      1|     2|       1|       1|       3|       2|      1|      1|       2|    1|       1|       1|       1|       7|       1|    52|     4|   68| 173| 7484| 2509|       3|      2|       1|      4|      1|       1|       2|       2| 5.4E-79|       1| 5.4E-79|       1|     7.0|    17.0|     7.0|    29.0|    29.0|    13.0| 5.4E-79| 5.4E-79|     1.0|     1.0|    24.0|    78.0|      2|      2|   1.0|   1.0| 5.4E-79| 5.4E-79|       1|    35.0| 5.4E-79|   2876|  493|     1.0| 5.4E-79|     60|     60|    2800|    2800|   168.0| 5.4E-79| 5.4E-79| 5.4E-79|   168.0| 5.4E-79|  168.0| 5.4E-79| 5.4E-79| 5.4E-79|      2|       1|       1|       2|       2|       2|      2|       2|       3|       3|       4|       2|       2|    null|    null|       2|\n",
            "|     1|     1|b'02012015'| b'02'|b'01'|b'2015'|    1200|2015000003|2015000003|       1|       1|    null|       1|       2|  null|       2|    1.0|     1.0|    null|    null|  null|    null|    null|  null|    null|   null|      4|      15|      88|      88|       1|       2|      2|       1|      3|  null|       1|      1|      1|       7|       2|       1|      2|   null|       2|       1|       2|       1|       2|       2|       3|    null|  2|      2|    4|       1|       2|    null|      1|       2|      7|      88|     99|       2|    158|    511|    null|       2|       2|    2|     2|    null|    null|    null|    null|    null|    null|    null|   null|   null|    null|    null|    null|    null|  null|   null|   null|   null|    null|    null|    null|    null|    null|    null|    null|    null|    null|    null|    null|    null|    null|    null|    null|    null|    null|    null|   null|    null|    null|       1|       3|   null|    null|    null|    null|    null|   null|   null|   null|   null|    null|    null|    null|   null|    null|    null|    null|    null|    null|    null|    null|    null|    null|    null|    null|    null|    null|    null|    null|    null|    null|    null|    null|   null|    null|  null|    null|    null|    null|    null|    null|    null|    null|    null|    null|    null|    null|    null|    null|    null|    null|    null|    null|    null|    null|    null|    null|    null|    null|   null|    null|   null|   null|    null|    null|    null|  null|   null|   null|    null|   null|    null|    null|    null|    null|    null|    null|    null|    null|    null|    null|    null|    null|    null|   null|    null|    null|     b''|    null|    null|    null|    null|    null|    null|    null|    null|    null|    null|    null|    null|    null|    null|    null|  null|   null|    null|  null|  null|   null|  null|   null|   null|    10|      1|                b''|         b''|     5| 11011|28.7815602|     2.0|57.56312039|    null|   null|   null|    null|       1|0.614124682|255.2647965|      2|       9|       1|       1|      2|  null|       1|       1|       3|       1|      1|      1|       2|    1|       1|       1|       1|      11|       2|    71|     6|   71| 180| 7167| 2204|       2|      1|       1|      2|      9|       9|       9|       9|   900.0|       9| 99900.0|       9|    null|    null|    null|    null|    null|    null|     2.0|     4.0| 5.4E-79| 5.4E-79|    null|    null|      9|      9|   1.0|   1.0|     1.0|     1.0|       9|    null|    null|   2173|  373|    null|    null|   null|   null|    null|    null|    null|    null|    null|     9.0|    null|    null|   null|    null|    null|    null|      9|       9|       9|       9|       9|       9|      9|       9|       9|       9|       9|       9|       9|       9|       9|    null|\n",
            "|     1|     1|b'01142015'| b'01'|b'14'|b'2015'|    1100|2015000004|2015000004|       1|       1|    null|       1|       2|  null|       3|    1.0|     2.0|    null|    null|  null|    null|    null|  null|    null|   null|      5|      30|      30|      30|       1|       2|      1|       1|      1|     1|       1|      1|      1|       2|       2|       2|      2|   null|       2|       1|       2|       1|       1|       2|       3|    null|  2|      1|    4|       1|       2|    null|      1|       2|      8|       1|      8|       2|    180|    507|    null|       1|       2|    1|     1|       1|       2|       1|       2|    null|    null|    null|      3|    888|    null|    null|    null|     555|   101|    555|    301|    301|     201|       2|    null|    null|    null|    null|    null|    null|     888|       1|       1|       1|     8.0|       1|       1|  777777|       5|       1|      9|    null|    null|       2|       3|   null|    null|    null|    null|    null|   null|   null|   null|   null|    null|    null|    null|   null|       2|    null|    null|    null|    null|    null|    null|    null|       2|    null|    null|    null|    null|    null|    null|    null|    null|    null|       1|      1|       1|     2|       1|       1|       2|    null|       2|    null|    null|    null|    null|    null|    null|    null|    null|    null|    null|    null|    null|    null|    null|    null|    null|    null|    null|   null|    null|   null|   null|    null|    null|    null|  null|   null|   null|    null|   null|    null|    null|    null|    null|       2|    null|       1|       2|       1|    null|    null|    null|    null|   null|    null|    null|     b''|       4|       7|    null|    null|    null|      97|    null|    null|    null|    null|    null|    null|    null|    null|    null|  null|   null|    null|  null|  null|   null|  null|   null|   null|    10|      1|                b''|         b''|     3| 11011|28.7815602|     3.0|86.34468059|    null|   null|   null|    null|       1|0.614124682|341.3848527|      2|       1|       2|       1|      2|     2|       1|       1|       3|       1|      1|      1|       2|    1|       1|       1|       1|       9|       1|    63|     5|   67| 170| 8165| 2819|       3|      2|       2|      2|      5|       4|       1|       2| 5.4E-79|       1| 5.4E-79|       1| 5.4E-79|   100.0| 5.4E-79|     3.0|     3.0|    14.0| 5.4E-79| 5.4E-79|     1.0|     1.0|   100.0|    20.0|      1|      2|   1.0|   1.0| 5.4E-79| 5.4E-79|       2|    null|    null|   2469|  423|    null|    null|   null|   null|    null|    null|    null|    null| 5.4E-79| 5.4E-79|    null|    null|   null|    null|    null|    null|      4|       2|       3|       3|       2|       2|      4|       2|       1|       1|       1|       1|       1|    null|    null|       9|\n",
            "|     1|     1|b'01142015'| b'01'|b'14'|b'2015'|    1100|2015000005|2015000005|       1|       1|    null|       1|       2|  null|       2|    1.0|     1.0|    null|    null|  null|    null|    null|  null|    null|   null|      5|      20|      88|      30|       1|       1|      2|       1|      3|  null|       1|      1|      2|       2|       2|       2|      2|   null|       2|       2|       2|       1|       2|       2|       3|    null|  2|      1|    5|       1|       2|    null|      2|       2|      8|      88|     77|       1|    142|    504|    null|       2|       2|    2|     2|       2|       2|       2|       2|    null|    null|    null|      3|    888|    null|    null|    null|     777|   102|    203|    204|    310|     320|       2|    null|    null|    null|    null|    null|    null|     888|       1|       1|       1|     7.0|       1|       2|    null|    null|       1|      1|  777777|       1|       1|       3|   null|    null|    null|    null|    null|   null|   null|   null|   null|    null|    null|    null|   null|       2|    null|    null|    null|    null|    null|    null|    null|       7|    null|    null|    null|    null|    null|    null|    null|    null|    null|       2|   null|    null|  null|    null|    null|       1|     777|       2|    null|    null|    null|    null|    null|    null|    null|    null|    null|    null|    null|    null|    null|    null|    null|    null|    null|    null|   null|    null|   null|   null|    null|    null|    null|  null|   null|   null|    null|   null|    null|    null|    null|    null|       2|    null|       1|       2|       5|    null|    null|    null|    null|   null|    null|    null|     b''|       5|       5|    null|    null|    null|      45|    null|    null|    null|    null|    null|    null|    null|    null|    null|  null|   null|    null|  null|  null|   null|  null|   null|   null|    10|      1|                b''|         b''|     3| 11011|28.7815602|     2.0|57.56312039|    null|   null|   null|    null|       9|       null| 258.682223|      2|       1|       1|       1|      1|     2|       1|       1|       3|       1|      1|      1|       2|    1|       1|       1|       1|       9|       1|    61|     5|   64| 163| 6441| 2437|       2|      1|       1|      3|      9|       4|       1|       2| 5.4E-79|       1| 5.4E-79|       1|    null|   200.0|    43.0|    57.0|    33.0|    67.0|     1.0| 5.4E-79| 5.4E-79|     1.0|    null|   200.0|      9|      1|   1.0|   1.0|     1.0| 5.4E-79|       2|    null|    null|   2543|  436|    null|    null|   null|   null|    null|    null|    null|    null| 5.4E-79| 5.4E-79|    null|    null|   null|    null|    null|    null|      4|       2|       3|       3|       2|       2|      4|       2|       1|       1|       1|       1|       1|    null|    null|       1|\n",
            "|     1|     1|b'01142015'| b'01'|b'14'|b'2015'|    1100|2015000006|2015000006|       1|       1|    null|       1|       2|  null|       1|5.4E-79|     1.0|    null|    null|  null|    null|    null|  null|    null|   null|      2|      88|      88|    null|       1|       1|      2|       1|      1|     1|       1|      1|      2|       2|       2|       2|      2|   null|       2|       2|       2|       1|       2|       2|       3|    null|  2|      3|    3|       1|       2|    null|      2|       2|      2|      88|      6|       2|    145|    502|    null|       1|       2|    2|     2|       2|       2|       2|       2|    null|    null|    null|      3|    888|    null|    null|    null|     101|   101|    102|    101|    102|     101|       1|      18|     101|     100|      73|     107|      30|     888|       1|       2|       3|     4.0|       1|       1|  112014|       1|       1|      2|    null|    null|       1|       3|   null|    null|    null|    null|    null|   null|   null|   null|   null|    null|    null|    null|   null|       2|    null|    null|    null|    null|    null|    null|    null|       2|    null|    null|    null|    null|    null|    null|    null|    null|    null|       2|   null|    null|  null|    null|    null|       1|     415|       2|    null|    null|    null|    null|    null|    null|    null|    null|    null|    null|    null|    null|    null|    null|    null|    null|    null|    null|   null|    null|   null|   null|    null|    null|    null|  null|   null|   null|    null|   null|    null|    null|    null|    null|       2|    null|       1|       2|       1|    null|    null|    null|    null|   null|    null|    null|     b''|       5|       5|       1|      54|    null|    null|    null|    null|    null|    null|    null|    null|    null|    null|    null|  null|   null|    null|  null|  null|   null|  null|   null|   null|    10|      1|                b''|         b''|     5| 11011|28.7815602|     1.0| 28.7815602|    null|   null|   null|    null|       9|       null|256.5185913|      1|       9|       2|       1|      1|     2|       1|       1|       3|       1|      1|      1|       2|    1|       1|       1|       1|      11|       2|    73|     6|   62| 157| 6577| 2652|       3|      2|       1|      1|      4|       4|       1|       2| 5.4E-79|       1| 5.4E-79|       1|   100.0|   100.0|   200.0|   100.0|   200.0|   100.0| 5.4E-79| 5.4E-79|     1.0|     1.0|   200.0|   600.0|      1|      1|   1.0|   1.0| 5.4E-79| 5.4E-79|       1|    50.0|    33.0|   2099|  360|     2.0|     1.0|     60|     30|    1000|    7000|    60.0|   210.0| 5.4E-79| 5.4E-79|   120.0|   210.0|  330.0|    60.0| 5.4E-79|    60.0|      1|       1|       1|       1|       1|       2|      2|       2|       1|       2|       3|       1|       1|       1|       1|       2|\n",
            "|     1|     1|b'01052015'| b'01'|b'05'|b'2015'|    1100|2015000007|2015000007|       1|       1|    null|       1|       2|  null|       1|5.4E-79|     1.0|    null|    null|  null|    null|    null|  null|    null|   null|      2|      88|       3|      88|       1|       1|      2|       1|      1|     1|       1|      1|      1|       2|       2|       2|      2|   null|       2|       2|       2|       2|       2|       2|       3|    null|  2|      3|    5|       1|       2|    null|      2|       2|      7|      88|      4|       2|    148|    506|    null|       2|       2|    2|     2|       2|       2|       2|       2|    null|    null|    null|      3|    203|       1|      88|       1|     330|   202|    302|    202|    302|     205|       1|      18|     102|     100|      64|     107|      15|     888|    null|    null|    null|    null|       1|       2|    null|    null|       1|      1|   91991|       4|       2|       3|   null|    null|    null|    null|    null|   null|   null|   null|   null|    null|    null|    null|   null|       8|    null|    null|    null|    null|    null|    null|    null|    null|    null|    null|    null|    null|    null|    null|    null|    null|    null|       2|   null|    null|  null|    null|    null|       1|     403|       1|    null|    null|    null|    null|    null|    null|    null|    null|    null|    null|    null|    null|    null|    null|    null|    null|    null|    null|   null|    null|   null|   null|    null|    null|    null|  null|   null|   null|    null|   null|    null|    null|    null|    null|       1|       5|       1|       1|       6|    null|    null|    null|    null|   null|    null|    null|     b''|       4|       5|    null|    null|       2|      40|    null|    null|    null|    null|    null|    null|    null|    null|    null|  null|   null|    null|  null|  null|   null|  null|   null|   null|    10|      1|                b''|         b''|     1| 11011|28.7815602|     1.0| 28.7815602|    null|   null|   null|    null|       9|       null|85.65975469|      1|       9|       2|       1|      2|     2|       1|       1|       3|       2|      1|      7|       2|    7|       2|       4|       5|      11|       2|    70|     6|   66| 168| 6713| 2389|       2|      1|       1|      3|      2|       4|       1|       1|    10.0|       1|    70.0|       1|   100.0|    29.0|     7.0|    29.0|     7.0|    71.0| 5.4E-79| 5.4E-79|     1.0|     1.0|   129.0|   114.0|      1|      1|   1.0|   1.0| 5.4E-79| 5.4E-79|       1|    50.0|    35.0|   2210|  379|     2.0|     1.0|     60|     15|    2000|    7000|   120.0|   105.0| 5.4E-79| 5.4E-79|   240.0|   105.0|  345.0|   120.0| 5.4E-79|   120.0|      1|       1|       1|       1|       1|       2|      2|       2|       3|       3|       4|       1|       1|       2|       1|       1|\n",
            "|     1|     1|b'01142015'| b'01'|b'14'|b'2015'|    1100|2015000008|2015000008|       1|       1|    null|       1|       2|  null|       2|    1.0|     1.0|    null|    null|  null|    null|    null|  null|    null|   null|      5|       8|      88|       8|       1|       1|      1|       1|      1|     1|       1|      1|      1|       7|       2|       2|      2|   null|       2|       2|       2|       1|       2|       7|       3|    null|  1|      1|    3|       1|       2|    null|      1|       1|      3|      88|      3|       2|    179|    501|    null|       1|       2|    2|     2|       1|       2|       2|       1|       3|    null|       7|      3|    888|    null|    null|    null|     102|   101|    202|    101|    303|     202|       1|      64|     106|      12|      98|     107|       5|     888|       1|       1|       1|    77.0|       1|       1|  122014|       1|       1|      1|  777777|       4|       1|       3|   null|    null|    null|    null|    null|   null|   null|   null|   null|    null|    null|    null|   null|       2|    null|    null|    null|    null|    null|    null|    null|       2|    null|    null|    null|    null|    null|    null|    null|    null|    null|       2|   null|    null|  null|    null|    null|       1|     777|       2|    null|    null|    null|    null|    null|    null|    null|    null|    null|    null|    null|    null|    null|    null|    null|    null|    null|    null|   null|    null|   null|   null|    null|    null|    null|  null|   null|   null|    null|   null|    null|    null|    null|    null|       2|    null|       1|       2|       4|    null|    null|    null|    null|   null|    null|    null|     b''|       4|       2|    null|    null|       1|      45|    null|    null|    null|    null|    null|    null|    null|    null|    null|  null|   null|    null|  null|  null|   null|  null|   null|   null|    10|      1|                b''|b'Treadmill'|     5| 11011|28.7815602|     2.0|57.56312039|    null|   null|   null|    null|       1|0.614124682|545.7820952|      2|       9|       2|       1|      2|  null|       1|       1|       3|       1|      1|      1|       2|    1|       1|       1|       1|      13|       2|    80|     6|   61| 155| 8119| 3382|       4|      2|       1|      1|      2|       3|       1|       2| 5.4E-79|       1| 5.4E-79|       1|   200.0|   100.0|    29.0|   100.0|    10.0|    29.0| 5.4E-79| 5.4E-79|     1.0|     1.0|   300.0|   168.0|      1|      1|   1.0|   1.0| 5.4E-79| 5.4E-79|       1|    35.0|    45.0|   1545|  265|     2.0|     2.0|     12|      5|    6000|    7000|    72.0| 5.4E-79| 5.4E-79| 5.4E-79|   144.0| 5.4E-79|  144.0|    72.0| 5.4E-79|    72.0|      3|       2|       2|       2|       2|       2|      4|       2|       1|       1|       1|       1|       1|       1|       1|       1|\n",
            "|     1|     1|b'01132015'| b'01'|b'13'|b'2015'|    1100|2015000009|2015000009|       1|       1|    null|       1|       2|  null|       1|5.4E-79|     1.0|    null|    null|  null|    null|    null|  null|    null|   null|      5|      77|      88|      77|       1|       1|      2|       1|      3|  null|       7|   null|   null|       2|       2|       2|      2|   null|       2|       2|       2|       1|       2|       2|       3|    null|  2|      3|    3|       1|       2|    null|      1|       2|      5|      88|     77|       2|     84|    503|    null|       1|       1|    2|     2|       7|       2|       2|       2|    null|    null|    null|      3|    888|    null|    null|    null|     777|   777|    302|    302|    777|     777|       1|      98|     103|     100|      88|    null|    null|     777|       2|       1|       2|     6.0|       1|       1|  777777|       1|       1|      2|    null|    null|       1|       3|   null|    null|    null|    null|    null|   null|   null|   null|   null|    null|    null|    null|   null|       2|    null|    null|    null|    null|    null|    null|    null|       2|    null|    null|    null|    null|    null|    null|    null|    null|    null|       2|   null|    null|  null|    null|    null|       7|    null|       1|    null|    null|    null|    null|    null|    null|    null|    null|    null|    null|    null|    null|    null|    null|    null|    null|    null|    null|   null|    null|   null|   null|    null|    null|    null|  null|   null|   null|    null|   null|    null|    null|    null|    null|       2|    null|       2|    null|    null|    null|    null|    null|    null|   null|    null|    null|     b''|       5|       5|    null|    null|    null|      98|    null|    null|    null|    null|    null|    null|    null|    null|    null|  null|   null|    null|  null|  null|   null|  null|   null|   null|    10|      1|b'Physical Therapy'|         b''|     1| 11011|28.7815602|     1.0| 28.7815602|    null|   null|   null|    null|       1|0.614124682|211.2102954|      2|       9|       1|       9|   null|     2|       1|       1|       3|       1|      1|      1|       2|    1|       1|       1|       1|      13|       2|    80|     6|   63| 160| 3810| 1488|       1|      1|       1|      1|      9|       4|       1|       2| 5.4E-79|       1| 5.4E-79|       1|    null|    null|     7.0|     7.0|    null|    null|     2.0|     2.0| 5.4E-79| 5.4E-79|    null|    null|      9|      9|   1.0|   1.0|     1.0|     1.0|       1|    45.0| 5.4E-79|   1618|  277|     2.0| 5.4E-79|     60|   null|    3000|    null|   180.0| 5.4E-79|    null| 5.4E-79|   360.0| 5.4E-79|  360.0|   180.0| 5.4E-79|   180.0|      1|       1|       1|       1|       1|       9|      9|       9|       2|       1|       2|       1|       1|       1|       1|       2|\n",
            "|     1|     1|b'01302015'| b'01'|b'30'|b'2015'|    1100|2015000010|2015000010|       1|       1|    null|       1|       2|  null|       2|    1.0|     1.0|    null|    null|  null|    null|    null|  null|    null|   null|      2|       2|      88|       2|       1|       1|      2|       1|      1|     1|       1|      1|      1|       2|       2|       2|      2|   null|       2|       2|       2|       2|       2|       2|       3|    null|  1|      1|    6|       1|       2|    null|      1|       2|      7|      88|      8|       1|    161|    507|    null|       2|       2|    2|     2|       2|       2|       2|       1|       3|    null|       7|      3|    888|    null|    null|    null|     201|   101|    204|    205|    206|     101|       1|      64|     106|      50|      88|    null|    null|     888|    null|    null|    null|    null|       2|       2|    null|    null|       2|      2|    null|    null|       1|       3|   null|    null|    null|    null|    null|   null|   null|   null|   null|    null|    null|    null|   null|       2|    null|    null|    null|    null|    null|    null|    null|       2|    null|    null|    null|    null|    null|    null|    null|    null|    null|       2|   null|    null|  null|    null|    null|       1|     415|       1|    null|    null|    null|    null|    null|    null|    null|    null|    null|    null|    null|    null|    null|    null|    null|    null|    null|    null|   null|    null|   null|   null|    null|    null|    null|  null|   null|   null|    null|   null|    null|    null|    null|    null|       2|    null|       1|       2|       2|    null|    null|    null|    null|   null|    null|    null|     b''|       5|       5|    null|    null|       1|      60|    null|    null|    null|    null|    null|    null|    null|    null|    null|  null|   null|    null|  null|  null|   null|  null|   null|   null|    10|      1|                b''|         b''|     1| 11011|28.7815602|     2.0|57.56312039|    null|   null|   null|    null|       1|0.614124682|215.4728633|      1|       9|       2|       1|      2|     2|       1|       1|       3|       2|      1|      1|       2|    1|       1|       1|       1|      10|       2|    68|     6|   67| 170| 7303| 2522|       3|      2|       1|      4|      5|       3|       1|       2| 5.4E-79|       1| 5.4E-79|       1|    14.0|   100.0|    57.0|    71.0|    86.0|   100.0| 5.4E-79| 5.4E-79|     1.0|     1.0|   114.0|   314.0|      1|      1|   1.0|   1.0| 5.4E-79| 5.4E-79|       1|    35.0| 5.4E-79|   2260|  387|     1.0| 5.4E-79|     50|   null|    6000|    null|   300.0| 5.4E-79| 5.4E-79| 5.4E-79|   300.0| 5.4E-79|  300.0| 5.4E-79| 5.4E-79| 5.4E-79|      2|       1|       1|       2|       2|       2|      2|       2|       3|       3|       4|       1|       2|       2|       2|       2|\n",
            "+------+------+-----------+------+-----+-------+--------+----------+----------+--------+--------+--------+--------+--------+------+--------+-------+--------+--------+--------+------+--------+--------+------+--------+-------+-------+--------+--------+--------+--------+--------+-------+--------+-------+------+--------+-------+-------+--------+--------+--------+-------+-------+--------+--------+--------+--------+--------+--------+--------+--------+---+-------+-----+--------+--------+--------+-------+--------+-------+--------+-------+--------+-------+-------+--------+--------+--------+-----+------+--------+--------+--------+--------+--------+--------+--------+-------+-------+--------+--------+--------+--------+------+-------+-------+-------+--------+--------+--------+--------+--------+--------+--------+--------+--------+--------+--------+--------+--------+--------+--------+--------+--------+--------+-------+--------+--------+--------+--------+-------+--------+--------+--------+--------+-------+-------+-------+-------+--------+--------+--------+-------+--------+--------+--------+--------+--------+--------+--------+--------+--------+--------+--------+--------+--------+--------+--------+--------+--------+--------+--------+-------+--------+------+--------+--------+--------+--------+--------+--------+--------+--------+--------+--------+--------+--------+--------+--------+--------+--------+--------+--------+--------+--------+--------+--------+--------+-------+--------+-------+-------+--------+--------+--------+------+-------+-------+--------+-------+--------+--------+--------+--------+--------+--------+--------+--------+--------+--------+--------+--------+--------+-------+--------+--------+--------+--------+--------+--------+--------+--------+--------+--------+--------+--------+--------+--------+--------+--------+--------+--------+------+-------+--------+------+------+-------+------+-------+-------+------+-------+-------------------+------------+------+------+----------+--------+-----------+--------+-------+-------+--------+--------+-----------+-----------+-------+--------+--------+--------+-------+------+--------+--------+--------+--------+-------+-------+--------+-----+--------+--------+--------+--------+--------+------+------+-----+----+-----+-----+--------+-------+--------+-------+-------+--------+--------+--------+--------+--------+--------+--------+--------+--------+--------+--------+--------+--------+--------+--------+--------+--------+--------+--------+-------+-------+------+------+--------+--------+--------+--------+--------+-------+-----+--------+--------+-------+-------+--------+--------+--------+--------+--------+--------+--------+--------+-------+--------+--------+--------+-------+--------+--------+--------+--------+--------+-------+--------+--------+--------+--------+--------+--------+--------+--------+--------+\n",
            "only showing top 10 rows\n",
            "\n"
          ]
        }
      ]
    },
    {
      "cell_type": "code",
      "source": [
        "#rename columns w function --> name list / or zip dictionary "
      ],
      "metadata": {
        "id": "umvhZGHqBM5r"
      },
      "execution_count": null,
      "outputs": []
    },
    {
      "cell_type": "code",
      "source": [
        "#select relevant columns \n",
        "survey_data_df = survey_data_df.select(['_STATE','FMONTH','IDATE','IMONTH','IDAY','IYEAR','DISPCODE','MENTHLTH','HLTHPLN1','BPHIGH4','BPMEDS','TOLDHI2','CVDINFR4','CVDCRHD4','CVDSTRK3','CHCSCNCR','CHCOCNCR','CHCCOPD1','HAVARTH3','CHCKIDNY','DIABETE3','SEX','MARITAL','EDUCA','RENTHOM1','VETERAN3','EMPLOY1','CHILDREN','INCOME2','INTERNET','WEIGHT2','HEIGHT3','QLACTLM2','USEEQUIP','BLIND','DECIDE','DIFFWALK','DIFFDRES','DIFFALON','SMOKE100','ALCDAY5','FRUITJU1','EXRACT11','LMTJOIN3','PREDIAB1','INSULIN','CAREGIV1','SCNTMNY1','SCNTMEL1','SCNTLPAD','SXORIENT','TRNSGNDR','EMTSUPRT','LSATISFY','ADPLEASR','ADDOWN','ADSLEEP','ADENERGY','ADEAT1','ADFAIL','ADTHINK','ADMOVE','MISTMNT','MSCODE','_RFHLTH','_HCVU651','_RFHYPE5','_CHOLCHK','_RFCHOL','_MICHD','_LTASTH1','_ASTHMS1','_DRDXAR1','_PRACE1','_AGEG5YR','_AGE65YR','HTIN4','_BMI5','_BMI5CAT','_CHLDCNT','_EDUCAG','_INCOMG','_DRNKWEK','_RFDRHV5','_FRTLT1','_VEGLT1','PA1MIN_','PA1VIGM_','_PACAT1','_PAINDX1','_PAREC1','_RFSEAT3'])\n",
        "survey_data_df.show(10)\n"
      ],
      "metadata": {
        "colab": {
          "base_uri": "https://localhost:8080/"
        },
        "id": "kC_kL3MCBG9c",
        "outputId": "afc6a046-0272-4e7a-cb54-ff3cb65e5a2c"
      },
      "execution_count": 14,
      "outputs": [
        {
          "output_type": "stream",
          "name": "stdout",
          "text": [
            "+------+------+-----------+------+-----+-------+--------+--------+--------+-------+------+-------+--------+--------+--------+--------+--------+--------+--------+--------+--------+---+-------+-----+--------+--------+-------+--------+-------+--------+-------+-------+--------+--------+-----+------+--------+--------+--------+--------+-------+--------+--------+--------+--------+-------+--------+--------+--------+--------+--------+--------+--------+--------+--------+------+-------+--------+------+------+-------+------+-------+------+-------+--------+--------+--------+-------+------+--------+--------+--------+-------+--------+--------+-----+-----+--------+--------+-------+-------+--------+--------+-------+-------+-------+--------+-------+--------+-------+--------+\n",
            "|_STATE|FMONTH|      IDATE|IMONTH| IDAY|  IYEAR|DISPCODE|MENTHLTH|HLTHPLN1|BPHIGH4|BPMEDS|TOLDHI2|CVDINFR4|CVDCRHD4|CVDSTRK3|CHCSCNCR|CHCOCNCR|CHCCOPD1|HAVARTH3|CHCKIDNY|DIABETE3|SEX|MARITAL|EDUCA|RENTHOM1|VETERAN3|EMPLOY1|CHILDREN|INCOME2|INTERNET|WEIGHT2|HEIGHT3|QLACTLM2|USEEQUIP|BLIND|DECIDE|DIFFWALK|DIFFDRES|DIFFALON|SMOKE100|ALCDAY5|FRUITJU1|EXRACT11|LMTJOIN3|PREDIAB1|INSULIN|CAREGIV1|SCNTMNY1|SCNTMEL1|SCNTLPAD|SXORIENT|TRNSGNDR|EMTSUPRT|LSATISFY|ADPLEASR|ADDOWN|ADSLEEP|ADENERGY|ADEAT1|ADFAIL|ADTHINK|ADMOVE|MISTMNT|MSCODE|_RFHLTH|_HCVU651|_RFHYPE5|_CHOLCHK|_RFCHOL|_MICHD|_LTASTH1|_ASTHMS1|_DRDXAR1|_PRACE1|_AGEG5YR|_AGE65YR|HTIN4|_BMI5|_BMI5CAT|_CHLDCNT|_EDUCAG|_INCOMG|_DRNKWEK|_RFDRHV5|_FRTLT1|_VEGLT1|PA1MIN_|PA1VIGM_|_PACAT1|_PAINDX1|_PAREC1|_RFSEAT3|\n",
            "+------+------+-----------+------+-----+-------+--------+--------+--------+-------+------+-------+--------+--------+--------+--------+--------+--------+--------+--------+--------+---+-------+-----+--------+--------+-------+--------+-------+--------+-------+-------+--------+--------+-----+------+--------+--------+--------+--------+-------+--------+--------+--------+--------+-------+--------+--------+--------+--------+--------+--------+--------+--------+--------+------+-------+--------+------+------+-------+------+-------+------+-------+--------+--------+--------+-------+------+--------+--------+--------+-------+--------+--------+-----+-----+--------+--------+-------+-------+--------+--------+-------+-------+-------+--------+-------+--------+-------+--------+\n",
            "|     1|     1|b'01292015'| b'01'|b'29'|b'2015'|    1200|      18|       1|      1|     1|      1|       2|       2|       2|       2|       2|       1|       1|       2|       3|  2|      1|    4|       1|       2|      8|      88|      3|       2|    280|    510|       1|       1|    2|     2|       1|       1|       1|       1|    888|     305|    null|       1|       3|   null|    null|    null|    null|    null|    null|    null|    null|    null|    null|  null|   null|    null|  null|  null|   null|  null|   null|     3|      2|       1|       2|       1|      2|     2|       2|       1|       1|      1|       9|       1|   70| 4018|       4|       1|      2|      2| 5.4E-79|       1|      2|      1|   null|    null|      4|       2|      4|       1|\n",
            "|     1|     1|b'01202015'| b'01'|b'20'|b'2015'|    1100|      88|       2|      3|  null|      2|       2|       2|       2|       2|       2|       2|       2|       2|       3|  2|      2|    6|       1|       2|      3|      88|      1|       1|    165|    508|       1|       2|    1|     1|       2|       2|       2|       1|    888|     302|      64|    null|       3|   null|       2|       1|       2|       2|    null|    null|    null|    null|    null|  null|   null|    null|  null|  null|   null|  null|   null|     5|      1|       2|       1|       2|      1|     2|       1|       3|       2|      1|       7|       1|   68| 2509|       3|       1|      4|      1| 5.4E-79|       1|      2|      2|  168.0| 5.4E-79|      2|       1|      2|       2|\n",
            "|     1|     1|b'02012015'| b'02'|b'01'|b'2015'|    1200|      88|       1|      3|  null|      1|       7|       2|       1|       2|       1|       2|       1|       2|       3|  2|      2|    4|       1|       2|      7|      88|     99|       2|    158|    511|       2|       2|    2|     2|    null|    null|    null|    null|   null|    null|    null|    null|       3|   null|    null|    null|    null|    null|    null|    null|    null|    null|    null|  null|   null|    null|  null|  null|   null|  null|   null|     5|      2|       9|       1|       1|      2|  null|       1|       3|       1|      1|      11|       2|   71| 2204|       2|       1|      2|      9| 99900.0|       9|      9|      9|   null|    null|      9|       9|      9|       9|\n",
            "|     1|     1|b'01142015'| b'01'|b'14'|b'2015'|    1100|      30|       1|      1|     1|      1|       2|       2|       2|       2|       1|       2|       1|       2|       3|  2|      1|    4|       1|       2|      8|       1|      8|       2|    180|    507|       1|       2|    1|     1|       1|       2|       1|       2|    888|     555|    null|       1|       3|   null|       2|       4|       7|    null|    null|    null|    null|    null|    null|  null|   null|    null|  null|  null|   null|  null|   null|     3|      2|       1|       2|       1|      2|     2|       1|       3|       1|      1|       9|       1|   67| 2819|       3|       2|      2|      5| 5.4E-79|       1|      1|      2|   null|    null|      4|       2|      4|       1|\n",
            "|     1|     1|b'01142015'| b'01'|b'14'|b'2015'|    1100|      88|       1|      3|  null|      2|       2|       2|       2|       2|       2|       2|       1|       2|       3|  2|      1|    5|       1|       2|      8|      88|     77|       1|    142|    504|       2|       2|    2|     2|       2|       2|       2|       2|    888|     777|    null|       1|       3|   null|       2|       5|       5|    null|    null|    null|    null|    null|    null|  null|   null|    null|  null|  null|   null|  null|   null|     3|      2|       1|       1|       1|      1|     2|       1|       3|       1|      1|       9|       1|   64| 2437|       2|       1|      3|      9| 5.4E-79|       1|      9|      1|   null|    null|      4|       2|      4|       1|\n",
            "|     1|     1|b'01142015'| b'01'|b'14'|b'2015'|    1100|      88|       1|      1|     1|      2|       2|       2|       2|       2|       2|       2|       1|       2|       3|  2|      3|    3|       1|       2|      2|      88|      6|       2|    145|    502|       1|       2|    2|     2|       2|       2|       2|       2|    888|     101|      18|       1|       3|   null|       2|       5|       5|    null|    null|    null|    null|    null|    null|  null|   null|    null|  null|  null|   null|  null|   null|     5|      1|       9|       2|       1|      1|     2|       1|       3|       1|      1|      11|       2|   62| 2652|       3|       1|      1|      4| 5.4E-79|       1|      1|      1|  330.0|    60.0|      1|       1|      2|       1|\n",
            "|     1|     1|b'01052015'| b'01'|b'05'|b'2015'|    1100|       3|       1|      1|     1|      1|       2|       2|       2|       2|       2|       2|       2|       2|       3|  2|      3|    5|       1|       2|      7|      88|      4|       2|    148|    506|       2|       2|    2|     2|       2|       2|       2|       2|    203|     330|      18|    null|       3|   null|       8|       4|       5|       2|    null|    null|    null|    null|    null|  null|   null|    null|  null|  null|   null|  null|   null|     1|      1|       9|       2|       1|      2|     2|       1|       3|       2|      1|      11|       2|   66| 2389|       2|       1|      3|      2|    70.0|       1|      1|      1|  345.0|   120.0|      1|       1|      2|       1|\n",
            "|     1|     1|b'01142015'| b'01'|b'14'|b'2015'|    1100|      88|       1|      1|     1|      1|       7|       2|       2|       2|       2|       2|       1|       7|       3|  1|      1|    3|       1|       1|      3|      88|      3|       2|    179|    501|       1|       2|    2|     2|       1|       2|       2|       1|    888|     102|      64|       1|       3|   null|       2|       4|       2|       1|    null|    null|    null|    null|    null|  null|   null|    null|  null|  null|   null|  null|   null|     5|      2|       9|       2|       1|      2|  null|       1|       3|       1|      1|      13|       2|   61| 3382|       4|       1|      1|      2| 5.4E-79|       1|      1|      1|  144.0|    72.0|      3|       2|      4|       1|\n",
            "|     1|     1|b'01132015'| b'01'|b'13'|b'2015'|    1100|      88|       1|      3|  null|   null|       2|       2|       2|       2|       2|       2|       1|       2|       3|  2|      3|    3|       1|       2|      5|      88|     77|       2|     84|    503|       1|       1|    2|     2|       7|       2|       2|       2|    888|     777|      98|       2|       3|   null|       2|       5|       5|    null|    null|    null|    null|    null|    null|  null|   null|    null|  null|  null|   null|  null|   null|     1|      2|       9|       1|       9|   null|     2|       1|       3|       1|      1|      13|       2|   63| 1488|       1|       1|      1|      9| 5.4E-79|       1|      9|      9|  360.0|   180.0|      1|       1|      9|       1|\n",
            "|     1|     1|b'01302015'| b'01'|b'30'|b'2015'|    1100|      88|       1|      1|     1|      1|       2|       2|       2|       2|       2|       2|       2|       2|       3|  1|      1|    6|       1|       2|      7|      88|      8|       1|    161|    507|       2|       2|    2|     2|       2|       2|       2|       1|    888|     201|      64|    null|       3|   null|       2|       5|       5|       1|    null|    null|    null|    null|    null|  null|   null|    null|  null|  null|   null|  null|   null|     1|      1|       9|       2|       1|      2|     2|       1|       3|       2|      1|      10|       2|   67| 2522|       3|       1|      4|      5| 5.4E-79|       1|      1|      1|  300.0| 5.4E-79|      2|       1|      2|       2|\n",
            "+------+------+-----------+------+-----+-------+--------+--------+--------+-------+------+-------+--------+--------+--------+--------+--------+--------+--------+--------+--------+---+-------+-----+--------+--------+-------+--------+-------+--------+-------+-------+--------+--------+-----+------+--------+--------+--------+--------+-------+--------+--------+--------+--------+-------+--------+--------+--------+--------+--------+--------+--------+--------+--------+------+-------+--------+------+------+-------+------+-------+------+-------+--------+--------+--------+-------+------+--------+--------+--------+-------+--------+--------+-----+-----+--------+--------+-------+-------+--------+--------+-------+-------+-------+--------+-------+--------+-------+--------+\n",
            "only showing top 10 rows\n",
            "\n"
          ]
        }
      ]
    },
    {
      "cell_type": "code",
      "source": [
        "\n",
        "\n",
        "# add index\n",
        "from pyspark.sql.functions import row_number, monotonically_increasing_id\n",
        "from pyspark.sql import Window\n",
        "\n",
        "survey_data_df = survey_data_df.withColumn(\n",
        "    \"RECORD\",\n",
        "    row_number().over(Window.orderBy(monotonically_increasing_id()))-1\n",
        ")\n",
        "\n",
        "survey_data_df.show(10)"
      ],
      "metadata": {
        "colab": {
          "base_uri": "https://localhost:8080/"
        },
        "id": "u6uhOuE7h60W",
        "outputId": "02a76626-8fd5-45da-a2eb-6b08d3db5ae6"
      },
      "execution_count": 15,
      "outputs": [
        {
          "output_type": "stream",
          "name": "stdout",
          "text": [
            "+------+------+-----------+------+-----+-------+--------+--------+--------+-------+------+-------+--------+--------+--------+--------+--------+--------+--------+--------+--------+---+-------+-----+--------+--------+-------+--------+-------+--------+-------+-------+--------+--------+-----+------+--------+--------+--------+--------+-------+--------+--------+--------+--------+-------+--------+--------+--------+--------+--------+--------+--------+--------+--------+------+-------+--------+------+------+-------+------+-------+------+-------+--------+--------+--------+-------+------+--------+--------+--------+-------+--------+--------+-----+-----+--------+--------+-------+-------+--------+--------+-------+-------+-------+--------+-------+--------+-------+--------+------+\n",
            "|_STATE|FMONTH|      IDATE|IMONTH| IDAY|  IYEAR|DISPCODE|MENTHLTH|HLTHPLN1|BPHIGH4|BPMEDS|TOLDHI2|CVDINFR4|CVDCRHD4|CVDSTRK3|CHCSCNCR|CHCOCNCR|CHCCOPD1|HAVARTH3|CHCKIDNY|DIABETE3|SEX|MARITAL|EDUCA|RENTHOM1|VETERAN3|EMPLOY1|CHILDREN|INCOME2|INTERNET|WEIGHT2|HEIGHT3|QLACTLM2|USEEQUIP|BLIND|DECIDE|DIFFWALK|DIFFDRES|DIFFALON|SMOKE100|ALCDAY5|FRUITJU1|EXRACT11|LMTJOIN3|PREDIAB1|INSULIN|CAREGIV1|SCNTMNY1|SCNTMEL1|SCNTLPAD|SXORIENT|TRNSGNDR|EMTSUPRT|LSATISFY|ADPLEASR|ADDOWN|ADSLEEP|ADENERGY|ADEAT1|ADFAIL|ADTHINK|ADMOVE|MISTMNT|MSCODE|_RFHLTH|_HCVU651|_RFHYPE5|_CHOLCHK|_RFCHOL|_MICHD|_LTASTH1|_ASTHMS1|_DRDXAR1|_PRACE1|_AGEG5YR|_AGE65YR|HTIN4|_BMI5|_BMI5CAT|_CHLDCNT|_EDUCAG|_INCOMG|_DRNKWEK|_RFDRHV5|_FRTLT1|_VEGLT1|PA1MIN_|PA1VIGM_|_PACAT1|_PAINDX1|_PAREC1|_RFSEAT3|RECORD|\n",
            "+------+------+-----------+------+-----+-------+--------+--------+--------+-------+------+-------+--------+--------+--------+--------+--------+--------+--------+--------+--------+---+-------+-----+--------+--------+-------+--------+-------+--------+-------+-------+--------+--------+-----+------+--------+--------+--------+--------+-------+--------+--------+--------+--------+-------+--------+--------+--------+--------+--------+--------+--------+--------+--------+------+-------+--------+------+------+-------+------+-------+------+-------+--------+--------+--------+-------+------+--------+--------+--------+-------+--------+--------+-----+-----+--------+--------+-------+-------+--------+--------+-------+-------+-------+--------+-------+--------+-------+--------+------+\n",
            "|     1|     1|b'01292015'| b'01'|b'29'|b'2015'|    1200|      18|       1|      1|     1|      1|       2|       2|       2|       2|       2|       1|       1|       2|       3|  2|      1|    4|       1|       2|      8|      88|      3|       2|    280|    510|       1|       1|    2|     2|       1|       1|       1|       1|    888|     305|    null|       1|       3|   null|    null|    null|    null|    null|    null|    null|    null|    null|    null|  null|   null|    null|  null|  null|   null|  null|   null|     3|      2|       1|       2|       1|      2|     2|       2|       1|       1|      1|       9|       1|   70| 4018|       4|       1|      2|      2| 5.4E-79|       1|      2|      1|   null|    null|      4|       2|      4|       1|     0|\n",
            "|     1|     1|b'01202015'| b'01'|b'20'|b'2015'|    1100|      88|       2|      3|  null|      2|       2|       2|       2|       2|       2|       2|       2|       2|       3|  2|      2|    6|       1|       2|      3|      88|      1|       1|    165|    508|       1|       2|    1|     1|       2|       2|       2|       1|    888|     302|      64|    null|       3|   null|       2|       1|       2|       2|    null|    null|    null|    null|    null|  null|   null|    null|  null|  null|   null|  null|   null|     5|      1|       2|       1|       2|      1|     2|       1|       3|       2|      1|       7|       1|   68| 2509|       3|       1|      4|      1| 5.4E-79|       1|      2|      2|  168.0| 5.4E-79|      2|       1|      2|       2|     1|\n",
            "|     1|     1|b'02012015'| b'02'|b'01'|b'2015'|    1200|      88|       1|      3|  null|      1|       7|       2|       1|       2|       1|       2|       1|       2|       3|  2|      2|    4|       1|       2|      7|      88|     99|       2|    158|    511|       2|       2|    2|     2|    null|    null|    null|    null|   null|    null|    null|    null|       3|   null|    null|    null|    null|    null|    null|    null|    null|    null|    null|  null|   null|    null|  null|  null|   null|  null|   null|     5|      2|       9|       1|       1|      2|  null|       1|       3|       1|      1|      11|       2|   71| 2204|       2|       1|      2|      9| 99900.0|       9|      9|      9|   null|    null|      9|       9|      9|       9|     2|\n",
            "|     1|     1|b'01142015'| b'01'|b'14'|b'2015'|    1100|      30|       1|      1|     1|      1|       2|       2|       2|       2|       1|       2|       1|       2|       3|  2|      1|    4|       1|       2|      8|       1|      8|       2|    180|    507|       1|       2|    1|     1|       1|       2|       1|       2|    888|     555|    null|       1|       3|   null|       2|       4|       7|    null|    null|    null|    null|    null|    null|  null|   null|    null|  null|  null|   null|  null|   null|     3|      2|       1|       2|       1|      2|     2|       1|       3|       1|      1|       9|       1|   67| 2819|       3|       2|      2|      5| 5.4E-79|       1|      1|      2|   null|    null|      4|       2|      4|       1|     3|\n",
            "|     1|     1|b'01142015'| b'01'|b'14'|b'2015'|    1100|      88|       1|      3|  null|      2|       2|       2|       2|       2|       2|       2|       1|       2|       3|  2|      1|    5|       1|       2|      8|      88|     77|       1|    142|    504|       2|       2|    2|     2|       2|       2|       2|       2|    888|     777|    null|       1|       3|   null|       2|       5|       5|    null|    null|    null|    null|    null|    null|  null|   null|    null|  null|  null|   null|  null|   null|     3|      2|       1|       1|       1|      1|     2|       1|       3|       1|      1|       9|       1|   64| 2437|       2|       1|      3|      9| 5.4E-79|       1|      9|      1|   null|    null|      4|       2|      4|       1|     4|\n",
            "|     1|     1|b'01142015'| b'01'|b'14'|b'2015'|    1100|      88|       1|      1|     1|      2|       2|       2|       2|       2|       2|       2|       1|       2|       3|  2|      3|    3|       1|       2|      2|      88|      6|       2|    145|    502|       1|       2|    2|     2|       2|       2|       2|       2|    888|     101|      18|       1|       3|   null|       2|       5|       5|    null|    null|    null|    null|    null|    null|  null|   null|    null|  null|  null|   null|  null|   null|     5|      1|       9|       2|       1|      1|     2|       1|       3|       1|      1|      11|       2|   62| 2652|       3|       1|      1|      4| 5.4E-79|       1|      1|      1|  330.0|    60.0|      1|       1|      2|       1|     5|\n",
            "|     1|     1|b'01052015'| b'01'|b'05'|b'2015'|    1100|       3|       1|      1|     1|      1|       2|       2|       2|       2|       2|       2|       2|       2|       3|  2|      3|    5|       1|       2|      7|      88|      4|       2|    148|    506|       2|       2|    2|     2|       2|       2|       2|       2|    203|     330|      18|    null|       3|   null|       8|       4|       5|       2|    null|    null|    null|    null|    null|  null|   null|    null|  null|  null|   null|  null|   null|     1|      1|       9|       2|       1|      2|     2|       1|       3|       2|      1|      11|       2|   66| 2389|       2|       1|      3|      2|    70.0|       1|      1|      1|  345.0|   120.0|      1|       1|      2|       1|     6|\n",
            "|     1|     1|b'01142015'| b'01'|b'14'|b'2015'|    1100|      88|       1|      1|     1|      1|       7|       2|       2|       2|       2|       2|       1|       7|       3|  1|      1|    3|       1|       1|      3|      88|      3|       2|    179|    501|       1|       2|    2|     2|       1|       2|       2|       1|    888|     102|      64|       1|       3|   null|       2|       4|       2|       1|    null|    null|    null|    null|    null|  null|   null|    null|  null|  null|   null|  null|   null|     5|      2|       9|       2|       1|      2|  null|       1|       3|       1|      1|      13|       2|   61| 3382|       4|       1|      1|      2| 5.4E-79|       1|      1|      1|  144.0|    72.0|      3|       2|      4|       1|     7|\n",
            "|     1|     1|b'01132015'| b'01'|b'13'|b'2015'|    1100|      88|       1|      3|  null|   null|       2|       2|       2|       2|       2|       2|       1|       2|       3|  2|      3|    3|       1|       2|      5|      88|     77|       2|     84|    503|       1|       1|    2|     2|       7|       2|       2|       2|    888|     777|      98|       2|       3|   null|       2|       5|       5|    null|    null|    null|    null|    null|    null|  null|   null|    null|  null|  null|   null|  null|   null|     1|      2|       9|       1|       9|   null|     2|       1|       3|       1|      1|      13|       2|   63| 1488|       1|       1|      1|      9| 5.4E-79|       1|      9|      9|  360.0|   180.0|      1|       1|      9|       1|     8|\n",
            "|     1|     1|b'01302015'| b'01'|b'30'|b'2015'|    1100|      88|       1|      1|     1|      1|       2|       2|       2|       2|       2|       2|       2|       2|       3|  1|      1|    6|       1|       2|      7|      88|      8|       1|    161|    507|       2|       2|    2|     2|       2|       2|       2|       1|    888|     201|      64|    null|       3|   null|       2|       5|       5|       1|    null|    null|    null|    null|    null|  null|   null|    null|  null|  null|   null|  null|   null|     1|      1|       9|       2|       1|      2|     2|       1|       3|       2|      1|      10|       2|   67| 2522|       3|       1|      4|      5| 5.4E-79|       1|      1|      1|  300.0| 5.4E-79|      2|       1|      2|       2|     9|\n",
            "+------+------+-----------+------+-----+-------+--------+--------+--------+-------+------+-------+--------+--------+--------+--------+--------+--------+--------+--------+--------+---+-------+-----+--------+--------+-------+--------+-------+--------+-------+-------+--------+--------+-----+------+--------+--------+--------+--------+-------+--------+--------+--------+--------+-------+--------+--------+--------+--------+--------+--------+--------+--------+--------+------+-------+--------+------+------+-------+------+-------+------+-------+--------+--------+--------+-------+------+--------+--------+--------+-------+--------+--------+-----+-----+--------+--------+-------+-------+--------+--------+-------+-------+-------+--------+-------+--------+-------+--------+------+\n",
            "only showing top 10 rows\n",
            "\n"
          ]
        }
      ]
    },
    {
      "cell_type": "code",
      "source": [
        "#remove na\n",
        "survey_data_df.describe().show()\n",
        "\n"
      ],
      "metadata": {
        "colab": {
          "base_uri": "https://localhost:8080/"
        },
        "id": "U9odO8eiF22p",
        "outputId": "30c27d35-4cd2-487b-fd4d-9ef1da197fce"
      },
      "execution_count": 16,
      "outputs": [
        {
          "output_type": "stream",
          "name": "stdout",
          "text": [
            "+-------+------------------+------------------+-----------+------+------+-------+------------------+------------------+------------------+------------------+------------------+------------------+------------------+------------------+------------------+------------------+-------------------+-------------------+------------------+------------------+------------------+-------------------+------------------+------------------+------------------+------------------+------------------+-----------------+------------------+------------------+-----------------+------------------+------------------+-------------------+------------------+------------------+------------------+-------------------+-------------------+------------------+-----------------+------------------+------------------+------------------+------------------+------------------+------------------+------------------+------------------+------------------+------------------+------------------+------------------+------------------+------------------+-----------------+-----------------+-----------------+-----------------+-----------------+------------------+-----------------+------------------+------------------+------------------+------------------+------------------+------------------+------------------+-------------------+------------------+------------------+------------------+------------------+-----------------+------------------+-----------------+-----------------+-----------------+------------------+-----------------+-----------------+------------------+------------------+------------------+------------------+-----------------+------------------+------------------+------------------+------------------+------------------+------------------+\n",
            "|summary|            _STATE|            FMONTH|      IDATE|IMONTH|  IDAY|  IYEAR|          DISPCODE|          MENTHLTH|          HLTHPLN1|           BPHIGH4|            BPMEDS|           TOLDHI2|          CVDINFR4|          CVDCRHD4|          CVDSTRK3|          CHCSCNCR|           CHCOCNCR|           CHCCOPD1|          HAVARTH3|          CHCKIDNY|          DIABETE3|                SEX|           MARITAL|             EDUCA|          RENTHOM1|          VETERAN3|           EMPLOY1|         CHILDREN|           INCOME2|          INTERNET|          WEIGHT2|           HEIGHT3|          QLACTLM2|           USEEQUIP|             BLIND|            DECIDE|          DIFFWALK|           DIFFDRES|           DIFFALON|          SMOKE100|          ALCDAY5|          FRUITJU1|          EXRACT11|          LMTJOIN3|          PREDIAB1|           INSULIN|          CAREGIV1|          SCNTMNY1|          SCNTMEL1|          SCNTLPAD|          SXORIENT|          TRNSGNDR|          EMTSUPRT|          LSATISFY|          ADPLEASR|           ADDOWN|          ADSLEEP|         ADENERGY|           ADEAT1|           ADFAIL|           ADTHINK|           ADMOVE|           MISTMNT|            MSCODE|           _RFHLTH|          _HCVU651|          _RFHYPE5|          _CHOLCHK|           _RFCHOL|             _MICHD|          _LTASTH1|          _ASTHMS1|          _DRDXAR1|           _PRACE1|         _AGEG5YR|          _AGE65YR|            HTIN4|            _BMI5|         _BMI5CAT|          _CHLDCNT|          _EDUCAG|          _INCOMG|          _DRNKWEK|          _RFDRHV5|           _FRTLT1|           _VEGLT1|          PA1MIN_|          PA1VIGM_|           _PACAT1|          _PAINDX1|           _PAREC1|          _RFSEAT3|            RECORD|\n",
            "+-------+------------------+------------------+-----------+------+------+-------+------------------+------------------+------------------+------------------+------------------+------------------+------------------+------------------+------------------+------------------+-------------------+-------------------+------------------+------------------+------------------+-------------------+------------------+------------------+------------------+------------------+------------------+-----------------+------------------+------------------+-----------------+------------------+------------------+-------------------+------------------+------------------+------------------+-------------------+-------------------+------------------+-----------------+------------------+------------------+------------------+------------------+------------------+------------------+------------------+------------------+------------------+------------------+------------------+------------------+------------------+------------------+-----------------+-----------------+-----------------+-----------------+-----------------+------------------+-----------------+------------------+------------------+------------------+------------------+------------------+------------------+------------------+-------------------+------------------+------------------+------------------+------------------+-----------------+------------------+-----------------+-----------------+-----------------+------------------+-----------------+-----------------+------------------+------------------+------------------+------------------+-----------------+------------------+------------------+------------------+------------------+------------------+------------------+\n",
            "|  count|            441456|            441456|     441456|441456|441456| 441456|            441456|            441456|            441456|            441455|            178188|            382302|            441456|            441455|            441456|            441455|             441456|             441456|            441455|            441456|            441449|             441456|            441456|            441456|            441456|            441450|            441456|           441451|            438155|            437146|           436141|            435545|            432118|             431026|            430302|            429716|            429122|             428728|             428130|            427201|           425525|            413458|            295778|            136690|             82760|             29424|            108995|             69502|             73360|             25705|            166997|            166907|             20064|             20052|             20445|            20429|            20419|            20413|            20402|            20395|             20381|            20365|             20350|            250579|            441456|            441456|            441456|            441456|            382302|             437514|            441456|            441456|            438657|            441456|           441456|            441456|           424196|           405058|           405058|            441456|           441456|           441456|            441456|            441456|            441456|            441456|           289037|            290486|            441456|            441456|            441456|            441456|            441456|\n",
            "|   mean|29.968714888913052|  6.35967570947048|       null|  null|  null|   null|1115.0404570330904| 64.67917753977747|1.1012014787430684|2.2097427823900513|1.1733281702471547|  1.63087559050175|1.9684113479033019|1.9869522374873996| 1.973879616541626|1.9203293653939812| 1.9147457504258636| 1.9471974556920735|1.6974187629543216|1.9833097749266064|2.7578882271791305|  1.576542169548041| 2.263652549744482| 4.920093961799138|1.3759423362690733|1.8814769509570732|3.9427689282737126|65.90665102129115| 20.25301320309023|1.2338189071843275|733.2043880304764| 742.1832256138861| 1.795576671187037| 1.8990269728508258|1.9741553606536804|1.9408911932532185|1.8566002209161963| 1.9737012744677278| 1.9482213346413473| 1.613987326808692|536.0344680101051| 367.9283530612541| 52.43254400259654|1.5765235203745702| 2.798985016916385|1.6817563893420338| 1.808734345612184| 4.119104486201836|4.3277808069792805|1.8761719509822992|1.2555554890207608| 4.052406429928044|1.8224681020733653|1.6729004588071015|  63.3676204450966| 66.9014146556366|51.24305793623586|39.25581737128301| 59.7513969218704|74.08031380240254| 76.00785044894755|78.98369752025533|1.8790663390663391| 2.542044624649312|1.2086572614258273|3.9531482186220144|1.4284096263274255|1.5336092385198072| 1.492955830730679| 1.9116988256375795|1.1616310572288064| 2.823792178608967|1.6625244781229982| 3.123484560182668|7.803622558080534|1.3698896379254104|66.72517656932173|2804.242399853848|2.938460664892435|1.5659635388351274|2.956398825704034|4.677847848936247| 6069.623822079664|1.5163119314269147|2.1317458591569713|2.1093155376753288| 483.804018170684|131.43913303911376|3.2574639375158565|  2.38012168823167|3.4941239897067886|1.8870283788191802|          220727.5|\n",
            "| stddev|16.034709587896554|3.4871310201584778|       null|  null|  null|   null| 35.74679356435841|35.843085038113635|0.5122608410591796|1.0390224916648874| 0.454448298767634|0.7402354553200358|0.4396776217464032|0.5342790270699614|0.3486887819595279|0.4098908304039635|0.40381731498032447|0.47031260277120224|0.6442137247988007|0.3680720880985972|0.7233186065267244|0.49410712332313617|1.6878436945029387|1.0761982009143205|0.8266109305138887|0.4480507050690258|2.8717675902037745|37.70854639079993|31.853506675722198|0.5751523567052652|2197.377381409794|1380.4981424051946|0.6790981694385525|0.46327314849991114|0.4415166928599488|0.5670656454571285|0.5798381526214896|0.39544366642939077|0.49259675385028273|0.7465300192132662|355.8804254696303|192.65527781549866|23.595075132192214|0.8371485242061107|0.6792724207991416|0.5307384188131884|0.5970556484111393|1.3919197220231316|1.1790587623563042|1.2519958439284669|1.2425076866868285|0.5500955052273727|1.2518964605840963|0.8915440739718961|37.495980978616224|35.96987312354337|40.08539023519282|39.79065842909612|38.76323461332589| 30.6758643212866|28.778209051100134|25.33595772143195|0.5406191068087842|1.7244025849043059|0.5685998428486596|3.7991855496314924|0.6467486074725941|1.5554618017626105|0.8783913888870708|0.28373272806020766|0.5699988269908689|0.8003311458426646| 0.472849134203823|12.578508278875322|3.495609125554156|0.5071946629012435|4.129767867083156|665.4634334419826|0.826481571126712|1.2008283581497132| 1.04951083993016|2.415903075374159|23357.350543406337|1.8745797082682576| 2.322881636247381| 2.522516939462461|744.4641562680914| 316.5299121913188| 2.469185984178152|2.4963149925686086| 2.398322174631907|2.3513869959305445|127437.51455517327|\n",
            "|    min|                 1|                 1|b'01012016'| b'01'| b'01'|b'2015'|              1100|                 1|                 1|                 1|                 1|                 1|                 1|                 1|                 1|                 1|                  1|                  1|                 1|                 1|                 1|                  1|                 1|                 1|                 1|                 1|                 1|                1|                 1|                 1|               50|               200|                 1|                  1|                 1|                 1|                 1|                  1|                  1|                 1|              101|               101|                 1|                 1|                 1|                 1|                 1|                 1|                 1|                 1|                 1|                 1|                 1|                 1|                 1|                1|                1|                1|                1|                1|                 1|                1|                 1|                 1|                 1|                 1|                 1|                 1|                 1|                  1|                 1|                 1|                 1|                 1|                1|                 1|               36|             1202|                1|                 1|                1|                1|           5.4E-79|                 1|                 1|                 1|          5.4E-79|           5.4E-79|                 1|                 1|                 1|                 1|                 0|\n",
            "|    max|                72|                12|b'12312015'| b'12'| b'31'|b'2016'|              1200|                99|                 9|                 9|                 9|                 9|                 9|                 9|                 9|                 9|                  9|                  9|                 9|                 9|                 9|                  2|                 9|                 9|                 9|                 9|                 9|               99|                99|                 9|             9999|              9999|                 9|                  9|                 9|                 9|                 9|                  9|                  9|                 9|              999|               999|                99|                 9|                 9|                 9|                 9|                 9|                 9|                 9|                 9|                 9|                 9|                 9|                99|               99|               99|               99|               99|               99|                99|               99|                 9|                 5|                 9|                 9|                 9|                 9|                 9|                  2|                 9|                 9|                 2|                99|               14|                 3|               95|             9995|                4|                 9|                9|                9|           99900.0|                 9|                 9|                 9|          54000.0|           19200.0|                 9|                 9|                 9|                 9|            441455|\n",
            "+-------+------------------+------------------+-----------+------+------+-------+------------------+------------------+------------------+------------------+------------------+------------------+------------------+------------------+------------------+------------------+-------------------+-------------------+------------------+------------------+------------------+-------------------+------------------+------------------+------------------+------------------+------------------+-----------------+------------------+------------------+-----------------+------------------+------------------+-------------------+------------------+------------------+------------------+-------------------+-------------------+------------------+-----------------+------------------+------------------+------------------+------------------+------------------+------------------+------------------+------------------+------------------+------------------+------------------+------------------+------------------+------------------+-----------------+-----------------+-----------------+-----------------+-----------------+------------------+-----------------+------------------+------------------+------------------+------------------+------------------+------------------+------------------+-------------------+------------------+------------------+------------------+------------------+-----------------+------------------+-----------------+-----------------+-----------------+------------------+-----------------+-----------------+------------------+------------------+------------------+------------------+-----------------+------------------+------------------+------------------+------------------+------------------+------------------+\n",
            "\n"
          ]
        }
      ]
    },
    {
      "cell_type": "code",
      "source": [
        "joined_df=user_data_df.join(user_payment_df,on=\"username\", how=\"inner\")\n",
        "joined_df.show()"
      ],
      "metadata": {
        "colab": {
          "base_uri": "https://localhost:8080/"
        },
        "id": "q4YDDtaTiaOh",
        "outputId": "614d6eb9-7220-4f46-e65c-ddca89fbf278"
      },
      "execution_count": null,
      "outputs": [
        {
          "output_type": "stream",
          "name": "stdout",
          "text": [
            "+------------+---+----------+---------+-----------+--------------------+--------------------+----------+--------------------+\n",
            "|    username| id|first_name|last_name|active_user|      street_address|               state|billing_id|        cc_encrypted|\n",
            "+------------+---+----------+---------+-----------+--------------------+--------------------+----------+--------------------+\n",
            "|   ibearham0|  1|    Cletus|  Lithcow|      false| 78309 Riverside Way|            Virginia|         1|a799fcafe47d7fb19...|\n",
            "|    wwaller1|  2|       Caz|   Felgat|      false| 83 Hazelcrest Place|             Alabama|         2|a799fcafe47d7fb19...|\n",
            "|   ichesnut2|  3|     Kerri|  Crowson|      false|      112 Eliot Pass|      North Carolina|         3|a799fcafe47d7fb19...|\n",
            "|     tsnarr3|  4|   Freddie|    Caghy|      false|     15 Merchant Way|            New York|         4|a799fcafe47d7fb19...|\n",
            "|   fwherrit4|  5|   Sadella|    Deuss|      false|    079 Acker Avenue|           Tennessee|         5|a799fcafe47d7fb19...|\n",
            "|  fstappard5|  6|    Fraser|  Korneev|       true|  76084 Novick Court|           Minnesota|         6|a799fcafe47d7fb19...|\n",
            "|  lhambling6|  7|    Demott|   Rapson|       true|    86320 Dahle Park|District of Columbia|         7|a799fcafe47d7fb19...|\n",
            "|      drude7|  8|    Robert|    Poile|      false|1540 Manitowish Hill|             Georgia|         8|a799fcafe47d7fb19...|\n",
            "|   bspawton8|  9|    Nollie|     null|       true|       4 Katie Court|                Ohio|         9|a799fcafe47d7fb19...|\n",
            "| rmackeller9| 10|   Merilyn| Frascone|      false|     387 Duke Street|                Ohio|        10|a799fcafe47d7fb19...|\n",
            "| cdennerleya| 11|    Rickie| Tredwell|      false|  04 Monterey Center|            Missouri|        11|a799fcafe47d7fb19...|\n",
            "|    gsarfasb| 12|  Charmane| Connerry|      false|    0 Larry Junction|             Florida|        12|a799fcafe47d7fb19...|\n",
            "| mpichefordc| 13|     Nerti|   Kerins|      false|    68 Portage Trail|          California|        13|a799fcafe47d7fb19...|\n",
            "|     bingryd| 14|      Bart|     null|      false|    8 Homewood Court|District of Columbia|        14|a799fcafe47d7fb19...|\n",
            "|   wheinerte| 15|   Sadella|    Jaram|       true|7528 Waxwing Terrace|         Connecticut|        15|a799fcafe47d7fb19...|\n",
            "|    mdrewetf| 16|     Dicky|  Runnett|      false|  1793 Delaware Park|             Florida|        16|a799fcafe47d7fb19...|\n",
            "|droughsedgeg| 17|    Hewitt|  Trammel|       true|    2455 Corry Alley|      North Carolina|        17|a799fcafe47d7fb19...|\n",
            "|     abaakeh| 18|  Gilligan|     Boys|      false|       2 Raven Court|             Florida|        18|a799fcafe47d7fb19...|\n",
            "|   ydudeniei| 19|       Ted|  Knowlys|       true|      31 South Drive|                Ohio|        19|a799fcafe47d7fb19...|\n",
            "|   ckermittj| 20|      Darb|   Carrel|      false|406 Park Meadow C...|           Minnesota|        20|a799fcafe47d7fb19...|\n",
            "+------------+---+----------+---------+-----------+--------------------+--------------------+----------+--------------------+\n",
            "only showing top 20 rows\n",
            "\n"
          ]
        }
      ]
    },
    {
      "cell_type": "code",
      "source": [
        "dropna_df=joined_df.dropna()\n",
        "dropna_df.show()"
      ],
      "metadata": {
        "colab": {
          "base_uri": "https://localhost:8080/"
        },
        "id": "8uz0jJ9bjWpL",
        "outputId": "bbd703a7-e78b-45ec-d41d-e9ce02249e05"
      },
      "execution_count": null,
      "outputs": [
        {
          "output_type": "stream",
          "name": "stdout",
          "text": [
            "+------------+---+----------+---------+-----------+--------------------+--------------------+----------+--------------------+\n",
            "|    username| id|first_name|last_name|active_user|      street_address|               state|billing_id|        cc_encrypted|\n",
            "+------------+---+----------+---------+-----------+--------------------+--------------------+----------+--------------------+\n",
            "|   ibearham0|  1|    Cletus|  Lithcow|      false| 78309 Riverside Way|            Virginia|         1|a799fcafe47d7fb19...|\n",
            "|    wwaller1|  2|       Caz|   Felgat|      false| 83 Hazelcrest Place|             Alabama|         2|a799fcafe47d7fb19...|\n",
            "|   ichesnut2|  3|     Kerri|  Crowson|      false|      112 Eliot Pass|      North Carolina|         3|a799fcafe47d7fb19...|\n",
            "|     tsnarr3|  4|   Freddie|    Caghy|      false|     15 Merchant Way|            New York|         4|a799fcafe47d7fb19...|\n",
            "|   fwherrit4|  5|   Sadella|    Deuss|      false|    079 Acker Avenue|           Tennessee|         5|a799fcafe47d7fb19...|\n",
            "|  fstappard5|  6|    Fraser|  Korneev|       true|  76084 Novick Court|           Minnesota|         6|a799fcafe47d7fb19...|\n",
            "|  lhambling6|  7|    Demott|   Rapson|       true|    86320 Dahle Park|District of Columbia|         7|a799fcafe47d7fb19...|\n",
            "|      drude7|  8|    Robert|    Poile|      false|1540 Manitowish Hill|             Georgia|         8|a799fcafe47d7fb19...|\n",
            "| rmackeller9| 10|   Merilyn| Frascone|      false|     387 Duke Street|                Ohio|        10|a799fcafe47d7fb19...|\n",
            "| cdennerleya| 11|    Rickie| Tredwell|      false|  04 Monterey Center|            Missouri|        11|a799fcafe47d7fb19...|\n",
            "|    gsarfasb| 12|  Charmane| Connerry|      false|    0 Larry Junction|             Florida|        12|a799fcafe47d7fb19...|\n",
            "| mpichefordc| 13|     Nerti|   Kerins|      false|    68 Portage Trail|          California|        13|a799fcafe47d7fb19...|\n",
            "|   wheinerte| 15|   Sadella|    Jaram|       true|7528 Waxwing Terrace|         Connecticut|        15|a799fcafe47d7fb19...|\n",
            "|    mdrewetf| 16|     Dicky|  Runnett|      false|  1793 Delaware Park|             Florida|        16|a799fcafe47d7fb19...|\n",
            "|droughsedgeg| 17|    Hewitt|  Trammel|       true|    2455 Corry Alley|      North Carolina|        17|a799fcafe47d7fb19...|\n",
            "|     abaakeh| 18|  Gilligan|     Boys|      false|       2 Raven Court|             Florida|        18|a799fcafe47d7fb19...|\n",
            "|   ydudeniei| 19|       Ted|  Knowlys|       true|      31 South Drive|                Ohio|        19|a799fcafe47d7fb19...|\n",
            "|   ckermittj| 20|      Darb|   Carrel|      false|406 Park Meadow C...|           Minnesota|        20|a799fcafe47d7fb19...|\n",
            "|     ipowisk| 21|   Diandra|Cancellor|      false|      1 Fisk Parkway|      North Carolina|        21|a799fcafe47d7fb19...|\n",
            "|    dtaltonl| 22|    Ulrika| Itzhayek|      false|  890 Lakewood Alley|          California|        22|a799fcafe47d7fb19...|\n",
            "+------------+---+----------+---------+-----------+--------------------+--------------------+----------+--------------------+\n",
            "only showing top 20 rows\n",
            "\n"
          ]
        }
      ]
    },
    {
      "cell_type": "code",
      "source": [
        "# load in a sql function to get columns\n",
        "from pyspark.sql.functions import col\n",
        "\n",
        "#filter only columns w active users\n",
        "cleaned_df = dropna_df.filter(col(\"active_user\")== True)\n",
        "cleaned_df.show()"
      ],
      "metadata": {
        "colab": {
          "base_uri": "https://localhost:8080/"
        },
        "id": "fKFO8NTLkECe",
        "outputId": "6035a6dd-0ed3-4042-9305-a60c61863b89"
      },
      "execution_count": null,
      "outputs": [
        {
          "output_type": "stream",
          "name": "stdout",
          "text": [
            "+-------------+---+----------+-----------+-----------+--------------------+--------------------+----------+--------------------+\n",
            "|     username| id|first_name|  last_name|active_user|      street_address|               state|billing_id|        cc_encrypted|\n",
            "+-------------+---+----------+-----------+-----------+--------------------+--------------------+----------+--------------------+\n",
            "|   fstappard5|  6|    Fraser|    Korneev|       true|  76084 Novick Court|           Minnesota|         6|a799fcafe47d7fb19...|\n",
            "|   lhambling6|  7|    Demott|     Rapson|       true|    86320 Dahle Park|District of Columbia|         7|a799fcafe47d7fb19...|\n",
            "|    wheinerte| 15|   Sadella|      Jaram|       true|7528 Waxwing Terrace|         Connecticut|        15|a799fcafe47d7fb19...|\n",
            "| droughsedgeg| 17|    Hewitt|    Trammel|       true|    2455 Corry Alley|      North Carolina|        17|a799fcafe47d7fb19...|\n",
            "|    ydudeniei| 19|       Ted|    Knowlys|       true|      31 South Drive|                Ohio|        19|a799fcafe47d7fb19...|\n",
            "|     fmyttonm| 23|  Annmarie|     Lafond|       true|     35 Oriole Place|             Georgia|        23|a799fcafe47d7fb19...|\n",
            "|   bfletcherr| 28|      Toma|     Sokell|       true|39641 Eggendart Hill|            Maryland|        28|a799fcafe47d7fb19...|\n",
            "|     gturleyt| 30|       Ram|    Lefever|       true|   9969 Laurel Alley|               Texas|        30|a799fcafe47d7fb19...|\n",
            "|    calyukinu| 31|    Raddie|    Heindle|       true|   811 Talmadge Road|                Ohio|        31|a799fcafe47d7fb19...|\n",
            "| ckleinlererw| 33|    Wallie|       Caws|       true|   9999 Kenwood Pass|              Oregon|        33|a799fcafe47d7fb19...|\n",
            "|  pshanklandx| 34|    Derril|Varfolomeev|       true|     4 Jenifer Court|             Florida|        34|a799fcafe47d7fb19...|\n",
            "|    enelane12| 39|     Kelcy|     Wheway|       true|93207 Morningstar...|             Florida|        39|a799fcafe47d7fb19...|\n",
            "|    sfollet13| 40|    Dorree|    Rookeby|       true|       2 Troy Circle|          California|        40|a799fcafe47d7fb19...|\n",
            "|      mtesh14| 41|    Martyn|       Tott|       true|       728 Muir Lane|             Florida|        41|a799fcafe47d7fb19...|\n",
            "|   tseyfart16| 43|     Cally|      Thody|       true|   1 Graceland Plaza|             Florida|        43|a799fcafe47d7fb19...|\n",
            "|   hfarrier18| 45|       Ted|   Pittaway|       true|767 Little Fleur ...|      North Carolina|        45|a799fcafe47d7fb19...|\n",
            "|     nabbie1b| 48|      Fifi|    Lidgley|       true|6744 Sutherland Road|      South Carolina|        48|a799fcafe47d7fb19...|\n",
            "|  ystadding1d| 50|    Ashely|     O'Hern|       true|   929 Scoville Park|             Florida|        50|a799fcafe47d7fb19...|\n",
            "|hhallgalley1g| 53|   Diannne|Osbaldeston|       true|        0 Mesta Pass|           Tennessee|        53|a799fcafe47d7fb19...|\n",
            "|   ageaveny1n| 60|     Sonny|     Jeskin|       true| 50 Sutherland Drive|       Massachusetts|        60|a799fcafe47d7fb19...|\n",
            "+-------------+---+----------+-----------+-----------+--------------------+--------------------+----------+--------------------+\n",
            "only showing top 20 rows\n",
            "\n"
          ]
        }
      ]
    },
    {
      "cell_type": "code",
      "source": [
        "# Create 3 DF that matches  DB tables \n",
        "\n",
        "clean_user_df = cleaned_df.select([\"id\",\"first_name\",\"last_name\",\"username\"])\n",
        "clean_user_df.show()"
      ],
      "metadata": {
        "colab": {
          "base_uri": "https://localhost:8080/"
        },
        "id": "wxDkhE9nmHin",
        "outputId": "d84d6973-2a8d-45ac-ca35-20098dc4f27b"
      },
      "execution_count": null,
      "outputs": [
        {
          "output_type": "stream",
          "name": "stdout",
          "text": [
            "+---+----------+-----------+-------------+\n",
            "| id|first_name|  last_name|     username|\n",
            "+---+----------+-----------+-------------+\n",
            "|  6|    Fraser|    Korneev|   fstappard5|\n",
            "|  7|    Demott|     Rapson|   lhambling6|\n",
            "| 15|   Sadella|      Jaram|    wheinerte|\n",
            "| 17|    Hewitt|    Trammel| droughsedgeg|\n",
            "| 19|       Ted|    Knowlys|    ydudeniei|\n",
            "| 23|  Annmarie|     Lafond|     fmyttonm|\n",
            "| 28|      Toma|     Sokell|   bfletcherr|\n",
            "| 30|       Ram|    Lefever|     gturleyt|\n",
            "| 31|    Raddie|    Heindle|    calyukinu|\n",
            "| 33|    Wallie|       Caws| ckleinlererw|\n",
            "| 34|    Derril|Varfolomeev|  pshanklandx|\n",
            "| 39|     Kelcy|     Wheway|    enelane12|\n",
            "| 40|    Dorree|    Rookeby|    sfollet13|\n",
            "| 41|    Martyn|       Tott|      mtesh14|\n",
            "| 43|     Cally|      Thody|   tseyfart16|\n",
            "| 45|       Ted|   Pittaway|   hfarrier18|\n",
            "| 48|      Fifi|    Lidgley|     nabbie1b|\n",
            "| 50|    Ashely|     O'Hern|  ystadding1d|\n",
            "| 53|   Diannne|Osbaldeston|hhallgalley1g|\n",
            "| 60|     Sonny|     Jeskin|   ageaveny1n|\n",
            "+---+----------+-----------+-------------+\n",
            "only showing top 20 rows\n",
            "\n"
          ]
        }
      ]
    },
    {
      "cell_type": "code",
      "source": [
        "# billing info table\n",
        "clean_billing_df= cleaned_df.select([\"billing_id\",\"street_address\",\"state\",\"username\"])\n",
        "clean_billing_df.show()"
      ],
      "metadata": {
        "colab": {
          "base_uri": "https://localhost:8080/"
        },
        "id": "yvQwOSu2mjlb",
        "outputId": "14910809-2af6-4f57-a6db-865916b5449c"
      },
      "execution_count": null,
      "outputs": [
        {
          "output_type": "stream",
          "name": "stdout",
          "text": [
            "+----------+--------------------+--------------------+-------------+\n",
            "|billing_id|      street_address|               state|     username|\n",
            "+----------+--------------------+--------------------+-------------+\n",
            "|         6|  76084 Novick Court|           Minnesota|   fstappard5|\n",
            "|         7|    86320 Dahle Park|District of Columbia|   lhambling6|\n",
            "|        15|7528 Waxwing Terrace|         Connecticut|    wheinerte|\n",
            "|        17|    2455 Corry Alley|      North Carolina| droughsedgeg|\n",
            "|        19|      31 South Drive|                Ohio|    ydudeniei|\n",
            "|        23|     35 Oriole Place|             Georgia|     fmyttonm|\n",
            "|        28|39641 Eggendart Hill|            Maryland|   bfletcherr|\n",
            "|        30|   9969 Laurel Alley|               Texas|     gturleyt|\n",
            "|        31|   811 Talmadge Road|                Ohio|    calyukinu|\n",
            "|        33|   9999 Kenwood Pass|              Oregon| ckleinlererw|\n",
            "|        34|     4 Jenifer Court|             Florida|  pshanklandx|\n",
            "|        39|93207 Morningstar...|             Florida|    enelane12|\n",
            "|        40|       2 Troy Circle|          California|    sfollet13|\n",
            "|        41|       728 Muir Lane|             Florida|      mtesh14|\n",
            "|        43|   1 Graceland Plaza|             Florida|   tseyfart16|\n",
            "|        45|767 Little Fleur ...|      North Carolina|   hfarrier18|\n",
            "|        48|6744 Sutherland Road|      South Carolina|     nabbie1b|\n",
            "|        50|   929 Scoville Park|             Florida|  ystadding1d|\n",
            "|        53|        0 Mesta Pass|           Tennessee|hhallgalley1g|\n",
            "|        60| 50 Sutherland Drive|       Massachusetts|   ageaveny1n|\n",
            "+----------+--------------------+--------------------+-------------+\n",
            "only showing top 20 rows\n",
            "\n"
          ]
        }
      ]
    },
    {
      "cell_type": "code",
      "source": [
        "# payment df\n",
        "clean_payment_df=cleaned_df.select([\"billing_id\",\"cc_encrypted\"])\n",
        "clean_payment_df.show()"
      ],
      "metadata": {
        "colab": {
          "base_uri": "https://localhost:8080/"
        },
        "id": "RHPbpzz-m2mo",
        "outputId": "be68d198-0856-4207-cfd7-08076f1d6738"
      },
      "execution_count": null,
      "outputs": [
        {
          "output_type": "stream",
          "name": "stdout",
          "text": [
            "+----------+--------------------+\n",
            "|billing_id|        cc_encrypted|\n",
            "+----------+--------------------+\n",
            "|         6|a799fcafe47d7fb19...|\n",
            "|         7|a799fcafe47d7fb19...|\n",
            "|        15|a799fcafe47d7fb19...|\n",
            "|        17|a799fcafe47d7fb19...|\n",
            "|        19|a799fcafe47d7fb19...|\n",
            "|        23|a799fcafe47d7fb19...|\n",
            "|        28|a799fcafe47d7fb19...|\n",
            "|        30|a799fcafe47d7fb19...|\n",
            "|        31|a799fcafe47d7fb19...|\n",
            "|        33|a799fcafe47d7fb19...|\n",
            "|        34|a799fcafe47d7fb19...|\n",
            "|        39|a799fcafe47d7fb19...|\n",
            "|        40|a799fcafe47d7fb19...|\n",
            "|        41|a799fcafe47d7fb19...|\n",
            "|        43|a799fcafe47d7fb19...|\n",
            "|        45|a799fcafe47d7fb19...|\n",
            "|        48|a799fcafe47d7fb19...|\n",
            "|        50|a799fcafe47d7fb19...|\n",
            "|        53|a799fcafe47d7fb19...|\n",
            "|        60|a799fcafe47d7fb19...|\n",
            "+----------+--------------------+\n",
            "only showing top 20 rows\n",
            "\n"
          ]
        }
      ]
    },
    {
      "cell_type": "code",
      "source": [
        "#LOAD\n",
        "# Store environmental variable\n",
        "from getpass import getpass\n",
        "password = getpass('password')\n",
        "# Configure settings for RDS\n",
        "mode = \"append\"\n",
        "jdbc_url=\"jdbc:postgresql://dataviz.cs8v5ggqsbn0.us-west-1.rds.amazonaws.com:5432/my_data_class_db\"\n",
        "config = {\"user\":\"postgres\",\n",
        "          \"password\": password,\n",
        "          \"driver\":\"org.postgresql.Driver\"}"
      ],
      "metadata": {
        "id": "TFhxWtN-nAcu"
      },
      "execution_count": null,
      "outputs": []
    },
    {
      "cell_type": "code",
      "source": [
        "#Write DataFrame to active_user table in RDS\n",
        "clean_user_df.write.jdbc(url=jdbc_url, table='active_user', mode=mode, properties=config)\n"
      ],
      "metadata": {
        "id": "78fjZTSnnIoM"
      },
      "execution_count": null,
      "outputs": []
    },
    {
      "cell_type": "code",
      "source": [
        "# Write dataframe to billing_info table in RDS\n",
        "clean_billing_df.write.jdbc(url=jdbc_url, table='billing_info', mode=mode, properties=config)\n",
        "# Write dataframe to payment_info table in RDS\n",
        "clean_payment_df.write.jdbc(url=jdbc_url, table='payment_info', mode=mode, properties=config)"
      ],
      "metadata": {
        "id": "5r6Su_WgtHTh"
      },
      "execution_count": null,
      "outputs": []
    }
  ]
}